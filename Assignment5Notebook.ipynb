{
    "metadata": {
        "kernelspec": {
            "name": "SQL",
            "display_name": "SQL",
            "language": "sql"
        },
        "language_info": {
            "name": "sql",
            "version": ""
        }
    },
    "nbformat_minor": 2,
    "nbformat": 4,
    "cells": [
        {
            "cell_type": "markdown",
            "source": [
                "Attempting to preprocess the data into geometry objects using python...\n",
                "\n",
                "(apparently we can't just put python into a SQL notebook, but we have the code in another notebook...)"
            ],
            "metadata": {
                "azdata_cell_guid": "a871231f-e3ee-48b1-9875-408df27e76a6"
            },
            "attachments": {}
        },
        {
            "cell_type": "markdown",
            "source": [
                "'POLYGON( 5 5, 10 5, 10 10, 5 5)'\n",
                ""
            ],
            "metadata": {
                "azdata_cell_guid": "878b455b-d820-44fa-80e8-faae6834d107",
                "language": "",
                "tags": [
                    "hide_input"
                ]
            },
            "attachments": {}
        },
        {
            "cell_type": "markdown",
            "source": [
                "Attempting to process the data into geometry objects using SQL queries. We tested this out on a small subset of the data (one cell from one z layer)."
            ],
            "metadata": {
                "azdata_cell_guid": "855a4112-77a0-4efe-85e9-7ba34a950377"
            },
            "attachments": {}
        },
        {
            "cell_type": "code",
            "source": [
                "SELECT * INTO NewTable\n",
                "    FROM [MouseIleum].[dbo].[Cells]\n",
                "    WHERE z = 1 AND cell = 1;"
            ],
            "metadata": {
                "azdata_cell_guid": "c8cd3c48-9636-4ad7-ad47-e501e94d273f",
                "language": "sql"
            },
            "outputs": [],
            "execution_count": null
        },
        {
            "cell_type": "code",
            "source": [
                "DECLARE @BuildString NVARCHAR(MAX);\n",
                "\n",
                "SELECT @BuildString = COALESCE(@BuildString + ',', '') + CAST([x] AS NVARCHAR(50)) + ' ' + CAST([y] AS NVARCHAR(50))\n",
                "    FROM [MouseIleum].[dbo].[NewTable];\n",
                "SET @BuildString = 'POLYGON((' + @BuildString + '))';\n",
                "\n",
                "SELECT @BuildString as polygon_text -- 'POLYGON((2053 51,2053 54,2053 57,2056 57,2059 57, ... 2053 51))'\n",
                "\n",
                "\n",
                "DECLARE @PolygonFromPoints geometry = geometry::STPolyFromText(@BuildString, 0);\n",
                "-- SELECT @PolygonFromPoints.STIsValid() as is_valid; -- False\n",
                "SET @PolygonFromPoints = @PolygonFromPoints.MakeValid(); -- see figures\n",
                "-- SELECT @PolygonFromPoints.STIsValid() as is_valid; -- True\n",
                "\n",
                "SELECT * FROM [MouseIleum].[dbo].[MoleculesLayer0] as b\n",
                "    WHERE @PolygonFromPoints.STIntersects(geometry::Point(b.[x_pixel], b.[y_pixel],0)) = 1; -- =1 is needed bc output is 0 or 1 instead of bool\n",
                "\n",
                "SELECT gene, COUNT(molecule_id) as molecule_count\n",
                "FROM [MouseIleum].[dbo].[MoleculesLayer0] as b\n",
                "    WHERE @PolygonFromPoints.STIntersects(geometry::Point(b.[x_pixel], b.[y_pixel],0)) = 1\n",
                "    GROUP BY gene"
            ],
            "metadata": {
                "azdata_cell_guid": "4fc28bfe-977d-476b-a0b9-fabad491e57e",
                "language": "sql"
            },
            "outputs": [
                {
                    "output_type": "display_data",
                    "data": {
                        "text/html": "(1 row affected)"
                    },
                    "metadata": {}
                },
                {
                    "output_type": "display_data",
                    "data": {
                        "text/html": "(9 rows affected)"
                    },
                    "metadata": {}
                },
                {
                    "output_type": "display_data",
                    "data": {
                        "text/html": "(6 rows affected)"
                    },
                    "metadata": {}
                },
                {
                    "output_type": "display_data",
                    "data": {
                        "text/html": "Total execution time: 00:00:01.422"
                    },
                    "metadata": {}
                },
                {
                    "output_type": "execute_result",
                    "metadata": {},
                    "execution_count": 16,
                    "data": {
                        "application/vnd.dataresource+json": {
                            "schema": {
                                "fields": [
                                    {
                                        "name": "polygon_text"
                                    }
                                ]
                            },
                            "data": [
                                {
                                    "0": "POLYGON((2053 51,2053 54,2053 57,2056 57,2059 57,2059 54,2059 51,2059 48,2056 48,2056 45,2056 42,2056 39,2056 36,2053 33,2050 30,2047 27,2044 27,2041 27,2038 27,2035 30,2032 33,2029 36,2029 39,2026 39,2023 42,2020 45,2017 48,2014 48,2011 45,2011 42,2008 39,2008 36,2008 33,2008 30,2008 27,2008 24,2008 21,2008 18,2008 15,2008 12,2008 9,2011 9,2014 6,2014 3,2017 3,2020 3,2023 3,2026 3,2029 3,2032 3,2035 3,2038 3,2041 3,2044 3,2047 3,2050 3,2053 3,2056 3,2059 3,2062 3,2065 3,2068 3,2071 3,2074 3,2077 3,2080 3,2083 3,2086 3,2089 3,2092 3,2095 3,2098 3,2101 3,2104 3,2107 3,2110 3,2113 3,2116 3,2119 3,2119 6,2119 9,2119 12,2116 15,2116 18,2113 18,2110 21,2107 21,2104 24,2101 24,2098 27,2095 30,2092 33,2089 36,2086 39,2083 39,2080 39,2077 39,2074 39,2071 42,2068 42,2065 42,2062 45,2053 51))"
                                }
                            ]
                        },
                        "text/html": [
                            "<table>",
                            "<tr><th>polygon_text</th></tr>",
                            "<tr><td>POLYGON((2053 51,2053 54,2053 57,2056 57,2059 57,2059 54,2059 51,2059 48,2056 48,2056 45,2056 42,2056 39,2056 36,2053 33,2050 30,2047 27,2044 27,2041 27,2038 27,2035 30,2032 33,2029 36,2029 39,2026 39,2023 42,2020 45,2017 48,2014 48,2011 45,2011 42,2008 39,2008 36,2008 33,2008 30,2008 27,2008 24,2008 21,2008 18,2008 15,2008 12,2008 9,2011 9,2014 6,2014 3,2017 3,2020 3,2023 3,2026 3,2029 3,2032 3,2035 3,2038 3,2041 3,2044 3,2047 3,2050 3,2053 3,2056 3,2059 3,2062 3,2065 3,2068 3,2071 3,2074 3,2077 3,2080 3,2083 3,2086 3,2089 3,2092 3,2095 3,2098 3,2101 3,2104 3,2107 3,2110 3,2113 3,2116 3,2119 3,2119 6,2119 9,2119 12,2116 15,2116 18,2113 18,2110 21,2107 21,2104 24,2101 24,2098 27,2095 30,2092 33,2089 36,2086 39,2083 39,2080 39,2077 39,2074 39,2071 42,2068 42,2065 42,2062 45,2053 51))</td></tr>",
                            "</table>"
                        ]
                    }
                },
                {
                    "output_type": "execute_result",
                    "metadata": {},
                    "execution_count": 16,
                    "data": {
                        "application/vnd.dataresource+json": {
                            "schema": {
                                "fields": [
                                    {
                                        "name": "molecule_id"
                                    },
                                    {
                                        "name": "gene"
                                    },
                                    {
                                        "name": "x_pixel"
                                    },
                                    {
                                        "name": "y_pixel"
                                    },
                                    {
                                        "name": "z_pixel"
                                    },
                                    {
                                        "name": "x_um"
                                    },
                                    {
                                        "name": "y_um"
                                    },
                                    {
                                        "name": "z_um"
                                    },
                                    {
                                        "name": "area"
                                    },
                                    {
                                        "name": "total_magnitude"
                                    },
                                    {
                                        "name": "brightness"
                                    },
                                    {
                                        "name": "qc_score"
                                    }
                                ]
                            },
                            "data": [
                                {
                                    "0": "395858",
                                    "1": "Hmgb2",
                                    "2": "2035",
                                    "3": "25",
                                    "4": "0",
                                    "5": "-2899.468",
                                    "6": "-1354.244",
                                    "7": "2.5",
                                    "8": "6",
                                    "9": "262.3245",
                                    "10": "1.640687603",
                                    "11": "0.938004026"
                                },
                                {
                                    "0": "397030",
                                    "1": "Adgrf5",
                                    "2": "2090",
                                    "3": "15",
                                    "4": "0",
                                    "5": "-2893.401",
                                    "6": "-1355.343",
                                    "7": "2.5",
                                    "8": "7",
                                    "9": "268.5072",
                                    "10": "1.583857896",
                                    "11": "0.95613949"
                                },
                                {
                                    "0": "397218",
                                    "1": "Neat1",
                                    "2": "2046",
                                    "3": "9",
                                    "4": "0",
                                    "5": "-2898.244",
                                    "6": "-1356.03",
                                    "7": "2.5",
                                    "8": "6",
                                    "9": "348.0166",
                                    "10": "1.763448709",
                                    "11": "0.962829876"
                                },
                                {
                                    "0": "397219",
                                    "1": "Neat1",
                                    "2": "2060",
                                    "3": "19",
                                    "4": "0",
                                    "5": "-2896.668",
                                    "6": "-1354.93",
                                    "7": "2.5",
                                    "8": "9",
                                    "9": "854.578",
                                    "10": "1.977509199",
                                    "11": "0.996381418"
                                },
                                {
                                    "0": "397497",
                                    "1": "Vim",
                                    "2": "2076",
                                    "3": "21",
                                    "4": "0",
                                    "5": "-2894.926",
                                    "6": "-1354.677",
                                    "7": "2.5",
                                    "8": "11",
                                    "9": "530.3595",
                                    "10": "1.683177667",
                                    "11": "0.99683536"
                                },
                                {
                                    "0": "397498",
                                    "1": "Vim",
                                    "2": "2104",
                                    "3": "13",
                                    "4": "0",
                                    "5": "-2891.927",
                                    "6": "-1355.609",
                                    "7": "2.5",
                                    "8": "5",
                                    "9": "504.2891",
                                    "10": "2.003709577",
                                    "11": "0.977372624"
                                },
                                {
                                    "0": "397589",
                                    "1": "Acta2",
                                    "2": "2100",
                                    "3": "23",
                                    "4": "0",
                                    "5": "-2892.338",
                                    "6": "-1354.471",
                                    "7": "2.5",
                                    "8": "9",
                                    "9": "336.8791",
                                    "10": "1.573231559",
                                    "11": "0.985504357"
                                },
                                {
                                    "0": "397590",
                                    "1": "Acta2",
                                    "2": "2106",
                                    "3": "22",
                                    "4": "0",
                                    "5": "-2891.654",
                                    "6": "-1354.664",
                                    "7": "2.5",
                                    "8": "12",
                                    "9": "486.5523",
                                    "10": "1.607948284",
                                    "11": "0.996206675"
                                },
                                {
                                    "0": "398778",
                                    "1": "Fzd7",
                                    "2": "2103",
                                    "3": "16",
                                    "4": "0",
                                    "5": "-2891.983",
                                    "6": "-1355.327",
                                    "7": "2.5",
                                    "8": "5",
                                    "9": "427.7183",
                                    "10": "1.932187828",
                                    "11": "0.967747244"
                                }
                            ]
                        },
                        "text/html": [
                            "<table>",
                            "<tr><th>molecule_id</th><th>gene</th><th>x_pixel</th><th>y_pixel</th><th>z_pixel</th><th>x_um</th><th>y_um</th><th>z_um</th><th>area</th><th>total_magnitude</th><th>brightness</th><th>qc_score</th></tr>",
                            "<tr><td>395858</td><td>Hmgb2</td><td>2035</td><td>25</td><td>0</td><td>-2899.468</td><td>-1354.244</td><td>2.5</td><td>6</td><td>262.3245</td><td>1.640687603</td><td>0.938004026</td></tr>",
                            "<tr><td>397030</td><td>Adgrf5</td><td>2090</td><td>15</td><td>0</td><td>-2893.401</td><td>-1355.343</td><td>2.5</td><td>7</td><td>268.5072</td><td>1.583857896</td><td>0.95613949</td></tr>",
                            "<tr><td>397218</td><td>Neat1</td><td>2046</td><td>9</td><td>0</td><td>-2898.244</td><td>-1356.03</td><td>2.5</td><td>6</td><td>348.0166</td><td>1.763448709</td><td>0.962829876</td></tr>",
                            "<tr><td>397219</td><td>Neat1</td><td>2060</td><td>19</td><td>0</td><td>-2896.668</td><td>-1354.93</td><td>2.5</td><td>9</td><td>854.578</td><td>1.977509199</td><td>0.996381418</td></tr>",
                            "<tr><td>397497</td><td>Vim</td><td>2076</td><td>21</td><td>0</td><td>-2894.926</td><td>-1354.677</td><td>2.5</td><td>11</td><td>530.3595</td><td>1.683177667</td><td>0.99683536</td></tr>",
                            "<tr><td>397498</td><td>Vim</td><td>2104</td><td>13</td><td>0</td><td>-2891.927</td><td>-1355.609</td><td>2.5</td><td>5</td><td>504.2891</td><td>2.003709577</td><td>0.977372624</td></tr>",
                            "<tr><td>397589</td><td>Acta2</td><td>2100</td><td>23</td><td>0</td><td>-2892.338</td><td>-1354.471</td><td>2.5</td><td>9</td><td>336.8791</td><td>1.573231559</td><td>0.985504357</td></tr>",
                            "<tr><td>397590</td><td>Acta2</td><td>2106</td><td>22</td><td>0</td><td>-2891.654</td><td>-1354.664</td><td>2.5</td><td>12</td><td>486.5523</td><td>1.607948284</td><td>0.996206675</td></tr>",
                            "<tr><td>398778</td><td>Fzd7</td><td>2103</td><td>16</td><td>0</td><td>-2891.983</td><td>-1355.327</td><td>2.5</td><td>5</td><td>427.7183</td><td>1.932187828</td><td>0.967747244</td></tr>",
                            "</table>"
                        ]
                    }
                },
                {
                    "output_type": "execute_result",
                    "metadata": {},
                    "execution_count": 16,
                    "data": {
                        "application/vnd.dataresource+json": {
                            "schema": {
                                "fields": [
                                    {
                                        "name": "gene"
                                    },
                                    {
                                        "name": "molecule_count"
                                    }
                                ]
                            },
                            "data": [
                                {
                                    "0": "Acta2",
                                    "1": "2"
                                },
                                {
                                    "0": "Adgrf5",
                                    "1": "1"
                                },
                                {
                                    "0": "Fzd7",
                                    "1": "1"
                                },
                                {
                                    "0": "Hmgb2",
                                    "1": "1"
                                },
                                {
                                    "0": "Neat1",
                                    "1": "2"
                                },
                                {
                                    "0": "Vim",
                                    "1": "2"
                                }
                            ]
                        },
                        "text/html": [
                            "<table>",
                            "<tr><th>gene</th><th>molecule_count</th></tr>",
                            "<tr><td>Acta2</td><td>2</td></tr>",
                            "<tr><td>Adgrf5</td><td>1</td></tr>",
                            "<tr><td>Fzd7</td><td>1</td></tr>",
                            "<tr><td>Hmgb2</td><td>1</td></tr>",
                            "<tr><td>Neat1</td><td>2</td></tr>",
                            "<tr><td>Vim</td><td>2</td></tr>",
                            "</table>"
                        ]
                    }
                }
            ],
            "execution_count": 16
        },
        {
            "cell_type": "markdown",
            "source": [
                "This gives us 9 points or 9 molecules with 6 genes which intersect with this polygon/cell.\n",
                "\n",
                "Now we need to do this 3865 more times for each z layer..."
            ],
            "metadata": {
                "azdata_cell_guid": "1a0e46dd-6aec-4f2f-8b38-5c39c43c7182"
            },
            "attachments": {}
        },
        {
            "cell_type": "markdown",
            "source": [
                "# **Creating Molecules Table with Point Geos**"
            ],
            "metadata": {
                "azdata_cell_guid": "4d337ebb-0ce1-469f-878a-3298a1e1aa64"
            },
            "attachments": {}
        },
        {
            "cell_type": "markdown",
            "source": [
                "## Using the data from a Python script"
            ],
            "metadata": {
                "azdata_cell_guid": "b0fe1835-3f91-4f70-b71d-84bcae7754e9"
            },
            "attachments": {}
        },
        {
            "cell_type": "markdown",
            "source": [
                "Imagining that we have a table containing string representations of the polygons, and a table containing string representations of the points."
            ],
            "metadata": {
                "azdata_cell_guid": "6c7b125d-d0b0-4d8c-a41d-8cb5eaadae95"
            },
            "attachments": {}
        },
        {
            "cell_type": "code",
            "source": [
                "USE MouseIleum;\n",
                "\n",
                "DROP TABLE IF EXISTS MoleculesWithPoints;\n",
                "CREATE TABLE MoleculesWithPoints (\n",
                "    id smallint, \n",
                "    molecule_id smallint,\n",
                "    gene nvarchar(8),\n",
                "    x_pixel smallint,\n",
                "    y_pixel smallint,\n",
                "    z_pixel float,\n",
                "    point_string NVARCHAR(18),\n",
                "    z_pixel_int tinyint\n",
                ");\n",
                "\n",
                "BULK INSERT MoleculesWithPoints FROM '/var/data/processed_data/new_molecule.csv' WITH ( FIRSTROW = 2, FIELDTERMINATOR = ',');\n",
                "\n",
                "ALTER TABLE MoleculesWithPoints\n",
                "    DROP COLUMN id;"
            ],
            "metadata": {
                "azdata_cell_guid": "cf96c1cb-2f96-431d-8d2a-407a444712df",
                "language": "sql",
                "tags": []
            },
            "outputs": [
                {
                    "output_type": "display_data",
                    "data": {
                        "text/html": "(1000 rows affected)"
                    },
                    "metadata": {}
                },
                {
                    "output_type": "display_data",
                    "data": {
                        "text/html": "Total execution time: 00:00:00.142"
                    },
                    "metadata": {}
                }
            ],
            "execution_count": 34
        },
        {
            "cell_type": "code",
            "source": [
                "SELECT TOP(100) * FROM MoleculesWithPoints;"
            ],
            "metadata": {
                "language": "sql",
                "azdata_cell_guid": "fcd21eb8-ac2e-4e66-8964-30253429913c"
            },
            "outputs": [
                {
                    "output_type": "display_data",
                    "data": {
                        "text/html": "(100 rows affected)"
                    },
                    "metadata": {}
                },
                {
                    "output_type": "display_data",
                    "data": {
                        "text/html": "Total execution time: 00:00:00.020"
                    },
                    "metadata": {}
                },
                {
                    "output_type": "execute_result",
                    "metadata": {},
                    "execution_count": 35,
                    "data": {
                        "application/vnd.dataresource+json": {
                            "schema": {
                                "fields": [
                                    {
                                        "name": "molecule_id"
                                    },
                                    {
                                        "name": "gene"
                                    },
                                    {
                                        "name": "x_pixel"
                                    },
                                    {
                                        "name": "y_pixel"
                                    },
                                    {
                                        "name": "z_pixel"
                                    },
                                    {
                                        "name": "point_string"
                                    },
                                    {
                                        "name": "z_pixel_int"
                                    }
                                ]
                            },
                            "data": [
                                {
                                    "0": "1",
                                    "1": "Maoa",
                                    "2": "1705",
                                    "3": "1271",
                                    "4": "0",
                                    "5": "POINT(1705 1271)",
                                    "6": "0"
                                },
                                {
                                    "0": "2",
                                    "1": "Maoa",
                                    "2": "1725",
                                    "3": "1922",
                                    "4": "0",
                                    "5": "POINT(1725 1922)",
                                    "6": "0"
                                },
                                {
                                    "0": "3",
                                    "1": "Maoa",
                                    "2": "1753",
                                    "3": "1863",
                                    "4": "0",
                                    "5": "POINT(1753 1863)",
                                    "6": "0"
                                },
                                {
                                    "0": "4",
                                    "1": "Maoa",
                                    "2": "1760",
                                    "3": "1865",
                                    "4": "0",
                                    "5": "POINT(1760 1865)",
                                    "6": "0"
                                },
                                {
                                    "0": "5",
                                    "1": "Maoa",
                                    "2": "1904",
                                    "3": "794",
                                    "4": "0",
                                    "5": "POINT(1904 794)",
                                    "6": "0"
                                },
                                {
                                    "0": "6",
                                    "1": "Maoa",
                                    "2": "1915",
                                    "3": "1430",
                                    "4": "0",
                                    "5": "POINT(1915 1430)",
                                    "6": "0"
                                },
                                {
                                    "0": "7",
                                    "1": "Maoa",
                                    "2": "1751",
                                    "3": "1873",
                                    "4": "13.76819064",
                                    "5": "POINT(1751 1873)",
                                    "6": "1"
                                },
                                {
                                    "0": "8",
                                    "1": "Maoa",
                                    "2": "1780",
                                    "3": "1844",
                                    "4": "13.76819064",
                                    "5": "POINT(1780 1844)",
                                    "6": "1"
                                },
                                {
                                    "0": "9",
                                    "1": "Maoa",
                                    "2": "1816",
                                    "3": "995",
                                    "4": "13.76819064",
                                    "5": "POINT(1816 995)",
                                    "6": "1"
                                },
                                {
                                    "0": "10",
                                    "1": "Maoa",
                                    "2": "1822",
                                    "3": "1232",
                                    "4": "13.76819064",
                                    "5": "POINT(1822 1232)",
                                    "6": "1"
                                },
                                {
                                    "0": "11",
                                    "1": "Maoa",
                                    "2": "1880",
                                    "3": "1322",
                                    "4": "13.76819064",
                                    "5": "POINT(1880 1322)",
                                    "6": "1"
                                },
                                {
                                    "0": "12",
                                    "1": "Maoa",
                                    "2": "1604",
                                    "3": "1695",
                                    "4": "27.53638128",
                                    "5": "POINT(1604 1695)",
                                    "6": "2"
                                },
                                {
                                    "0": "13",
                                    "1": "Maoa",
                                    "2": "1652",
                                    "3": "1923",
                                    "4": "27.53638128",
                                    "5": "POINT(1652 1923)",
                                    "6": "2"
                                },
                                {
                                    "0": "14",
                                    "1": "Maoa",
                                    "2": "1735",
                                    "3": "1870",
                                    "4": "27.53638128",
                                    "5": "POINT(1735 1870)",
                                    "6": "2"
                                },
                                {
                                    "0": "15",
                                    "1": "Maoa",
                                    "2": "1802",
                                    "3": "1843",
                                    "4": "27.53638128",
                                    "5": "POINT(1802 1843)",
                                    "6": "2"
                                },
                                {
                                    "0": "16",
                                    "1": "Maoa",
                                    "2": "1847",
                                    "3": "1711",
                                    "4": "27.53638128",
                                    "5": "POINT(1847 1711)",
                                    "6": "2"
                                },
                                {
                                    "0": "17",
                                    "1": "Maoa",
                                    "2": "1886",
                                    "3": "998",
                                    "4": "27.53638128",
                                    "5": "POINT(1886 998)",
                                    "6": "2"
                                },
                                {
                                    "0": "18",
                                    "1": "Maoa",
                                    "2": "1928",
                                    "3": "1095",
                                    "4": "27.53638128",
                                    "5": "POINT(1928 1095)",
                                    "6": "2"
                                },
                                {
                                    "0": "19",
                                    "1": "Maoa",
                                    "2": "1515",
                                    "3": "1859",
                                    "4": "41.30457192",
                                    "5": "POINT(1515 1859)",
                                    "6": "3"
                                },
                                {
                                    "0": "20",
                                    "1": "Maoa",
                                    "2": "1737",
                                    "3": "1171",
                                    "4": "41.30457192",
                                    "5": "POINT(1737 1171)",
                                    "6": "3"
                                },
                                {
                                    "0": "21",
                                    "1": "Maoa",
                                    "2": "1775",
                                    "3": "1195",
                                    "4": "41.30457192",
                                    "5": "POINT(1775 1195)",
                                    "6": "3"
                                },
                                {
                                    "0": "22",
                                    "1": "Maoa",
                                    "2": "1589",
                                    "3": "1814",
                                    "4": "55.07276256",
                                    "5": "POINT(1589 1814)",
                                    "6": "4"
                                },
                                {
                                    "0": "23",
                                    "1": "Maoa",
                                    "2": "1711",
                                    "3": "1229",
                                    "4": "55.07276256",
                                    "5": "POINT(1711 1229)",
                                    "6": "4"
                                },
                                {
                                    "0": "24",
                                    "1": "Maoa",
                                    "2": "1781",
                                    "3": "1101",
                                    "4": "55.07276256",
                                    "5": "POINT(1781 1101)",
                                    "6": "4"
                                },
                                {
                                    "0": "25",
                                    "1": "Maoa",
                                    "2": "1788",
                                    "3": "1198",
                                    "4": "55.07276256",
                                    "5": "POINT(1788 1198)",
                                    "6": "4"
                                },
                                {
                                    "0": "26",
                                    "1": "Maoa",
                                    "2": "1788",
                                    "3": "1906",
                                    "4": "55.07276256",
                                    "5": "POINT(1788 1906)",
                                    "6": "4"
                                },
                                {
                                    "0": "27",
                                    "1": "Maoa",
                                    "2": "1896",
                                    "3": "660",
                                    "4": "55.07276256",
                                    "5": "POINT(1896 660)",
                                    "6": "4"
                                },
                                {
                                    "0": "28",
                                    "1": "Maoa",
                                    "2": "1767",
                                    "3": "1898",
                                    "4": "68.8409532",
                                    "5": "POINT(1767 1898)",
                                    "6": "5"
                                },
                                {
                                    "0": "29",
                                    "1": "Hmgb2",
                                    "2": "1835",
                                    "3": "926",
                                    "4": "13.76819064",
                                    "5": "POINT(1835 926)",
                                    "6": "1"
                                },
                                {
                                    "0": "30",
                                    "1": "Hmgb2",
                                    "2": "1644",
                                    "3": "1696",
                                    "4": "27.53638128",
                                    "5": "POINT(1644 1696)",
                                    "6": "2"
                                },
                                {
                                    "0": "31",
                                    "1": "Hmgb2",
                                    "2": "1835",
                                    "3": "938",
                                    "4": "110.1455251",
                                    "5": "POINT(1835 938)",
                                    "6": "7"
                                },
                                {
                                    "0": "32",
                                    "1": "Txndc5",
                                    "2": "1557",
                                    "3": "1641",
                                    "4": "0",
                                    "5": "POINT(1557 1641)",
                                    "6": "0"
                                },
                                {
                                    "0": "33",
                                    "1": "Txndc5",
                                    "2": "1559",
                                    "3": "1832",
                                    "4": "0",
                                    "5": "POINT(1559 1832)",
                                    "6": "0"
                                },
                                {
                                    "0": "34",
                                    "1": "Txndc5",
                                    "2": "1658",
                                    "3": "1663",
                                    "4": "0",
                                    "5": "POINT(1658 1663)",
                                    "6": "0"
                                },
                                {
                                    "0": "35",
                                    "1": "Txndc5",
                                    "2": "1780",
                                    "3": "1873",
                                    "4": "0",
                                    "5": "POINT(1780 1873)",
                                    "6": "0"
                                },
                                {
                                    "0": "36",
                                    "1": "Txndc5",
                                    "2": "1786",
                                    "3": "1440",
                                    "4": "0",
                                    "5": "POINT(1786 1440)",
                                    "6": "0"
                                },
                                {
                                    "0": "37",
                                    "1": "Txndc5",
                                    "2": "1814",
                                    "3": "944",
                                    "4": "0",
                                    "5": "POINT(1814 944)",
                                    "6": "0"
                                },
                                {
                                    "0": "38",
                                    "1": "Txndc5",
                                    "2": "1828",
                                    "3": "1217",
                                    "4": "0",
                                    "5": "POINT(1828 1217)",
                                    "6": "0"
                                },
                                {
                                    "0": "39",
                                    "1": "Txndc5",
                                    "2": "1834",
                                    "3": "1856",
                                    "4": "0",
                                    "5": "POINT(1834 1856)",
                                    "6": "0"
                                },
                                {
                                    "0": "40",
                                    "1": "Txndc5",
                                    "2": "1682",
                                    "3": "1382",
                                    "4": "13.76819064",
                                    "5": "POINT(1682 1382)",
                                    "6": "1"
                                },
                                {
                                    "0": "41",
                                    "1": "Txndc5",
                                    "2": "1745",
                                    "3": "1806",
                                    "4": "13.76819064",
                                    "5": "POINT(1745 1806)",
                                    "6": "1"
                                },
                                {
                                    "0": "42",
                                    "1": "Txndc5",
                                    "2": "1758",
                                    "3": "1793",
                                    "4": "13.76819064",
                                    "5": "POINT(1758 1793)",
                                    "6": "1"
                                },
                                {
                                    "0": "43",
                                    "1": "Txndc5",
                                    "2": "1807",
                                    "3": "943",
                                    "4": "13.76819064",
                                    "5": "POINT(1807 943)",
                                    "6": "1"
                                },
                                {
                                    "0": "44",
                                    "1": "Txndc5",
                                    "2": "1829",
                                    "3": "1714",
                                    "4": "13.76819064",
                                    "5": "POINT(1829 1714)",
                                    "6": "1"
                                },
                                {
                                    "0": "45",
                                    "1": "Txndc5",
                                    "2": "1841",
                                    "3": "942",
                                    "4": "13.76819064",
                                    "5": "POINT(1841 942)",
                                    "6": "1"
                                },
                                {
                                    "0": "46",
                                    "1": "Txndc5",
                                    "2": "1860",
                                    "3": "1635",
                                    "4": "13.76819064",
                                    "5": "POINT(1860 1635)",
                                    "6": "1"
                                },
                                {
                                    "0": "47",
                                    "1": "Txndc5",
                                    "2": "1755",
                                    "3": "1807",
                                    "4": "27.53638128",
                                    "5": "POINT(1755 1807)",
                                    "6": "2"
                                },
                                {
                                    "0": "48",
                                    "1": "Txndc5",
                                    "2": "1773",
                                    "3": "1016",
                                    "4": "27.53638128",
                                    "5": "POINT(1773 1016)",
                                    "6": "2"
                                },
                                {
                                    "0": "49",
                                    "1": "Txndc5",
                                    "2": "1800",
                                    "3": "1252",
                                    "4": "27.53638128",
                                    "5": "POINT(1800 1252)",
                                    "6": "2"
                                },
                                {
                                    "0": "50",
                                    "1": "Txndc5",
                                    "2": "1837",
                                    "3": "1852",
                                    "4": "27.53638128",
                                    "5": "POINT(1837 1852)",
                                    "6": "2"
                                },
                                {
                                    "0": "51",
                                    "1": "Txndc5",
                                    "2": "1866",
                                    "3": "1828",
                                    "4": "27.53638128",
                                    "5": "POINT(1866 1828)",
                                    "6": "2"
                                },
                                {
                                    "0": "52",
                                    "1": "Txndc5",
                                    "2": "1870",
                                    "3": "1196",
                                    "4": "27.53638128",
                                    "5": "POINT(1870 1196)",
                                    "6": "2"
                                },
                                {
                                    "0": "53",
                                    "1": "Txndc5",
                                    "2": "1935",
                                    "3": "872",
                                    "4": "27.53638128",
                                    "5": "POINT(1935 872)",
                                    "6": "2"
                                },
                                {
                                    "0": "54",
                                    "1": "Txndc5",
                                    "2": "1511",
                                    "3": "1865",
                                    "4": "41.30457192",
                                    "5": "POINT(1511 1865)",
                                    "6": "3"
                                },
                                {
                                    "0": "55",
                                    "1": "Txndc5",
                                    "2": "1519",
                                    "3": "1667",
                                    "4": "41.30457192",
                                    "5": "POINT(1519 1667)",
                                    "6": "3"
                                },
                                {
                                    "0": "56",
                                    "1": "Txndc5",
                                    "2": "1578",
                                    "3": "1572",
                                    "4": "41.30457192",
                                    "5": "POINT(1578 1572)",
                                    "6": "3"
                                },
                                {
                                    "0": "57",
                                    "1": "Txndc5",
                                    "2": "1708",
                                    "3": "1224",
                                    "4": "41.30457192",
                                    "5": "POINT(1708 1224)",
                                    "6": "3"
                                },
                                {
                                    "0": "58",
                                    "1": "Txndc5",
                                    "2": "1740",
                                    "3": "1633",
                                    "4": "41.30457192",
                                    "5": "POINT(1740 1633)",
                                    "6": "3"
                                },
                                {
                                    "0": "59",
                                    "1": "Txndc5",
                                    "2": "1814",
                                    "3": "1233",
                                    "4": "41.30457192",
                                    "5": "POINT(1814 1233)",
                                    "6": "3"
                                },
                                {
                                    "0": "60",
                                    "1": "Txndc5",
                                    "2": "1877",
                                    "3": "1070",
                                    "4": "41.30457192",
                                    "5": "POINT(1877 1070)",
                                    "6": "3"
                                },
                                {
                                    "0": "61",
                                    "1": "Txndc5",
                                    "2": "1554",
                                    "3": "1606",
                                    "4": "55.07276256",
                                    "5": "POINT(1554 1606)",
                                    "6": "4"
                                },
                                {
                                    "0": "62",
                                    "1": "Txndc5",
                                    "2": "1566",
                                    "3": "1798",
                                    "4": "55.07276256",
                                    "5": "POINT(1566 1798)",
                                    "6": "4"
                                },
                                {
                                    "0": "63",
                                    "1": "Txndc5",
                                    "2": "1702",
                                    "3": "1698",
                                    "4": "55.07276256",
                                    "5": "POINT(1702 1698)",
                                    "6": "4"
                                },
                                {
                                    "0": "64",
                                    "1": "Txndc5",
                                    "2": "1715",
                                    "3": "1191",
                                    "4": "55.07276256",
                                    "5": "POINT(1715 1191)",
                                    "6": "4"
                                },
                                {
                                    "0": "65",
                                    "1": "Txndc5",
                                    "2": "1726",
                                    "3": "1206",
                                    "4": "55.07276256",
                                    "5": "POINT(1726 1206)",
                                    "6": "4"
                                },
                                {
                                    "0": "66",
                                    "1": "Txndc5",
                                    "2": "1777",
                                    "3": "1151",
                                    "4": "55.07276256",
                                    "5": "POINT(1777 1151)",
                                    "6": "4"
                                },
                                {
                                    "0": "67",
                                    "1": "Txndc5",
                                    "2": "1795",
                                    "3": "922",
                                    "4": "55.07276256",
                                    "5": "POINT(1795 922)",
                                    "6": "4"
                                },
                                {
                                    "0": "68",
                                    "1": "Txndc5",
                                    "2": "1847",
                                    "3": "881",
                                    "4": "55.07276256",
                                    "5": "POINT(1847 881)",
                                    "6": "4"
                                },
                                {
                                    "0": "69",
                                    "1": "Txndc5",
                                    "2": "1861",
                                    "3": "922",
                                    "4": "55.07276256",
                                    "5": "POINT(1861 922)",
                                    "6": "4"
                                },
                                {
                                    "0": "70",
                                    "1": "Txndc5",
                                    "2": "1524",
                                    "3": "1840",
                                    "4": "68.8409532",
                                    "5": "POINT(1524 1840)",
                                    "6": "5"
                                },
                                {
                                    "0": "71",
                                    "1": "Txndc5",
                                    "2": "1631",
                                    "3": "1603",
                                    "4": "68.8409532",
                                    "5": "POINT(1631 1603)",
                                    "6": "5"
                                },
                                {
                                    "0": "72",
                                    "1": "Txndc5",
                                    "2": "1807",
                                    "3": "985",
                                    "4": "68.8409532",
                                    "5": "POINT(1807 985)",
                                    "6": "5"
                                },
                                {
                                    "0": "73",
                                    "1": "Txndc5",
                                    "2": "1830",
                                    "3": "1110",
                                    "4": "68.8409532",
                                    "5": "POINT(1830 1110)",
                                    "6": "5"
                                },
                                {
                                    "0": "74",
                                    "1": "Txndc5",
                                    "2": "1858",
                                    "3": "1531",
                                    "4": "68.8409532",
                                    "5": "POINT(1858 1531)",
                                    "6": "5"
                                },
                                {
                                    "0": "75",
                                    "1": "Txndc5",
                                    "2": "1899",
                                    "3": "1269",
                                    "4": "68.8409532",
                                    "5": "POINT(1899 1269)",
                                    "6": "5"
                                },
                                {
                                    "0": "76",
                                    "1": "Txndc5",
                                    "2": "1791",
                                    "3": "1107",
                                    "4": "82.60914384",
                                    "5": "POINT(1791 1107)",
                                    "6": "6"
                                },
                                {
                                    "0": "77",
                                    "1": "Txndc5",
                                    "2": "1797",
                                    "3": "1144",
                                    "4": "82.60914384",
                                    "5": "POINT(1797 1144)",
                                    "6": "6"
                                },
                                {
                                    "0": "78",
                                    "1": "Txndc5",
                                    "2": "1827",
                                    "3": "1475",
                                    "4": "82.60914384",
                                    "5": "POINT(1827 1475)",
                                    "6": "6"
                                },
                                {
                                    "0": "79",
                                    "1": "Txndc5",
                                    "2": "1850",
                                    "3": "938",
                                    "4": "82.60914384",
                                    "5": "POINT(1850 938)",
                                    "6": "6"
                                },
                                {
                                    "0": "80",
                                    "1": "Txndc5",
                                    "2": "1827",
                                    "3": "1475",
                                    "4": "96.37733447",
                                    "5": "POINT(1827 1475)",
                                    "6": "6"
                                },
                                {
                                    "0": "81",
                                    "1": "Klk1",
                                    "2": "1683",
                                    "3": "1861",
                                    "4": "13.76819064",
                                    "5": "POINT(1683 1861)",
                                    "6": "1"
                                },
                                {
                                    "0": "82",
                                    "1": "Klk1",
                                    "2": "1861",
                                    "3": "1590",
                                    "4": "82.60914384",
                                    "5": "POINT(1861 1590)",
                                    "6": "6"
                                },
                                {
                                    "0": "83",
                                    "1": "Slc12a2",
                                    "2": "1755",
                                    "3": "1731",
                                    "4": "0",
                                    "5": "POINT(1755 1731)",
                                    "6": "0"
                                },
                                {
                                    "0": "84",
                                    "1": "Slc12a2",
                                    "2": "1761",
                                    "3": "1791",
                                    "4": "0",
                                    "5": "POINT(1761 1791)",
                                    "6": "0"
                                },
                                {
                                    "0": "85",
                                    "1": "Slc12a2",
                                    "2": "1777",
                                    "3": "1593",
                                    "4": "0",
                                    "5": "POINT(1777 1593)",
                                    "6": "0"
                                },
                                {
                                    "0": "86",
                                    "1": "Slc12a2",
                                    "2": "1789",
                                    "3": "1705",
                                    "4": "0",
                                    "5": "POINT(1789 1705)",
                                    "6": "0"
                                },
                                {
                                    "0": "87",
                                    "1": "Slc12a2",
                                    "2": "1876",
                                    "3": "1822",
                                    "4": "0",
                                    "5": "POINT(1876 1822)",
                                    "6": "0"
                                },
                                {
                                    "0": "88",
                                    "1": "Slc12a2",
                                    "2": "1883",
                                    "3": "1765",
                                    "4": "0",
                                    "5": "POINT(1883 1765)",
                                    "6": "0"
                                },
                                {
                                    "0": "89",
                                    "1": "Slc12a2",
                                    "2": "1893",
                                    "3": "1563",
                                    "4": "0",
                                    "5": "POINT(1893 1563)",
                                    "6": "0"
                                },
                                {
                                    "0": "90",
                                    "1": "Slc12a2",
                                    "2": "1910",
                                    "3": "1472",
                                    "4": "0",
                                    "5": "POINT(1910 1472)",
                                    "6": "0"
                                },
                                {
                                    "0": "91",
                                    "1": "Slc12a2",
                                    "2": "1927",
                                    "3": "1824",
                                    "4": "0",
                                    "5": "POINT(1927 1824)",
                                    "6": "0"
                                },
                                {
                                    "0": "92",
                                    "1": "Slc12a2",
                                    "2": "1811",
                                    "3": "1782",
                                    "4": "13.76819064",
                                    "5": "POINT(1811 1782)",
                                    "6": "1"
                                },
                                {
                                    "0": "93",
                                    "1": "Slc12a2",
                                    "2": "1829",
                                    "3": "1079",
                                    "4": "13.76819064",
                                    "5": "POINT(1829 1079)",
                                    "6": "1"
                                },
                                {
                                    "0": "94",
                                    "1": "Slc12a2",
                                    "2": "1856",
                                    "3": "1780",
                                    "4": "13.76819064",
                                    "5": "POINT(1856 1780)",
                                    "6": "1"
                                },
                                {
                                    "0": "95",
                                    "1": "Slc12a2",
                                    "2": "1861",
                                    "3": "1865",
                                    "4": "13.76819064",
                                    "5": "POINT(1861 1865)",
                                    "6": "1"
                                },
                                {
                                    "0": "96",
                                    "1": "Slc12a2",
                                    "2": "1898",
                                    "3": "1788",
                                    "4": "13.76819064",
                                    "5": "POINT(1898 1788)",
                                    "6": "1"
                                },
                                {
                                    "0": "97",
                                    "1": "Slc12a2",
                                    "2": "1939",
                                    "3": "1467",
                                    "4": "13.76819064",
                                    "5": "POINT(1939 1467)",
                                    "6": "1"
                                },
                                {
                                    "0": "98",
                                    "1": "Slc12a2",
                                    "2": "1711",
                                    "3": "1863",
                                    "4": "27.53638128",
                                    "5": "POINT(1711 1863)",
                                    "6": "2"
                                },
                                {
                                    "0": "99",
                                    "1": "Slc12a2",
                                    "2": "1724",
                                    "3": "1320",
                                    "4": "27.53638128",
                                    "5": "POINT(1724 1320)",
                                    "6": "2"
                                },
                                {
                                    "0": "100",
                                    "1": "Slc12a2",
                                    "2": "1761",
                                    "3": "1793",
                                    "4": "27.53638128",
                                    "5": "POINT(1761 1793)",
                                    "6": "2"
                                }
                            ]
                        },
                        "text/html": [
                            "<table>",
                            "<tr><th>molecule_id</th><th>gene</th><th>x_pixel</th><th>y_pixel</th><th>z_pixel</th><th>point_string</th><th>z_pixel_int</th></tr>",
                            "<tr><td>1</td><td>Maoa</td><td>1705</td><td>1271</td><td>0</td><td>POINT(1705 1271)</td><td>0</td></tr>",
                            "<tr><td>2</td><td>Maoa</td><td>1725</td><td>1922</td><td>0</td><td>POINT(1725 1922)</td><td>0</td></tr>",
                            "<tr><td>3</td><td>Maoa</td><td>1753</td><td>1863</td><td>0</td><td>POINT(1753 1863)</td><td>0</td></tr>",
                            "<tr><td>4</td><td>Maoa</td><td>1760</td><td>1865</td><td>0</td><td>POINT(1760 1865)</td><td>0</td></tr>",
                            "<tr><td>5</td><td>Maoa</td><td>1904</td><td>794</td><td>0</td><td>POINT(1904 794)</td><td>0</td></tr>",
                            "<tr><td>6</td><td>Maoa</td><td>1915</td><td>1430</td><td>0</td><td>POINT(1915 1430)</td><td>0</td></tr>",
                            "<tr><td>7</td><td>Maoa</td><td>1751</td><td>1873</td><td>13.76819064</td><td>POINT(1751 1873)</td><td>1</td></tr>",
                            "<tr><td>8</td><td>Maoa</td><td>1780</td><td>1844</td><td>13.76819064</td><td>POINT(1780 1844)</td><td>1</td></tr>",
                            "<tr><td>9</td><td>Maoa</td><td>1816</td><td>995</td><td>13.76819064</td><td>POINT(1816 995)</td><td>1</td></tr>",
                            "<tr><td>10</td><td>Maoa</td><td>1822</td><td>1232</td><td>13.76819064</td><td>POINT(1822 1232)</td><td>1</td></tr>",
                            "<tr><td>11</td><td>Maoa</td><td>1880</td><td>1322</td><td>13.76819064</td><td>POINT(1880 1322)</td><td>1</td></tr>",
                            "<tr><td>12</td><td>Maoa</td><td>1604</td><td>1695</td><td>27.53638128</td><td>POINT(1604 1695)</td><td>2</td></tr>",
                            "<tr><td>13</td><td>Maoa</td><td>1652</td><td>1923</td><td>27.53638128</td><td>POINT(1652 1923)</td><td>2</td></tr>",
                            "<tr><td>14</td><td>Maoa</td><td>1735</td><td>1870</td><td>27.53638128</td><td>POINT(1735 1870)</td><td>2</td></tr>",
                            "<tr><td>15</td><td>Maoa</td><td>1802</td><td>1843</td><td>27.53638128</td><td>POINT(1802 1843)</td><td>2</td></tr>",
                            "<tr><td>16</td><td>Maoa</td><td>1847</td><td>1711</td><td>27.53638128</td><td>POINT(1847 1711)</td><td>2</td></tr>",
                            "<tr><td>17</td><td>Maoa</td><td>1886</td><td>998</td><td>27.53638128</td><td>POINT(1886 998)</td><td>2</td></tr>",
                            "<tr><td>18</td><td>Maoa</td><td>1928</td><td>1095</td><td>27.53638128</td><td>POINT(1928 1095)</td><td>2</td></tr>",
                            "<tr><td>19</td><td>Maoa</td><td>1515</td><td>1859</td><td>41.30457192</td><td>POINT(1515 1859)</td><td>3</td></tr>",
                            "<tr><td>20</td><td>Maoa</td><td>1737</td><td>1171</td><td>41.30457192</td><td>POINT(1737 1171)</td><td>3</td></tr>",
                            "<tr><td>21</td><td>Maoa</td><td>1775</td><td>1195</td><td>41.30457192</td><td>POINT(1775 1195)</td><td>3</td></tr>",
                            "<tr><td>22</td><td>Maoa</td><td>1589</td><td>1814</td><td>55.07276256</td><td>POINT(1589 1814)</td><td>4</td></tr>",
                            "<tr><td>23</td><td>Maoa</td><td>1711</td><td>1229</td><td>55.07276256</td><td>POINT(1711 1229)</td><td>4</td></tr>",
                            "<tr><td>24</td><td>Maoa</td><td>1781</td><td>1101</td><td>55.07276256</td><td>POINT(1781 1101)</td><td>4</td></tr>",
                            "<tr><td>25</td><td>Maoa</td><td>1788</td><td>1198</td><td>55.07276256</td><td>POINT(1788 1198)</td><td>4</td></tr>",
                            "<tr><td>26</td><td>Maoa</td><td>1788</td><td>1906</td><td>55.07276256</td><td>POINT(1788 1906)</td><td>4</td></tr>",
                            "<tr><td>27</td><td>Maoa</td><td>1896</td><td>660</td><td>55.07276256</td><td>POINT(1896 660)</td><td>4</td></tr>",
                            "<tr><td>28</td><td>Maoa</td><td>1767</td><td>1898</td><td>68.8409532</td><td>POINT(1767 1898)</td><td>5</td></tr>",
                            "<tr><td>29</td><td>Hmgb2</td><td>1835</td><td>926</td><td>13.76819064</td><td>POINT(1835 926)</td><td>1</td></tr>",
                            "<tr><td>30</td><td>Hmgb2</td><td>1644</td><td>1696</td><td>27.53638128</td><td>POINT(1644 1696)</td><td>2</td></tr>",
                            "<tr><td>31</td><td>Hmgb2</td><td>1835</td><td>938</td><td>110.1455251</td><td>POINT(1835 938)</td><td>7</td></tr>",
                            "<tr><td>32</td><td>Txndc5</td><td>1557</td><td>1641</td><td>0</td><td>POINT(1557 1641)</td><td>0</td></tr>",
                            "<tr><td>33</td><td>Txndc5</td><td>1559</td><td>1832</td><td>0</td><td>POINT(1559 1832)</td><td>0</td></tr>",
                            "<tr><td>34</td><td>Txndc5</td><td>1658</td><td>1663</td><td>0</td><td>POINT(1658 1663)</td><td>0</td></tr>",
                            "<tr><td>35</td><td>Txndc5</td><td>1780</td><td>1873</td><td>0</td><td>POINT(1780 1873)</td><td>0</td></tr>",
                            "<tr><td>36</td><td>Txndc5</td><td>1786</td><td>1440</td><td>0</td><td>POINT(1786 1440)</td><td>0</td></tr>",
                            "<tr><td>37</td><td>Txndc5</td><td>1814</td><td>944</td><td>0</td><td>POINT(1814 944)</td><td>0</td></tr>",
                            "<tr><td>38</td><td>Txndc5</td><td>1828</td><td>1217</td><td>0</td><td>POINT(1828 1217)</td><td>0</td></tr>",
                            "<tr><td>39</td><td>Txndc5</td><td>1834</td><td>1856</td><td>0</td><td>POINT(1834 1856)</td><td>0</td></tr>",
                            "<tr><td>40</td><td>Txndc5</td><td>1682</td><td>1382</td><td>13.76819064</td><td>POINT(1682 1382)</td><td>1</td></tr>",
                            "<tr><td>41</td><td>Txndc5</td><td>1745</td><td>1806</td><td>13.76819064</td><td>POINT(1745 1806)</td><td>1</td></tr>",
                            "<tr><td>42</td><td>Txndc5</td><td>1758</td><td>1793</td><td>13.76819064</td><td>POINT(1758 1793)</td><td>1</td></tr>",
                            "<tr><td>43</td><td>Txndc5</td><td>1807</td><td>943</td><td>13.76819064</td><td>POINT(1807 943)</td><td>1</td></tr>",
                            "<tr><td>44</td><td>Txndc5</td><td>1829</td><td>1714</td><td>13.76819064</td><td>POINT(1829 1714)</td><td>1</td></tr>",
                            "<tr><td>45</td><td>Txndc5</td><td>1841</td><td>942</td><td>13.76819064</td><td>POINT(1841 942)</td><td>1</td></tr>",
                            "<tr><td>46</td><td>Txndc5</td><td>1860</td><td>1635</td><td>13.76819064</td><td>POINT(1860 1635)</td><td>1</td></tr>",
                            "<tr><td>47</td><td>Txndc5</td><td>1755</td><td>1807</td><td>27.53638128</td><td>POINT(1755 1807)</td><td>2</td></tr>",
                            "<tr><td>48</td><td>Txndc5</td><td>1773</td><td>1016</td><td>27.53638128</td><td>POINT(1773 1016)</td><td>2</td></tr>",
                            "<tr><td>49</td><td>Txndc5</td><td>1800</td><td>1252</td><td>27.53638128</td><td>POINT(1800 1252)</td><td>2</td></tr>",
                            "<tr><td>50</td><td>Txndc5</td><td>1837</td><td>1852</td><td>27.53638128</td><td>POINT(1837 1852)</td><td>2</td></tr>",
                            "<tr><td>51</td><td>Txndc5</td><td>1866</td><td>1828</td><td>27.53638128</td><td>POINT(1866 1828)</td><td>2</td></tr>",
                            "<tr><td>52</td><td>Txndc5</td><td>1870</td><td>1196</td><td>27.53638128</td><td>POINT(1870 1196)</td><td>2</td></tr>",
                            "<tr><td>53</td><td>Txndc5</td><td>1935</td><td>872</td><td>27.53638128</td><td>POINT(1935 872)</td><td>2</td></tr>",
                            "<tr><td>54</td><td>Txndc5</td><td>1511</td><td>1865</td><td>41.30457192</td><td>POINT(1511 1865)</td><td>3</td></tr>",
                            "<tr><td>55</td><td>Txndc5</td><td>1519</td><td>1667</td><td>41.30457192</td><td>POINT(1519 1667)</td><td>3</td></tr>",
                            "<tr><td>56</td><td>Txndc5</td><td>1578</td><td>1572</td><td>41.30457192</td><td>POINT(1578 1572)</td><td>3</td></tr>",
                            "<tr><td>57</td><td>Txndc5</td><td>1708</td><td>1224</td><td>41.30457192</td><td>POINT(1708 1224)</td><td>3</td></tr>",
                            "<tr><td>58</td><td>Txndc5</td><td>1740</td><td>1633</td><td>41.30457192</td><td>POINT(1740 1633)</td><td>3</td></tr>",
                            "<tr><td>59</td><td>Txndc5</td><td>1814</td><td>1233</td><td>41.30457192</td><td>POINT(1814 1233)</td><td>3</td></tr>",
                            "<tr><td>60</td><td>Txndc5</td><td>1877</td><td>1070</td><td>41.30457192</td><td>POINT(1877 1070)</td><td>3</td></tr>",
                            "<tr><td>61</td><td>Txndc5</td><td>1554</td><td>1606</td><td>55.07276256</td><td>POINT(1554 1606)</td><td>4</td></tr>",
                            "<tr><td>62</td><td>Txndc5</td><td>1566</td><td>1798</td><td>55.07276256</td><td>POINT(1566 1798)</td><td>4</td></tr>",
                            "<tr><td>63</td><td>Txndc5</td><td>1702</td><td>1698</td><td>55.07276256</td><td>POINT(1702 1698)</td><td>4</td></tr>",
                            "<tr><td>64</td><td>Txndc5</td><td>1715</td><td>1191</td><td>55.07276256</td><td>POINT(1715 1191)</td><td>4</td></tr>",
                            "<tr><td>65</td><td>Txndc5</td><td>1726</td><td>1206</td><td>55.07276256</td><td>POINT(1726 1206)</td><td>4</td></tr>",
                            "<tr><td>66</td><td>Txndc5</td><td>1777</td><td>1151</td><td>55.07276256</td><td>POINT(1777 1151)</td><td>4</td></tr>",
                            "<tr><td>67</td><td>Txndc5</td><td>1795</td><td>922</td><td>55.07276256</td><td>POINT(1795 922)</td><td>4</td></tr>",
                            "<tr><td>68</td><td>Txndc5</td><td>1847</td><td>881</td><td>55.07276256</td><td>POINT(1847 881)</td><td>4</td></tr>",
                            "<tr><td>69</td><td>Txndc5</td><td>1861</td><td>922</td><td>55.07276256</td><td>POINT(1861 922)</td><td>4</td></tr>",
                            "<tr><td>70</td><td>Txndc5</td><td>1524</td><td>1840</td><td>68.8409532</td><td>POINT(1524 1840)</td><td>5</td></tr>",
                            "<tr><td>71</td><td>Txndc5</td><td>1631</td><td>1603</td><td>68.8409532</td><td>POINT(1631 1603)</td><td>5</td></tr>",
                            "<tr><td>72</td><td>Txndc5</td><td>1807</td><td>985</td><td>68.8409532</td><td>POINT(1807 985)</td><td>5</td></tr>",
                            "<tr><td>73</td><td>Txndc5</td><td>1830</td><td>1110</td><td>68.8409532</td><td>POINT(1830 1110)</td><td>5</td></tr>",
                            "<tr><td>74</td><td>Txndc5</td><td>1858</td><td>1531</td><td>68.8409532</td><td>POINT(1858 1531)</td><td>5</td></tr>",
                            "<tr><td>75</td><td>Txndc5</td><td>1899</td><td>1269</td><td>68.8409532</td><td>POINT(1899 1269)</td><td>5</td></tr>",
                            "<tr><td>76</td><td>Txndc5</td><td>1791</td><td>1107</td><td>82.60914384</td><td>POINT(1791 1107)</td><td>6</td></tr>",
                            "<tr><td>77</td><td>Txndc5</td><td>1797</td><td>1144</td><td>82.60914384</td><td>POINT(1797 1144)</td><td>6</td></tr>",
                            "<tr><td>78</td><td>Txndc5</td><td>1827</td><td>1475</td><td>82.60914384</td><td>POINT(1827 1475)</td><td>6</td></tr>",
                            "<tr><td>79</td><td>Txndc5</td><td>1850</td><td>938</td><td>82.60914384</td><td>POINT(1850 938)</td><td>6</td></tr>",
                            "<tr><td>80</td><td>Txndc5</td><td>1827</td><td>1475</td><td>96.37733447</td><td>POINT(1827 1475)</td><td>6</td></tr>",
                            "<tr><td>81</td><td>Klk1</td><td>1683</td><td>1861</td><td>13.76819064</td><td>POINT(1683 1861)</td><td>1</td></tr>",
                            "<tr><td>82</td><td>Klk1</td><td>1861</td><td>1590</td><td>82.60914384</td><td>POINT(1861 1590)</td><td>6</td></tr>",
                            "<tr><td>83</td><td>Slc12a2</td><td>1755</td><td>1731</td><td>0</td><td>POINT(1755 1731)</td><td>0</td></tr>",
                            "<tr><td>84</td><td>Slc12a2</td><td>1761</td><td>1791</td><td>0</td><td>POINT(1761 1791)</td><td>0</td></tr>",
                            "<tr><td>85</td><td>Slc12a2</td><td>1777</td><td>1593</td><td>0</td><td>POINT(1777 1593)</td><td>0</td></tr>",
                            "<tr><td>86</td><td>Slc12a2</td><td>1789</td><td>1705</td><td>0</td><td>POINT(1789 1705)</td><td>0</td></tr>",
                            "<tr><td>87</td><td>Slc12a2</td><td>1876</td><td>1822</td><td>0</td><td>POINT(1876 1822)</td><td>0</td></tr>",
                            "<tr><td>88</td><td>Slc12a2</td><td>1883</td><td>1765</td><td>0</td><td>POINT(1883 1765)</td><td>0</td></tr>",
                            "<tr><td>89</td><td>Slc12a2</td><td>1893</td><td>1563</td><td>0</td><td>POINT(1893 1563)</td><td>0</td></tr>",
                            "<tr><td>90</td><td>Slc12a2</td><td>1910</td><td>1472</td><td>0</td><td>POINT(1910 1472)</td><td>0</td></tr>",
                            "<tr><td>91</td><td>Slc12a2</td><td>1927</td><td>1824</td><td>0</td><td>POINT(1927 1824)</td><td>0</td></tr>",
                            "<tr><td>92</td><td>Slc12a2</td><td>1811</td><td>1782</td><td>13.76819064</td><td>POINT(1811 1782)</td><td>1</td></tr>",
                            "<tr><td>93</td><td>Slc12a2</td><td>1829</td><td>1079</td><td>13.76819064</td><td>POINT(1829 1079)</td><td>1</td></tr>",
                            "<tr><td>94</td><td>Slc12a2</td><td>1856</td><td>1780</td><td>13.76819064</td><td>POINT(1856 1780)</td><td>1</td></tr>",
                            "<tr><td>95</td><td>Slc12a2</td><td>1861</td><td>1865</td><td>13.76819064</td><td>POINT(1861 1865)</td><td>1</td></tr>",
                            "<tr><td>96</td><td>Slc12a2</td><td>1898</td><td>1788</td><td>13.76819064</td><td>POINT(1898 1788)</td><td>1</td></tr>",
                            "<tr><td>97</td><td>Slc12a2</td><td>1939</td><td>1467</td><td>13.76819064</td><td>POINT(1939 1467)</td><td>1</td></tr>",
                            "<tr><td>98</td><td>Slc12a2</td><td>1711</td><td>1863</td><td>27.53638128</td><td>POINT(1711 1863)</td><td>2</td></tr>",
                            "<tr><td>99</td><td>Slc12a2</td><td>1724</td><td>1320</td><td>27.53638128</td><td>POINT(1724 1320)</td><td>2</td></tr>",
                            "<tr><td>100</td><td>Slc12a2</td><td>1761</td><td>1793</td><td>27.53638128</td><td>POINT(1761 1793)</td><td>2</td></tr>",
                            "</table>"
                        ]
                    }
                }
            ],
            "execution_count": 35
        },
        {
            "cell_type": "markdown",
            "source": [
                "Now we want to convert the POINT column into actual points."
            ],
            "metadata": {
                "azdata_cell_guid": "01e32025-2652-4f93-b4f6-fbc037daf3bc"
            },
            "attachments": {}
        },
        {
            "cell_type": "code",
            "source": [
                "ALTER TABLE MoleculesWithPoints\n",
                "ADD point geometry;"
            ],
            "metadata": {
                "azdata_cell_guid": "7a688c5b-f97e-4392-83ed-6213fc16512b",
                "language": "sql"
            },
            "outputs": [
                {
                    "output_type": "display_data",
                    "data": {
                        "text/html": "Commands completed successfully."
                    },
                    "metadata": {}
                },
                {
                    "output_type": "display_data",
                    "data": {
                        "text/html": "Total execution time: 00:00:00.034"
                    },
                    "metadata": {}
                }
            ],
            "execution_count": 38
        },
        {
            "cell_type": "code",
            "source": [
                "UPDATE MoleculesWithPoints\n",
                "    SET point = geometry::STGeomFromText(point_string, 0);"
            ],
            "metadata": {
                "azdata_cell_guid": "1289c01f-906a-409c-b44c-4467cb80bd2d",
                "language": "sql"
            },
            "outputs": [
                {
                    "output_type": "display_data",
                    "data": {
                        "text/html": "(1000 rows affected)"
                    },
                    "metadata": {}
                },
                {
                    "output_type": "display_data",
                    "data": {
                        "text/html": "Total execution time: 00:00:00.330"
                    },
                    "metadata": {}
                }
            ],
            "execution_count": 41
        },
        {
            "cell_type": "code",
            "source": [
                "SELECT TOP(100) * FROM MoleculesWithPoints;"
            ],
            "metadata": {
                "language": "sql",
                "azdata_cell_guid": "dec66d25-420e-4b87-aa6d-b897cbe53063"
            },
            "outputs": [
                {
                    "output_type": "display_data",
                    "data": {
                        "text/html": "(100 rows affected)"
                    },
                    "metadata": {}
                },
                {
                    "output_type": "display_data",
                    "data": {
                        "text/html": "Total execution time: 00:00:00.523"
                    },
                    "metadata": {}
                },
                {
                    "output_type": "execute_result",
                    "metadata": {},
                    "execution_count": 43,
                    "data": {
                        "application/vnd.dataresource+json": {
                            "schema": {
                                "fields": [
                                    {
                                        "name": "molecule_id"
                                    },
                                    {
                                        "name": "gene"
                                    },
                                    {
                                        "name": "x_pixel"
                                    },
                                    {
                                        "name": "y_pixel"
                                    },
                                    {
                                        "name": "z_pixel"
                                    },
                                    {
                                        "name": "point_string"
                                    },
                                    {
                                        "name": "z_pixel_int"
                                    },
                                    {
                                        "name": "point"
                                    }
                                ]
                            },
                            "data": [
                                {
                                    "0": "1",
                                    "1": "Maoa",
                                    "2": "1705",
                                    "3": "1271",
                                    "4": "0",
                                    "5": "POINT(1705 1271)",
                                    "6": "0",
                                    "7": "0x00000000010C0000000000A49A400000000000DC9340"
                                },
                                {
                                    "0": "2",
                                    "1": "Maoa",
                                    "2": "1725",
                                    "3": "1922",
                                    "4": "0",
                                    "5": "POINT(1725 1922)",
                                    "6": "0",
                                    "7": "0x00000000010C0000000000F49A400000000000089E40"
                                },
                                {
                                    "0": "3",
                                    "1": "Maoa",
                                    "2": "1753",
                                    "3": "1863",
                                    "4": "0",
                                    "5": "POINT(1753 1863)",
                                    "6": "0",
                                    "7": "0x00000000010C0000000000649B4000000000001C9D40"
                                },
                                {
                                    "0": "4",
                                    "1": "Maoa",
                                    "2": "1760",
                                    "3": "1865",
                                    "4": "0",
                                    "5": "POINT(1760 1865)",
                                    "6": "0",
                                    "7": "0x00000000010C0000000000809B400000000000249D40"
                                },
                                {
                                    "0": "5",
                                    "1": "Maoa",
                                    "2": "1904",
                                    "3": "794",
                                    "4": "0",
                                    "5": "POINT(1904 794)",
                                    "6": "0",
                                    "7": "0x00000000010C0000000000C09D400000000000D08840"
                                },
                                {
                                    "0": "6",
                                    "1": "Maoa",
                                    "2": "1915",
                                    "3": "1430",
                                    "4": "0",
                                    "5": "POINT(1915 1430)",
                                    "6": "0",
                                    "7": "0x00000000010C0000000000EC9D400000000000589640"
                                },
                                {
                                    "0": "7",
                                    "1": "Maoa",
                                    "2": "1751",
                                    "3": "1873",
                                    "4": "13.76819064",
                                    "5": "POINT(1751 1873)",
                                    "6": "1",
                                    "7": "0x00000000010C00000000005C9B400000000000449D40"
                                },
                                {
                                    "0": "8",
                                    "1": "Maoa",
                                    "2": "1780",
                                    "3": "1844",
                                    "4": "13.76819064",
                                    "5": "POINT(1780 1844)",
                                    "6": "1",
                                    "7": "0x00000000010C0000000000D09B400000000000D09C40"
                                },
                                {
                                    "0": "9",
                                    "1": "Maoa",
                                    "2": "1816",
                                    "3": "995",
                                    "4": "13.76819064",
                                    "5": "POINT(1816 995)",
                                    "6": "1",
                                    "7": "0x00000000010C0000000000609C400000000000188F40"
                                },
                                {
                                    "0": "10",
                                    "1": "Maoa",
                                    "2": "1822",
                                    "3": "1232",
                                    "4": "13.76819064",
                                    "5": "POINT(1822 1232)",
                                    "6": "1",
                                    "7": "0x00000000010C0000000000789C400000000000409340"
                                },
                                {
                                    "0": "11",
                                    "1": "Maoa",
                                    "2": "1880",
                                    "3": "1322",
                                    "4": "13.76819064",
                                    "5": "POINT(1880 1322)",
                                    "6": "1",
                                    "7": "0x00000000010C0000000000609D400000000000A89440"
                                },
                                {
                                    "0": "12",
                                    "1": "Maoa",
                                    "2": "1604",
                                    "3": "1695",
                                    "4": "27.53638128",
                                    "5": "POINT(1604 1695)",
                                    "6": "2",
                                    "7": "0x00000000010C000000000010994000000000007C9A40"
                                },
                                {
                                    "0": "13",
                                    "1": "Maoa",
                                    "2": "1652",
                                    "3": "1923",
                                    "4": "27.53638128",
                                    "5": "POINT(1652 1923)",
                                    "6": "2",
                                    "7": "0x00000000010C0000000000D0994000000000000C9E40"
                                },
                                {
                                    "0": "14",
                                    "1": "Maoa",
                                    "2": "1735",
                                    "3": "1870",
                                    "4": "27.53638128",
                                    "5": "POINT(1735 1870)",
                                    "6": "2",
                                    "7": "0x00000000010C00000000001C9B400000000000389D40"
                                },
                                {
                                    "0": "15",
                                    "1": "Maoa",
                                    "2": "1802",
                                    "3": "1843",
                                    "4": "27.53638128",
                                    "5": "POINT(1802 1843)",
                                    "6": "2",
                                    "7": "0x00000000010C0000000000289C400000000000CC9C40"
                                },
                                {
                                    "0": "16",
                                    "1": "Maoa",
                                    "2": "1847",
                                    "3": "1711",
                                    "4": "27.53638128",
                                    "5": "POINT(1847 1711)",
                                    "6": "2",
                                    "7": "0x00000000010C0000000000DC9C400000000000BC9A40"
                                },
                                {
                                    "0": "17",
                                    "1": "Maoa",
                                    "2": "1886",
                                    "3": "998",
                                    "4": "27.53638128",
                                    "5": "POINT(1886 998)",
                                    "6": "2",
                                    "7": "0x00000000010C0000000000789D400000000000308F40"
                                },
                                {
                                    "0": "18",
                                    "1": "Maoa",
                                    "2": "1928",
                                    "3": "1095",
                                    "4": "27.53638128",
                                    "5": "POINT(1928 1095)",
                                    "6": "2",
                                    "7": "0x00000000010C0000000000209E4000000000001C9140"
                                },
                                {
                                    "0": "19",
                                    "1": "Maoa",
                                    "2": "1515",
                                    "3": "1859",
                                    "4": "41.30457192",
                                    "5": "POINT(1515 1859)",
                                    "6": "3",
                                    "7": "0x00000000010C0000000000AC974000000000000C9D40"
                                },
                                {
                                    "0": "20",
                                    "1": "Maoa",
                                    "2": "1737",
                                    "3": "1171",
                                    "4": "41.30457192",
                                    "5": "POINT(1737 1171)",
                                    "6": "3",
                                    "7": "0x00000000010C0000000000249B4000000000004C9240"
                                },
                                {
                                    "0": "21",
                                    "1": "Maoa",
                                    "2": "1775",
                                    "3": "1195",
                                    "4": "41.30457192",
                                    "5": "POINT(1775 1195)",
                                    "6": "3",
                                    "7": "0x00000000010C0000000000BC9B400000000000AC9240"
                                },
                                {
                                    "0": "22",
                                    "1": "Maoa",
                                    "2": "1589",
                                    "3": "1814",
                                    "4": "55.07276256",
                                    "5": "POINT(1589 1814)",
                                    "6": "4",
                                    "7": "0x00000000010C0000000000D498400000000000589C40"
                                },
                                {
                                    "0": "23",
                                    "1": "Maoa",
                                    "2": "1711",
                                    "3": "1229",
                                    "4": "55.07276256",
                                    "5": "POINT(1711 1229)",
                                    "6": "4",
                                    "7": "0x00000000010C0000000000BC9A400000000000349340"
                                },
                                {
                                    "0": "24",
                                    "1": "Maoa",
                                    "2": "1781",
                                    "3": "1101",
                                    "4": "55.07276256",
                                    "5": "POINT(1781 1101)",
                                    "6": "4",
                                    "7": "0x00000000010C0000000000D49B400000000000349140"
                                },
                                {
                                    "0": "25",
                                    "1": "Maoa",
                                    "2": "1788",
                                    "3": "1198",
                                    "4": "55.07276256",
                                    "5": "POINT(1788 1198)",
                                    "6": "4",
                                    "7": "0x00000000010C0000000000F09B400000000000B89240"
                                },
                                {
                                    "0": "26",
                                    "1": "Maoa",
                                    "2": "1788",
                                    "3": "1906",
                                    "4": "55.07276256",
                                    "5": "POINT(1788 1906)",
                                    "6": "4",
                                    "7": "0x00000000010C0000000000F09B400000000000C89D40"
                                },
                                {
                                    "0": "27",
                                    "1": "Maoa",
                                    "2": "1896",
                                    "3": "660",
                                    "4": "55.07276256",
                                    "5": "POINT(1896 660)",
                                    "6": "4",
                                    "7": "0x00000000010C0000000000A09D400000000000A08440"
                                },
                                {
                                    "0": "28",
                                    "1": "Maoa",
                                    "2": "1767",
                                    "3": "1898",
                                    "4": "68.8409532",
                                    "5": "POINT(1767 1898)",
                                    "6": "5",
                                    "7": "0x00000000010C00000000009C9B400000000000A89D40"
                                },
                                {
                                    "0": "29",
                                    "1": "Hmgb2",
                                    "2": "1835",
                                    "3": "926",
                                    "4": "13.76819064",
                                    "5": "POINT(1835 926)",
                                    "6": "1",
                                    "7": "0x00000000010C0000000000AC9C400000000000F08C40"
                                },
                                {
                                    "0": "30",
                                    "1": "Hmgb2",
                                    "2": "1644",
                                    "3": "1696",
                                    "4": "27.53638128",
                                    "5": "POINT(1644 1696)",
                                    "6": "2",
                                    "7": "0x00000000010C0000000000B099400000000000809A40"
                                },
                                {
                                    "0": "31",
                                    "1": "Hmgb2",
                                    "2": "1835",
                                    "3": "938",
                                    "4": "110.1455251",
                                    "5": "POINT(1835 938)",
                                    "6": "7",
                                    "7": "0x00000000010C0000000000AC9C400000000000508D40"
                                },
                                {
                                    "0": "32",
                                    "1": "Txndc5",
                                    "2": "1557",
                                    "3": "1641",
                                    "4": "0",
                                    "5": "POINT(1557 1641)",
                                    "6": "0",
                                    "7": "0x00000000010C00000000005498400000000000A49940"
                                },
                                {
                                    "0": "33",
                                    "1": "Txndc5",
                                    "2": "1559",
                                    "3": "1832",
                                    "4": "0",
                                    "5": "POINT(1559 1832)",
                                    "6": "0",
                                    "7": "0x00000000010C00000000005C98400000000000A09C40"
                                },
                                {
                                    "0": "34",
                                    "1": "Txndc5",
                                    "2": "1658",
                                    "3": "1663",
                                    "4": "0",
                                    "5": "POINT(1658 1663)",
                                    "6": "0",
                                    "7": "0x00000000010C0000000000E899400000000000FC9940"
                                },
                                {
                                    "0": "35",
                                    "1": "Txndc5",
                                    "2": "1780",
                                    "3": "1873",
                                    "4": "0",
                                    "5": "POINT(1780 1873)",
                                    "6": "0",
                                    "7": "0x00000000010C0000000000D09B400000000000449D40"
                                },
                                {
                                    "0": "36",
                                    "1": "Txndc5",
                                    "2": "1786",
                                    "3": "1440",
                                    "4": "0",
                                    "5": "POINT(1786 1440)",
                                    "6": "0",
                                    "7": "0x00000000010C0000000000E89B400000000000809640"
                                },
                                {
                                    "0": "37",
                                    "1": "Txndc5",
                                    "2": "1814",
                                    "3": "944",
                                    "4": "0",
                                    "5": "POINT(1814 944)",
                                    "6": "0",
                                    "7": "0x00000000010C0000000000589C400000000000808D40"
                                },
                                {
                                    "0": "38",
                                    "1": "Txndc5",
                                    "2": "1828",
                                    "3": "1217",
                                    "4": "0",
                                    "5": "POINT(1828 1217)",
                                    "6": "0",
                                    "7": "0x00000000010C0000000000909C400000000000049340"
                                },
                                {
                                    "0": "39",
                                    "1": "Txndc5",
                                    "2": "1834",
                                    "3": "1856",
                                    "4": "0",
                                    "5": "POINT(1834 1856)",
                                    "6": "0",
                                    "7": "0x00000000010C0000000000A89C400000000000009D40"
                                },
                                {
                                    "0": "40",
                                    "1": "Txndc5",
                                    "2": "1682",
                                    "3": "1382",
                                    "4": "13.76819064",
                                    "5": "POINT(1682 1382)",
                                    "6": "1",
                                    "7": "0x00000000010C0000000000489A400000000000989540"
                                },
                                {
                                    "0": "41",
                                    "1": "Txndc5",
                                    "2": "1745",
                                    "3": "1806",
                                    "4": "13.76819064",
                                    "5": "POINT(1745 1806)",
                                    "6": "1",
                                    "7": "0x00000000010C0000000000449B400000000000389C40"
                                },
                                {
                                    "0": "42",
                                    "1": "Txndc5",
                                    "2": "1758",
                                    "3": "1793",
                                    "4": "13.76819064",
                                    "5": "POINT(1758 1793)",
                                    "6": "1",
                                    "7": "0x00000000010C0000000000789B400000000000049C40"
                                },
                                {
                                    "0": "43",
                                    "1": "Txndc5",
                                    "2": "1807",
                                    "3": "943",
                                    "4": "13.76819064",
                                    "5": "POINT(1807 943)",
                                    "6": "1",
                                    "7": "0x00000000010C00000000003C9C400000000000788D40"
                                },
                                {
                                    "0": "44",
                                    "1": "Txndc5",
                                    "2": "1829",
                                    "3": "1714",
                                    "4": "13.76819064",
                                    "5": "POINT(1829 1714)",
                                    "6": "1",
                                    "7": "0x00000000010C0000000000949C400000000000C89A40"
                                },
                                {
                                    "0": "45",
                                    "1": "Txndc5",
                                    "2": "1841",
                                    "3": "942",
                                    "4": "13.76819064",
                                    "5": "POINT(1841 942)",
                                    "6": "1",
                                    "7": "0x00000000010C0000000000C49C400000000000708D40"
                                },
                                {
                                    "0": "46",
                                    "1": "Txndc5",
                                    "2": "1860",
                                    "3": "1635",
                                    "4": "13.76819064",
                                    "5": "POINT(1860 1635)",
                                    "6": "1",
                                    "7": "0x00000000010C0000000000109D4000000000008C9940"
                                },
                                {
                                    "0": "47",
                                    "1": "Txndc5",
                                    "2": "1755",
                                    "3": "1807",
                                    "4": "27.53638128",
                                    "5": "POINT(1755 1807)",
                                    "6": "2",
                                    "7": "0x00000000010C00000000006C9B4000000000003C9C40"
                                },
                                {
                                    "0": "48",
                                    "1": "Txndc5",
                                    "2": "1773",
                                    "3": "1016",
                                    "4": "27.53638128",
                                    "5": "POINT(1773 1016)",
                                    "6": "2",
                                    "7": "0x00000000010C0000000000B49B400000000000C08F40"
                                },
                                {
                                    "0": "49",
                                    "1": "Txndc5",
                                    "2": "1800",
                                    "3": "1252",
                                    "4": "27.53638128",
                                    "5": "POINT(1800 1252)",
                                    "6": "2",
                                    "7": "0x00000000010C0000000000209C400000000000909340"
                                },
                                {
                                    "0": "50",
                                    "1": "Txndc5",
                                    "2": "1837",
                                    "3": "1852",
                                    "4": "27.53638128",
                                    "5": "POINT(1837 1852)",
                                    "6": "2",
                                    "7": "0x00000000010C0000000000B49C400000000000F09C40"
                                },
                                {
                                    "0": "51",
                                    "1": "Txndc5",
                                    "2": "1866",
                                    "3": "1828",
                                    "4": "27.53638128",
                                    "5": "POINT(1866 1828)",
                                    "6": "2",
                                    "7": "0x00000000010C0000000000289D400000000000909C40"
                                },
                                {
                                    "0": "52",
                                    "1": "Txndc5",
                                    "2": "1870",
                                    "3": "1196",
                                    "4": "27.53638128",
                                    "5": "POINT(1870 1196)",
                                    "6": "2",
                                    "7": "0x00000000010C0000000000389D400000000000B09240"
                                },
                                {
                                    "0": "53",
                                    "1": "Txndc5",
                                    "2": "1935",
                                    "3": "872",
                                    "4": "27.53638128",
                                    "5": "POINT(1935 872)",
                                    "6": "2",
                                    "7": "0x00000000010C00000000003C9E400000000000408B40"
                                },
                                {
                                    "0": "54",
                                    "1": "Txndc5",
                                    "2": "1511",
                                    "3": "1865",
                                    "4": "41.30457192",
                                    "5": "POINT(1511 1865)",
                                    "6": "3",
                                    "7": "0x00000000010C00000000009C97400000000000249D40"
                                },
                                {
                                    "0": "55",
                                    "1": "Txndc5",
                                    "2": "1519",
                                    "3": "1667",
                                    "4": "41.30457192",
                                    "5": "POINT(1519 1667)",
                                    "6": "3",
                                    "7": "0x00000000010C0000000000BC974000000000000C9A40"
                                },
                                {
                                    "0": "56",
                                    "1": "Txndc5",
                                    "2": "1578",
                                    "3": "1572",
                                    "4": "41.30457192",
                                    "5": "POINT(1578 1572)",
                                    "6": "3",
                                    "7": "0x00000000010C0000000000A898400000000000909840"
                                },
                                {
                                    "0": "57",
                                    "1": "Txndc5",
                                    "2": "1708",
                                    "3": "1224",
                                    "4": "41.30457192",
                                    "5": "POINT(1708 1224)",
                                    "6": "3",
                                    "7": "0x00000000010C0000000000B09A400000000000209340"
                                },
                                {
                                    "0": "58",
                                    "1": "Txndc5",
                                    "2": "1740",
                                    "3": "1633",
                                    "4": "41.30457192",
                                    "5": "POINT(1740 1633)",
                                    "6": "3",
                                    "7": "0x00000000010C0000000000309B400000000000849940"
                                },
                                {
                                    "0": "59",
                                    "1": "Txndc5",
                                    "2": "1814",
                                    "3": "1233",
                                    "4": "41.30457192",
                                    "5": "POINT(1814 1233)",
                                    "6": "3",
                                    "7": "0x00000000010C0000000000589C400000000000449340"
                                },
                                {
                                    "0": "60",
                                    "1": "Txndc5",
                                    "2": "1877",
                                    "3": "1070",
                                    "4": "41.30457192",
                                    "5": "POINT(1877 1070)",
                                    "6": "3",
                                    "7": "0x00000000010C0000000000549D400000000000B89040"
                                },
                                {
                                    "0": "61",
                                    "1": "Txndc5",
                                    "2": "1554",
                                    "3": "1606",
                                    "4": "55.07276256",
                                    "5": "POINT(1554 1606)",
                                    "6": "4",
                                    "7": "0x00000000010C00000000004898400000000000189940"
                                },
                                {
                                    "0": "62",
                                    "1": "Txndc5",
                                    "2": "1566",
                                    "3": "1798",
                                    "4": "55.07276256",
                                    "5": "POINT(1566 1798)",
                                    "6": "4",
                                    "7": "0x00000000010C00000000007898400000000000189C40"
                                },
                                {
                                    "0": "63",
                                    "1": "Txndc5",
                                    "2": "1702",
                                    "3": "1698",
                                    "4": "55.07276256",
                                    "5": "POINT(1702 1698)",
                                    "6": "4",
                                    "7": "0x00000000010C0000000000989A400000000000889A40"
                                },
                                {
                                    "0": "64",
                                    "1": "Txndc5",
                                    "2": "1715",
                                    "3": "1191",
                                    "4": "55.07276256",
                                    "5": "POINT(1715 1191)",
                                    "6": "4",
                                    "7": "0x00000000010C0000000000CC9A4000000000009C9240"
                                },
                                {
                                    "0": "65",
                                    "1": "Txndc5",
                                    "2": "1726",
                                    "3": "1206",
                                    "4": "55.07276256",
                                    "5": "POINT(1726 1206)",
                                    "6": "4",
                                    "7": "0x00000000010C0000000000F89A400000000000D89240"
                                },
                                {
                                    "0": "66",
                                    "1": "Txndc5",
                                    "2": "1777",
                                    "3": "1151",
                                    "4": "55.07276256",
                                    "5": "POINT(1777 1151)",
                                    "6": "4",
                                    "7": "0x00000000010C0000000000C49B400000000000FC9140"
                                },
                                {
                                    "0": "67",
                                    "1": "Txndc5",
                                    "2": "1795",
                                    "3": "922",
                                    "4": "55.07276256",
                                    "5": "POINT(1795 922)",
                                    "6": "4",
                                    "7": "0x00000000010C00000000000C9C400000000000D08C40"
                                },
                                {
                                    "0": "68",
                                    "1": "Txndc5",
                                    "2": "1847",
                                    "3": "881",
                                    "4": "55.07276256",
                                    "5": "POINT(1847 881)",
                                    "6": "4",
                                    "7": "0x00000000010C0000000000DC9C400000000000888B40"
                                },
                                {
                                    "0": "69",
                                    "1": "Txndc5",
                                    "2": "1861",
                                    "3": "922",
                                    "4": "55.07276256",
                                    "5": "POINT(1861 922)",
                                    "6": "4",
                                    "7": "0x00000000010C0000000000149D400000000000D08C40"
                                },
                                {
                                    "0": "70",
                                    "1": "Txndc5",
                                    "2": "1524",
                                    "3": "1840",
                                    "4": "68.8409532",
                                    "5": "POINT(1524 1840)",
                                    "6": "5",
                                    "7": "0x00000000010C0000000000D097400000000000C09C40"
                                },
                                {
                                    "0": "71",
                                    "1": "Txndc5",
                                    "2": "1631",
                                    "3": "1603",
                                    "4": "68.8409532",
                                    "5": "POINT(1631 1603)",
                                    "6": "5",
                                    "7": "0x00000000010C00000000007C994000000000000C9940"
                                },
                                {
                                    "0": "72",
                                    "1": "Txndc5",
                                    "2": "1807",
                                    "3": "985",
                                    "4": "68.8409532",
                                    "5": "POINT(1807 985)",
                                    "6": "5",
                                    "7": "0x00000000010C00000000003C9C400000000000C88E40"
                                },
                                {
                                    "0": "73",
                                    "1": "Txndc5",
                                    "2": "1830",
                                    "3": "1110",
                                    "4": "68.8409532",
                                    "5": "POINT(1830 1110)",
                                    "6": "5",
                                    "7": "0x00000000010C0000000000989C400000000000589140"
                                },
                                {
                                    "0": "74",
                                    "1": "Txndc5",
                                    "2": "1858",
                                    "3": "1531",
                                    "4": "68.8409532",
                                    "5": "POINT(1858 1531)",
                                    "6": "5",
                                    "7": "0x00000000010C0000000000089D400000000000EC9740"
                                },
                                {
                                    "0": "75",
                                    "1": "Txndc5",
                                    "2": "1899",
                                    "3": "1269",
                                    "4": "68.8409532",
                                    "5": "POINT(1899 1269)",
                                    "6": "5",
                                    "7": "0x00000000010C0000000000AC9D400000000000D49340"
                                },
                                {
                                    "0": "76",
                                    "1": "Txndc5",
                                    "2": "1791",
                                    "3": "1107",
                                    "4": "82.60914384",
                                    "5": "POINT(1791 1107)",
                                    "6": "6",
                                    "7": "0x00000000010C0000000000FC9B4000000000004C9140"
                                },
                                {
                                    "0": "77",
                                    "1": "Txndc5",
                                    "2": "1797",
                                    "3": "1144",
                                    "4": "82.60914384",
                                    "5": "POINT(1797 1144)",
                                    "6": "6",
                                    "7": "0x00000000010C0000000000149C400000000000E09140"
                                },
                                {
                                    "0": "78",
                                    "1": "Txndc5",
                                    "2": "1827",
                                    "3": "1475",
                                    "4": "82.60914384",
                                    "5": "POINT(1827 1475)",
                                    "6": "6",
                                    "7": "0x00000000010C00000000008C9C4000000000000C9740"
                                },
                                {
                                    "0": "79",
                                    "1": "Txndc5",
                                    "2": "1850",
                                    "3": "938",
                                    "4": "82.60914384",
                                    "5": "POINT(1850 938)",
                                    "6": "6",
                                    "7": "0x00000000010C0000000000E89C400000000000508D40"
                                },
                                {
                                    "0": "80",
                                    "1": "Txndc5",
                                    "2": "1827",
                                    "3": "1475",
                                    "4": "96.37733447",
                                    "5": "POINT(1827 1475)",
                                    "6": "6",
                                    "7": "0x00000000010C00000000008C9C4000000000000C9740"
                                },
                                {
                                    "0": "81",
                                    "1": "Klk1",
                                    "2": "1683",
                                    "3": "1861",
                                    "4": "13.76819064",
                                    "5": "POINT(1683 1861)",
                                    "6": "1",
                                    "7": "0x00000000010C00000000004C9A400000000000149D40"
                                },
                                {
                                    "0": "82",
                                    "1": "Klk1",
                                    "2": "1861",
                                    "3": "1590",
                                    "4": "82.60914384",
                                    "5": "POINT(1861 1590)",
                                    "6": "6",
                                    "7": "0x00000000010C0000000000149D400000000000D89840"
                                },
                                {
                                    "0": "83",
                                    "1": "Slc12a2",
                                    "2": "1755",
                                    "3": "1731",
                                    "4": "0",
                                    "5": "POINT(1755 1731)",
                                    "6": "0",
                                    "7": "0x00000000010C00000000006C9B4000000000000C9B40"
                                },
                                {
                                    "0": "84",
                                    "1": "Slc12a2",
                                    "2": "1761",
                                    "3": "1791",
                                    "4": "0",
                                    "5": "POINT(1761 1791)",
                                    "6": "0",
                                    "7": "0x00000000010C0000000000849B400000000000FC9B40"
                                },
                                {
                                    "0": "85",
                                    "1": "Slc12a2",
                                    "2": "1777",
                                    "3": "1593",
                                    "4": "0",
                                    "5": "POINT(1777 1593)",
                                    "6": "0",
                                    "7": "0x00000000010C0000000000C49B400000000000E49840"
                                },
                                {
                                    "0": "86",
                                    "1": "Slc12a2",
                                    "2": "1789",
                                    "3": "1705",
                                    "4": "0",
                                    "5": "POINT(1789 1705)",
                                    "6": "0",
                                    "7": "0x00000000010C0000000000F49B400000000000A49A40"
                                },
                                {
                                    "0": "87",
                                    "1": "Slc12a2",
                                    "2": "1876",
                                    "3": "1822",
                                    "4": "0",
                                    "5": "POINT(1876 1822)",
                                    "6": "0",
                                    "7": "0x00000000010C0000000000509D400000000000789C40"
                                },
                                {
                                    "0": "88",
                                    "1": "Slc12a2",
                                    "2": "1883",
                                    "3": "1765",
                                    "4": "0",
                                    "5": "POINT(1883 1765)",
                                    "6": "0",
                                    "7": "0x00000000010C00000000006C9D400000000000949B40"
                                },
                                {
                                    "0": "89",
                                    "1": "Slc12a2",
                                    "2": "1893",
                                    "3": "1563",
                                    "4": "0",
                                    "5": "POINT(1893 1563)",
                                    "6": "0",
                                    "7": "0x00000000010C0000000000949D4000000000006C9840"
                                },
                                {
                                    "0": "90",
                                    "1": "Slc12a2",
                                    "2": "1910",
                                    "3": "1472",
                                    "4": "0",
                                    "5": "POINT(1910 1472)",
                                    "6": "0",
                                    "7": "0x00000000010C0000000000D89D400000000000009740"
                                },
                                {
                                    "0": "91",
                                    "1": "Slc12a2",
                                    "2": "1927",
                                    "3": "1824",
                                    "4": "0",
                                    "5": "POINT(1927 1824)",
                                    "6": "0",
                                    "7": "0x00000000010C00000000001C9E400000000000809C40"
                                },
                                {
                                    "0": "92",
                                    "1": "Slc12a2",
                                    "2": "1811",
                                    "3": "1782",
                                    "4": "13.76819064",
                                    "5": "POINT(1811 1782)",
                                    "6": "1",
                                    "7": "0x00000000010C00000000004C9C400000000000D89B40"
                                },
                                {
                                    "0": "93",
                                    "1": "Slc12a2",
                                    "2": "1829",
                                    "3": "1079",
                                    "4": "13.76819064",
                                    "5": "POINT(1829 1079)",
                                    "6": "1",
                                    "7": "0x00000000010C0000000000949C400000000000DC9040"
                                },
                                {
                                    "0": "94",
                                    "1": "Slc12a2",
                                    "2": "1856",
                                    "3": "1780",
                                    "4": "13.76819064",
                                    "5": "POINT(1856 1780)",
                                    "6": "1",
                                    "7": "0x00000000010C0000000000009D400000000000D09B40"
                                },
                                {
                                    "0": "95",
                                    "1": "Slc12a2",
                                    "2": "1861",
                                    "3": "1865",
                                    "4": "13.76819064",
                                    "5": "POINT(1861 1865)",
                                    "6": "1",
                                    "7": "0x00000000010C0000000000149D400000000000249D40"
                                },
                                {
                                    "0": "96",
                                    "1": "Slc12a2",
                                    "2": "1898",
                                    "3": "1788",
                                    "4": "13.76819064",
                                    "5": "POINT(1898 1788)",
                                    "6": "1",
                                    "7": "0x00000000010C0000000000A89D400000000000F09B40"
                                },
                                {
                                    "0": "97",
                                    "1": "Slc12a2",
                                    "2": "1939",
                                    "3": "1467",
                                    "4": "13.76819064",
                                    "5": "POINT(1939 1467)",
                                    "6": "1",
                                    "7": "0x00000000010C00000000004C9E400000000000EC9640"
                                },
                                {
                                    "0": "98",
                                    "1": "Slc12a2",
                                    "2": "1711",
                                    "3": "1863",
                                    "4": "27.53638128",
                                    "5": "POINT(1711 1863)",
                                    "6": "2",
                                    "7": "0x00000000010C0000000000BC9A4000000000001C9D40"
                                },
                                {
                                    "0": "99",
                                    "1": "Slc12a2",
                                    "2": "1724",
                                    "3": "1320",
                                    "4": "27.53638128",
                                    "5": "POINT(1724 1320)",
                                    "6": "2",
                                    "7": "0x00000000010C0000000000F09A400000000000A09440"
                                },
                                {
                                    "0": "100",
                                    "1": "Slc12a2",
                                    "2": "1761",
                                    "3": "1793",
                                    "4": "27.53638128",
                                    "5": "POINT(1761 1793)",
                                    "6": "2",
                                    "7": "0x00000000010C0000000000849B400000000000049C40"
                                }
                            ]
                        },
                        "text/html": [
                            "<table>",
                            "<tr><th>molecule_id</th><th>gene</th><th>x_pixel</th><th>y_pixel</th><th>z_pixel</th><th>point_string</th><th>z_pixel_int</th><th>point</th></tr>",
                            "<tr><td>1</td><td>Maoa</td><td>1705</td><td>1271</td><td>0</td><td>POINT(1705 1271)</td><td>0</td><td>0x00000000010C0000000000A49A400000000000DC9340</td></tr>",
                            "<tr><td>2</td><td>Maoa</td><td>1725</td><td>1922</td><td>0</td><td>POINT(1725 1922)</td><td>0</td><td>0x00000000010C0000000000F49A400000000000089E40</td></tr>",
                            "<tr><td>3</td><td>Maoa</td><td>1753</td><td>1863</td><td>0</td><td>POINT(1753 1863)</td><td>0</td><td>0x00000000010C0000000000649B4000000000001C9D40</td></tr>",
                            "<tr><td>4</td><td>Maoa</td><td>1760</td><td>1865</td><td>0</td><td>POINT(1760 1865)</td><td>0</td><td>0x00000000010C0000000000809B400000000000249D40</td></tr>",
                            "<tr><td>5</td><td>Maoa</td><td>1904</td><td>794</td><td>0</td><td>POINT(1904 794)</td><td>0</td><td>0x00000000010C0000000000C09D400000000000D08840</td></tr>",
                            "<tr><td>6</td><td>Maoa</td><td>1915</td><td>1430</td><td>0</td><td>POINT(1915 1430)</td><td>0</td><td>0x00000000010C0000000000EC9D400000000000589640</td></tr>",
                            "<tr><td>7</td><td>Maoa</td><td>1751</td><td>1873</td><td>13.76819064</td><td>POINT(1751 1873)</td><td>1</td><td>0x00000000010C00000000005C9B400000000000449D40</td></tr>",
                            "<tr><td>8</td><td>Maoa</td><td>1780</td><td>1844</td><td>13.76819064</td><td>POINT(1780 1844)</td><td>1</td><td>0x00000000010C0000000000D09B400000000000D09C40</td></tr>",
                            "<tr><td>9</td><td>Maoa</td><td>1816</td><td>995</td><td>13.76819064</td><td>POINT(1816 995)</td><td>1</td><td>0x00000000010C0000000000609C400000000000188F40</td></tr>",
                            "<tr><td>10</td><td>Maoa</td><td>1822</td><td>1232</td><td>13.76819064</td><td>POINT(1822 1232)</td><td>1</td><td>0x00000000010C0000000000789C400000000000409340</td></tr>",
                            "<tr><td>11</td><td>Maoa</td><td>1880</td><td>1322</td><td>13.76819064</td><td>POINT(1880 1322)</td><td>1</td><td>0x00000000010C0000000000609D400000000000A89440</td></tr>",
                            "<tr><td>12</td><td>Maoa</td><td>1604</td><td>1695</td><td>27.53638128</td><td>POINT(1604 1695)</td><td>2</td><td>0x00000000010C000000000010994000000000007C9A40</td></tr>",
                            "<tr><td>13</td><td>Maoa</td><td>1652</td><td>1923</td><td>27.53638128</td><td>POINT(1652 1923)</td><td>2</td><td>0x00000000010C0000000000D0994000000000000C9E40</td></tr>",
                            "<tr><td>14</td><td>Maoa</td><td>1735</td><td>1870</td><td>27.53638128</td><td>POINT(1735 1870)</td><td>2</td><td>0x00000000010C00000000001C9B400000000000389D40</td></tr>",
                            "<tr><td>15</td><td>Maoa</td><td>1802</td><td>1843</td><td>27.53638128</td><td>POINT(1802 1843)</td><td>2</td><td>0x00000000010C0000000000289C400000000000CC9C40</td></tr>",
                            "<tr><td>16</td><td>Maoa</td><td>1847</td><td>1711</td><td>27.53638128</td><td>POINT(1847 1711)</td><td>2</td><td>0x00000000010C0000000000DC9C400000000000BC9A40</td></tr>",
                            "<tr><td>17</td><td>Maoa</td><td>1886</td><td>998</td><td>27.53638128</td><td>POINT(1886 998)</td><td>2</td><td>0x00000000010C0000000000789D400000000000308F40</td></tr>",
                            "<tr><td>18</td><td>Maoa</td><td>1928</td><td>1095</td><td>27.53638128</td><td>POINT(1928 1095)</td><td>2</td><td>0x00000000010C0000000000209E4000000000001C9140</td></tr>",
                            "<tr><td>19</td><td>Maoa</td><td>1515</td><td>1859</td><td>41.30457192</td><td>POINT(1515 1859)</td><td>3</td><td>0x00000000010C0000000000AC974000000000000C9D40</td></tr>",
                            "<tr><td>20</td><td>Maoa</td><td>1737</td><td>1171</td><td>41.30457192</td><td>POINT(1737 1171)</td><td>3</td><td>0x00000000010C0000000000249B4000000000004C9240</td></tr>",
                            "<tr><td>21</td><td>Maoa</td><td>1775</td><td>1195</td><td>41.30457192</td><td>POINT(1775 1195)</td><td>3</td><td>0x00000000010C0000000000BC9B400000000000AC9240</td></tr>",
                            "<tr><td>22</td><td>Maoa</td><td>1589</td><td>1814</td><td>55.07276256</td><td>POINT(1589 1814)</td><td>4</td><td>0x00000000010C0000000000D498400000000000589C40</td></tr>",
                            "<tr><td>23</td><td>Maoa</td><td>1711</td><td>1229</td><td>55.07276256</td><td>POINT(1711 1229)</td><td>4</td><td>0x00000000010C0000000000BC9A400000000000349340</td></tr>",
                            "<tr><td>24</td><td>Maoa</td><td>1781</td><td>1101</td><td>55.07276256</td><td>POINT(1781 1101)</td><td>4</td><td>0x00000000010C0000000000D49B400000000000349140</td></tr>",
                            "<tr><td>25</td><td>Maoa</td><td>1788</td><td>1198</td><td>55.07276256</td><td>POINT(1788 1198)</td><td>4</td><td>0x00000000010C0000000000F09B400000000000B89240</td></tr>",
                            "<tr><td>26</td><td>Maoa</td><td>1788</td><td>1906</td><td>55.07276256</td><td>POINT(1788 1906)</td><td>4</td><td>0x00000000010C0000000000F09B400000000000C89D40</td></tr>",
                            "<tr><td>27</td><td>Maoa</td><td>1896</td><td>660</td><td>55.07276256</td><td>POINT(1896 660)</td><td>4</td><td>0x00000000010C0000000000A09D400000000000A08440</td></tr>",
                            "<tr><td>28</td><td>Maoa</td><td>1767</td><td>1898</td><td>68.8409532</td><td>POINT(1767 1898)</td><td>5</td><td>0x00000000010C00000000009C9B400000000000A89D40</td></tr>",
                            "<tr><td>29</td><td>Hmgb2</td><td>1835</td><td>926</td><td>13.76819064</td><td>POINT(1835 926)</td><td>1</td><td>0x00000000010C0000000000AC9C400000000000F08C40</td></tr>",
                            "<tr><td>30</td><td>Hmgb2</td><td>1644</td><td>1696</td><td>27.53638128</td><td>POINT(1644 1696)</td><td>2</td><td>0x00000000010C0000000000B099400000000000809A40</td></tr>",
                            "<tr><td>31</td><td>Hmgb2</td><td>1835</td><td>938</td><td>110.1455251</td><td>POINT(1835 938)</td><td>7</td><td>0x00000000010C0000000000AC9C400000000000508D40</td></tr>",
                            "<tr><td>32</td><td>Txndc5</td><td>1557</td><td>1641</td><td>0</td><td>POINT(1557 1641)</td><td>0</td><td>0x00000000010C00000000005498400000000000A49940</td></tr>",
                            "<tr><td>33</td><td>Txndc5</td><td>1559</td><td>1832</td><td>0</td><td>POINT(1559 1832)</td><td>0</td><td>0x00000000010C00000000005C98400000000000A09C40</td></tr>",
                            "<tr><td>34</td><td>Txndc5</td><td>1658</td><td>1663</td><td>0</td><td>POINT(1658 1663)</td><td>0</td><td>0x00000000010C0000000000E899400000000000FC9940</td></tr>",
                            "<tr><td>35</td><td>Txndc5</td><td>1780</td><td>1873</td><td>0</td><td>POINT(1780 1873)</td><td>0</td><td>0x00000000010C0000000000D09B400000000000449D40</td></tr>",
                            "<tr><td>36</td><td>Txndc5</td><td>1786</td><td>1440</td><td>0</td><td>POINT(1786 1440)</td><td>0</td><td>0x00000000010C0000000000E89B400000000000809640</td></tr>",
                            "<tr><td>37</td><td>Txndc5</td><td>1814</td><td>944</td><td>0</td><td>POINT(1814 944)</td><td>0</td><td>0x00000000010C0000000000589C400000000000808D40</td></tr>",
                            "<tr><td>38</td><td>Txndc5</td><td>1828</td><td>1217</td><td>0</td><td>POINT(1828 1217)</td><td>0</td><td>0x00000000010C0000000000909C400000000000049340</td></tr>",
                            "<tr><td>39</td><td>Txndc5</td><td>1834</td><td>1856</td><td>0</td><td>POINT(1834 1856)</td><td>0</td><td>0x00000000010C0000000000A89C400000000000009D40</td></tr>",
                            "<tr><td>40</td><td>Txndc5</td><td>1682</td><td>1382</td><td>13.76819064</td><td>POINT(1682 1382)</td><td>1</td><td>0x00000000010C0000000000489A400000000000989540</td></tr>",
                            "<tr><td>41</td><td>Txndc5</td><td>1745</td><td>1806</td><td>13.76819064</td><td>POINT(1745 1806)</td><td>1</td><td>0x00000000010C0000000000449B400000000000389C40</td></tr>",
                            "<tr><td>42</td><td>Txndc5</td><td>1758</td><td>1793</td><td>13.76819064</td><td>POINT(1758 1793)</td><td>1</td><td>0x00000000010C0000000000789B400000000000049C40</td></tr>",
                            "<tr><td>43</td><td>Txndc5</td><td>1807</td><td>943</td><td>13.76819064</td><td>POINT(1807 943)</td><td>1</td><td>0x00000000010C00000000003C9C400000000000788D40</td></tr>",
                            "<tr><td>44</td><td>Txndc5</td><td>1829</td><td>1714</td><td>13.76819064</td><td>POINT(1829 1714)</td><td>1</td><td>0x00000000010C0000000000949C400000000000C89A40</td></tr>",
                            "<tr><td>45</td><td>Txndc5</td><td>1841</td><td>942</td><td>13.76819064</td><td>POINT(1841 942)</td><td>1</td><td>0x00000000010C0000000000C49C400000000000708D40</td></tr>",
                            "<tr><td>46</td><td>Txndc5</td><td>1860</td><td>1635</td><td>13.76819064</td><td>POINT(1860 1635)</td><td>1</td><td>0x00000000010C0000000000109D4000000000008C9940</td></tr>",
                            "<tr><td>47</td><td>Txndc5</td><td>1755</td><td>1807</td><td>27.53638128</td><td>POINT(1755 1807)</td><td>2</td><td>0x00000000010C00000000006C9B4000000000003C9C40</td></tr>",
                            "<tr><td>48</td><td>Txndc5</td><td>1773</td><td>1016</td><td>27.53638128</td><td>POINT(1773 1016)</td><td>2</td><td>0x00000000010C0000000000B49B400000000000C08F40</td></tr>",
                            "<tr><td>49</td><td>Txndc5</td><td>1800</td><td>1252</td><td>27.53638128</td><td>POINT(1800 1252)</td><td>2</td><td>0x00000000010C0000000000209C400000000000909340</td></tr>",
                            "<tr><td>50</td><td>Txndc5</td><td>1837</td><td>1852</td><td>27.53638128</td><td>POINT(1837 1852)</td><td>2</td><td>0x00000000010C0000000000B49C400000000000F09C40</td></tr>",
                            "<tr><td>51</td><td>Txndc5</td><td>1866</td><td>1828</td><td>27.53638128</td><td>POINT(1866 1828)</td><td>2</td><td>0x00000000010C0000000000289D400000000000909C40</td></tr>",
                            "<tr><td>52</td><td>Txndc5</td><td>1870</td><td>1196</td><td>27.53638128</td><td>POINT(1870 1196)</td><td>2</td><td>0x00000000010C0000000000389D400000000000B09240</td></tr>",
                            "<tr><td>53</td><td>Txndc5</td><td>1935</td><td>872</td><td>27.53638128</td><td>POINT(1935 872)</td><td>2</td><td>0x00000000010C00000000003C9E400000000000408B40</td></tr>",
                            "<tr><td>54</td><td>Txndc5</td><td>1511</td><td>1865</td><td>41.30457192</td><td>POINT(1511 1865)</td><td>3</td><td>0x00000000010C00000000009C97400000000000249D40</td></tr>",
                            "<tr><td>55</td><td>Txndc5</td><td>1519</td><td>1667</td><td>41.30457192</td><td>POINT(1519 1667)</td><td>3</td><td>0x00000000010C0000000000BC974000000000000C9A40</td></tr>",
                            "<tr><td>56</td><td>Txndc5</td><td>1578</td><td>1572</td><td>41.30457192</td><td>POINT(1578 1572)</td><td>3</td><td>0x00000000010C0000000000A898400000000000909840</td></tr>",
                            "<tr><td>57</td><td>Txndc5</td><td>1708</td><td>1224</td><td>41.30457192</td><td>POINT(1708 1224)</td><td>3</td><td>0x00000000010C0000000000B09A400000000000209340</td></tr>",
                            "<tr><td>58</td><td>Txndc5</td><td>1740</td><td>1633</td><td>41.30457192</td><td>POINT(1740 1633)</td><td>3</td><td>0x00000000010C0000000000309B400000000000849940</td></tr>",
                            "<tr><td>59</td><td>Txndc5</td><td>1814</td><td>1233</td><td>41.30457192</td><td>POINT(1814 1233)</td><td>3</td><td>0x00000000010C0000000000589C400000000000449340</td></tr>",
                            "<tr><td>60</td><td>Txndc5</td><td>1877</td><td>1070</td><td>41.30457192</td><td>POINT(1877 1070)</td><td>3</td><td>0x00000000010C0000000000549D400000000000B89040</td></tr>",
                            "<tr><td>61</td><td>Txndc5</td><td>1554</td><td>1606</td><td>55.07276256</td><td>POINT(1554 1606)</td><td>4</td><td>0x00000000010C00000000004898400000000000189940</td></tr>",
                            "<tr><td>62</td><td>Txndc5</td><td>1566</td><td>1798</td><td>55.07276256</td><td>POINT(1566 1798)</td><td>4</td><td>0x00000000010C00000000007898400000000000189C40</td></tr>",
                            "<tr><td>63</td><td>Txndc5</td><td>1702</td><td>1698</td><td>55.07276256</td><td>POINT(1702 1698)</td><td>4</td><td>0x00000000010C0000000000989A400000000000889A40</td></tr>",
                            "<tr><td>64</td><td>Txndc5</td><td>1715</td><td>1191</td><td>55.07276256</td><td>POINT(1715 1191)</td><td>4</td><td>0x00000000010C0000000000CC9A4000000000009C9240</td></tr>",
                            "<tr><td>65</td><td>Txndc5</td><td>1726</td><td>1206</td><td>55.07276256</td><td>POINT(1726 1206)</td><td>4</td><td>0x00000000010C0000000000F89A400000000000D89240</td></tr>",
                            "<tr><td>66</td><td>Txndc5</td><td>1777</td><td>1151</td><td>55.07276256</td><td>POINT(1777 1151)</td><td>4</td><td>0x00000000010C0000000000C49B400000000000FC9140</td></tr>",
                            "<tr><td>67</td><td>Txndc5</td><td>1795</td><td>922</td><td>55.07276256</td><td>POINT(1795 922)</td><td>4</td><td>0x00000000010C00000000000C9C400000000000D08C40</td></tr>",
                            "<tr><td>68</td><td>Txndc5</td><td>1847</td><td>881</td><td>55.07276256</td><td>POINT(1847 881)</td><td>4</td><td>0x00000000010C0000000000DC9C400000000000888B40</td></tr>",
                            "<tr><td>69</td><td>Txndc5</td><td>1861</td><td>922</td><td>55.07276256</td><td>POINT(1861 922)</td><td>4</td><td>0x00000000010C0000000000149D400000000000D08C40</td></tr>",
                            "<tr><td>70</td><td>Txndc5</td><td>1524</td><td>1840</td><td>68.8409532</td><td>POINT(1524 1840)</td><td>5</td><td>0x00000000010C0000000000D097400000000000C09C40</td></tr>",
                            "<tr><td>71</td><td>Txndc5</td><td>1631</td><td>1603</td><td>68.8409532</td><td>POINT(1631 1603)</td><td>5</td><td>0x00000000010C00000000007C994000000000000C9940</td></tr>",
                            "<tr><td>72</td><td>Txndc5</td><td>1807</td><td>985</td><td>68.8409532</td><td>POINT(1807 985)</td><td>5</td><td>0x00000000010C00000000003C9C400000000000C88E40</td></tr>",
                            "<tr><td>73</td><td>Txndc5</td><td>1830</td><td>1110</td><td>68.8409532</td><td>POINT(1830 1110)</td><td>5</td><td>0x00000000010C0000000000989C400000000000589140</td></tr>",
                            "<tr><td>74</td><td>Txndc5</td><td>1858</td><td>1531</td><td>68.8409532</td><td>POINT(1858 1531)</td><td>5</td><td>0x00000000010C0000000000089D400000000000EC9740</td></tr>",
                            "<tr><td>75</td><td>Txndc5</td><td>1899</td><td>1269</td><td>68.8409532</td><td>POINT(1899 1269)</td><td>5</td><td>0x00000000010C0000000000AC9D400000000000D49340</td></tr>",
                            "<tr><td>76</td><td>Txndc5</td><td>1791</td><td>1107</td><td>82.60914384</td><td>POINT(1791 1107)</td><td>6</td><td>0x00000000010C0000000000FC9B4000000000004C9140</td></tr>",
                            "<tr><td>77</td><td>Txndc5</td><td>1797</td><td>1144</td><td>82.60914384</td><td>POINT(1797 1144)</td><td>6</td><td>0x00000000010C0000000000149C400000000000E09140</td></tr>",
                            "<tr><td>78</td><td>Txndc5</td><td>1827</td><td>1475</td><td>82.60914384</td><td>POINT(1827 1475)</td><td>6</td><td>0x00000000010C00000000008C9C4000000000000C9740</td></tr>",
                            "<tr><td>79</td><td>Txndc5</td><td>1850</td><td>938</td><td>82.60914384</td><td>POINT(1850 938)</td><td>6</td><td>0x00000000010C0000000000E89C400000000000508D40</td></tr>",
                            "<tr><td>80</td><td>Txndc5</td><td>1827</td><td>1475</td><td>96.37733447</td><td>POINT(1827 1475)</td><td>6</td><td>0x00000000010C00000000008C9C4000000000000C9740</td></tr>",
                            "<tr><td>81</td><td>Klk1</td><td>1683</td><td>1861</td><td>13.76819064</td><td>POINT(1683 1861)</td><td>1</td><td>0x00000000010C00000000004C9A400000000000149D40</td></tr>",
                            "<tr><td>82</td><td>Klk1</td><td>1861</td><td>1590</td><td>82.60914384</td><td>POINT(1861 1590)</td><td>6</td><td>0x00000000010C0000000000149D400000000000D89840</td></tr>",
                            "<tr><td>83</td><td>Slc12a2</td><td>1755</td><td>1731</td><td>0</td><td>POINT(1755 1731)</td><td>0</td><td>0x00000000010C00000000006C9B4000000000000C9B40</td></tr>",
                            "<tr><td>84</td><td>Slc12a2</td><td>1761</td><td>1791</td><td>0</td><td>POINT(1761 1791)</td><td>0</td><td>0x00000000010C0000000000849B400000000000FC9B40</td></tr>",
                            "<tr><td>85</td><td>Slc12a2</td><td>1777</td><td>1593</td><td>0</td><td>POINT(1777 1593)</td><td>0</td><td>0x00000000010C0000000000C49B400000000000E49840</td></tr>",
                            "<tr><td>86</td><td>Slc12a2</td><td>1789</td><td>1705</td><td>0</td><td>POINT(1789 1705)</td><td>0</td><td>0x00000000010C0000000000F49B400000000000A49A40</td></tr>",
                            "<tr><td>87</td><td>Slc12a2</td><td>1876</td><td>1822</td><td>0</td><td>POINT(1876 1822)</td><td>0</td><td>0x00000000010C0000000000509D400000000000789C40</td></tr>",
                            "<tr><td>88</td><td>Slc12a2</td><td>1883</td><td>1765</td><td>0</td><td>POINT(1883 1765)</td><td>0</td><td>0x00000000010C00000000006C9D400000000000949B40</td></tr>",
                            "<tr><td>89</td><td>Slc12a2</td><td>1893</td><td>1563</td><td>0</td><td>POINT(1893 1563)</td><td>0</td><td>0x00000000010C0000000000949D4000000000006C9840</td></tr>",
                            "<tr><td>90</td><td>Slc12a2</td><td>1910</td><td>1472</td><td>0</td><td>POINT(1910 1472)</td><td>0</td><td>0x00000000010C0000000000D89D400000000000009740</td></tr>",
                            "<tr><td>91</td><td>Slc12a2</td><td>1927</td><td>1824</td><td>0</td><td>POINT(1927 1824)</td><td>0</td><td>0x00000000010C00000000001C9E400000000000809C40</td></tr>",
                            "<tr><td>92</td><td>Slc12a2</td><td>1811</td><td>1782</td><td>13.76819064</td><td>POINT(1811 1782)</td><td>1</td><td>0x00000000010C00000000004C9C400000000000D89B40</td></tr>",
                            "<tr><td>93</td><td>Slc12a2</td><td>1829</td><td>1079</td><td>13.76819064</td><td>POINT(1829 1079)</td><td>1</td><td>0x00000000010C0000000000949C400000000000DC9040</td></tr>",
                            "<tr><td>94</td><td>Slc12a2</td><td>1856</td><td>1780</td><td>13.76819064</td><td>POINT(1856 1780)</td><td>1</td><td>0x00000000010C0000000000009D400000000000D09B40</td></tr>",
                            "<tr><td>95</td><td>Slc12a2</td><td>1861</td><td>1865</td><td>13.76819064</td><td>POINT(1861 1865)</td><td>1</td><td>0x00000000010C0000000000149D400000000000249D40</td></tr>",
                            "<tr><td>96</td><td>Slc12a2</td><td>1898</td><td>1788</td><td>13.76819064</td><td>POINT(1898 1788)</td><td>1</td><td>0x00000000010C0000000000A89D400000000000F09B40</td></tr>",
                            "<tr><td>97</td><td>Slc12a2</td><td>1939</td><td>1467</td><td>13.76819064</td><td>POINT(1939 1467)</td><td>1</td><td>0x00000000010C00000000004C9E400000000000EC9640</td></tr>",
                            "<tr><td>98</td><td>Slc12a2</td><td>1711</td><td>1863</td><td>27.53638128</td><td>POINT(1711 1863)</td><td>2</td><td>0x00000000010C0000000000BC9A4000000000001C9D40</td></tr>",
                            "<tr><td>99</td><td>Slc12a2</td><td>1724</td><td>1320</td><td>27.53638128</td><td>POINT(1724 1320)</td><td>2</td><td>0x00000000010C0000000000F09A400000000000A09440</td></tr>",
                            "<tr><td>100</td><td>Slc12a2</td><td>1761</td><td>1793</td><td>27.53638128</td><td>POINT(1761 1793)</td><td>2</td><td>0x00000000010C0000000000849B400000000000049C40</td></tr>",
                            "</table>"
                        ]
                    }
                }
            ],
            "execution_count": 43
        },
        {
            "cell_type": "code",
            "source": [
                "SELECT COUNT(molecule_id) FROM MoleculesWithPoints;\n",
                "SELECT COUNT(molecule_id) FROM Molecules;"
            ],
            "metadata": {
                "language": "sql",
                "azdata_cell_guid": "77ea891b-fa85-4f55-9bb4-31ab55e324fe"
            },
            "outputs": [
                {
                    "output_type": "display_data",
                    "data": {
                        "text/html": "(1 row affected)"
                    },
                    "metadata": {}
                },
                {
                    "output_type": "display_data",
                    "data": {
                        "text/html": "(1 row affected)"
                    },
                    "metadata": {}
                },
                {
                    "output_type": "display_data",
                    "data": {
                        "text/html": "Total execution time: 00:00:00.957"
                    },
                    "metadata": {}
                },
                {
                    "output_type": "execute_result",
                    "metadata": {},
                    "execution_count": 45,
                    "data": {
                        "application/vnd.dataresource+json": {
                            "schema": {
                                "fields": [
                                    {
                                        "name": "(No column name)"
                                    }
                                ]
                            },
                            "data": [
                                {
                                    "0": "1000"
                                }
                            ]
                        },
                        "text/html": [
                            "<table>",
                            "<tr><th>(No column name)</th></tr>",
                            "<tr><td>1000</td></tr>",
                            "</table>"
                        ]
                    }
                },
                {
                    "output_type": "execute_result",
                    "metadata": {},
                    "execution_count": 45,
                    "data": {
                        "application/vnd.dataresource+json": {
                            "schema": {
                                "fields": [
                                    {
                                        "name": "(No column name)"
                                    }
                                ]
                            },
                            "data": [
                                {
                                    "0": "819665"
                                }
                            ]
                        },
                        "text/html": [
                            "<table>",
                            "<tr><th>(No column name)</th></tr>",
                            "<tr><td>819665</td></tr>",
                            "</table>"
                        ]
                    }
                }
            ],
            "execution_count": 45
        },
        {
            "cell_type": "markdown",
            "source": [
                "Oops! This has only 1000 rows. Let's try with the original data since that seems like it's doable, at least for the Molecules.csv."
            ],
            "metadata": {
                "language": "sql",
                "azdata_cell_guid": "04b98f78-792f-4365-bc6f-b25aec7ae022"
            },
            "attachments": {}
        },
        {
            "cell_type": "markdown",
            "source": [
                "## Using the data from the raw data files"
            ],
            "metadata": {
                "language": "sql",
                "azdata_cell_guid": "f7ee79a4-aaec-4cdf-8be5-584dee803646"
            },
            "attachments": {}
        },
        {
            "cell_type": "code",
            "source": [
                "USE MouseIleum;\n",
                "\n",
                "DROP TABLE IF EXISTS MoleculesWithPoints;\n",
                "SELECT molecule_id, gene, x_pixel, y_pixel, z_pixel INTO MoleculesWithPoints FROM Molecules;"
            ],
            "metadata": {
                "language": "sql",
                "azdata_cell_guid": "06aad363-a742-44ea-b2be-edd2fd764951"
            },
            "outputs": [
                {
                    "output_type": "display_data",
                    "data": {
                        "text/html": "(819665 rows affected)"
                    },
                    "metadata": {}
                },
                {
                    "output_type": "display_data",
                    "data": {
                        "text/html": "Total execution time: 00:00:02.090"
                    },
                    "metadata": {}
                }
            ],
            "execution_count": 52
        },
        {
            "cell_type": "markdown",
            "source": [
                "Right number of rows this time!"
            ],
            "metadata": {
                "language": "sql",
                "azdata_cell_guid": "3769695c-ec7f-44e8-8951-5d987486ad69"
            },
            "attachments": {}
        },
        {
            "cell_type": "code",
            "source": [
                "ALTER TABLE MoleculesWithPoints\n",
                "    ADD z_layer tinyint,\n",
                "        point geometry;"
            ],
            "metadata": {
                "language": "sql",
                "azdata_cell_guid": "b42d320f-d1f5-462e-abbe-fdbbf0c7c912"
            },
            "outputs": [
                {
                    "output_type": "display_data",
                    "data": {
                        "text/html": "Commands completed successfully."
                    },
                    "metadata": {}
                },
                {
                    "output_type": "display_data",
                    "data": {
                        "text/html": "Total execution time: 00:00:00.026"
                    },
                    "metadata": {}
                }
            ],
            "execution_count": 53
        },
        {
            "cell_type": "code",
            "source": [
                "UPDATE MoleculesWithPoints\n",
                "    SET point = geometry::STGeomFromText('POINT(' + CONVERT(VARCHAR(5), x_pixel) + ' ' + CONVERT(VARCHAR(5), y_pixel) + ')', 0)"
            ],
            "metadata": {
                "language": "sql",
                "azdata_cell_guid": "25083c2f-5b59-469b-bfe0-c2f23599334b"
            },
            "outputs": [
                {
                    "output_type": "display_data",
                    "data": {
                        "text/html": "(819665 rows affected)"
                    },
                    "metadata": {}
                },
                {
                    "output_type": "display_data",
                    "data": {
                        "text/html": "Total execution time: 00:00:30.556"
                    },
                    "metadata": {}
                }
            ],
            "execution_count": 54
        },
        {
            "cell_type": "code",
            "source": [
                "UPDATE MoleculesWithPoints\n",
                "    SET z_layer = CAST(ROUND(z_pixel /13.76819064, 0) AS int);"
            ],
            "metadata": {
                "language": "sql",
                "azdata_cell_guid": "396c1867-53fd-409a-803d-d78cda866e28"
            },
            "outputs": [
                {
                    "output_type": "display_data",
                    "data": {
                        "text/html": "(819665 rows affected)"
                    },
                    "metadata": {}
                },
                {
                    "output_type": "display_data",
                    "data": {
                        "text/html": "Total execution time: 00:00:05.137"
                    },
                    "metadata": {}
                }
            ],
            "execution_count": 64
        },
        {
            "cell_type": "code",
            "source": [
                "SELECT TOP(100) * FROM MoleculesWithPoints;"
            ],
            "metadata": {
                "language": "sql",
                "azdata_cell_guid": "5712aff7-d897-44f8-9306-6727249fd2cd"
            },
            "outputs": [
                {
                    "output_type": "display_data",
                    "data": {
                        "text/html": "(100 rows affected)"
                    },
                    "metadata": {}
                },
                {
                    "output_type": "display_data",
                    "data": {
                        "text/html": "Total execution time: 00:00:00.060"
                    },
                    "metadata": {}
                },
                {
                    "output_type": "execute_result",
                    "metadata": {},
                    "execution_count": 65,
                    "data": {
                        "application/vnd.dataresource+json": {
                            "schema": {
                                "fields": [
                                    {
                                        "name": "molecule_id"
                                    },
                                    {
                                        "name": "gene"
                                    },
                                    {
                                        "name": "x_pixel"
                                    },
                                    {
                                        "name": "y_pixel"
                                    },
                                    {
                                        "name": "z_pixel"
                                    },
                                    {
                                        "name": "z_layer"
                                    },
                                    {
                                        "name": "point"
                                    }
                                ]
                            },
                            "data": [
                                {
                                    "0": "1",
                                    "1": "Maoa",
                                    "2": "1705",
                                    "3": "1271",
                                    "4": "0",
                                    "5": "0",
                                    "6": "0x00000000010C0000000000A49A400000000000DC9340"
                                },
                                {
                                    "0": "2",
                                    "1": "Maoa",
                                    "2": "1725",
                                    "3": "1922",
                                    "4": "0",
                                    "5": "0",
                                    "6": "0x00000000010C0000000000F49A400000000000089E40"
                                },
                                {
                                    "0": "3",
                                    "1": "Maoa",
                                    "2": "1753",
                                    "3": "1863",
                                    "4": "0",
                                    "5": "0",
                                    "6": "0x00000000010C0000000000649B4000000000001C9D40"
                                },
                                {
                                    "0": "4",
                                    "1": "Maoa",
                                    "2": "1760",
                                    "3": "1865",
                                    "4": "0",
                                    "5": "0",
                                    "6": "0x00000000010C0000000000809B400000000000249D40"
                                },
                                {
                                    "0": "5",
                                    "1": "Maoa",
                                    "2": "1904",
                                    "3": "794",
                                    "4": "0",
                                    "5": "0",
                                    "6": "0x00000000010C0000000000C09D400000000000D08840"
                                },
                                {
                                    "0": "6",
                                    "1": "Maoa",
                                    "2": "1915",
                                    "3": "1430",
                                    "4": "0",
                                    "5": "0",
                                    "6": "0x00000000010C0000000000EC9D400000000000589640"
                                },
                                {
                                    "0": "7",
                                    "1": "Maoa",
                                    "2": "1751",
                                    "3": "1873",
                                    "4": "13.76819064",
                                    "5": "1",
                                    "6": "0x00000000010C00000000005C9B400000000000449D40"
                                },
                                {
                                    "0": "8",
                                    "1": "Maoa",
                                    "2": "1780",
                                    "3": "1844",
                                    "4": "13.76819064",
                                    "5": "1",
                                    "6": "0x00000000010C0000000000D09B400000000000D09C40"
                                },
                                {
                                    "0": "9",
                                    "1": "Maoa",
                                    "2": "1816",
                                    "3": "995",
                                    "4": "13.76819064",
                                    "5": "1",
                                    "6": "0x00000000010C0000000000609C400000000000188F40"
                                },
                                {
                                    "0": "10",
                                    "1": "Maoa",
                                    "2": "1822",
                                    "3": "1232",
                                    "4": "13.76819064",
                                    "5": "1",
                                    "6": "0x00000000010C0000000000789C400000000000409340"
                                },
                                {
                                    "0": "11",
                                    "1": "Maoa",
                                    "2": "1880",
                                    "3": "1322",
                                    "4": "13.76819064",
                                    "5": "1",
                                    "6": "0x00000000010C0000000000609D400000000000A89440"
                                },
                                {
                                    "0": "12",
                                    "1": "Maoa",
                                    "2": "1604",
                                    "3": "1695",
                                    "4": "27.53638128",
                                    "5": "2",
                                    "6": "0x00000000010C000000000010994000000000007C9A40"
                                },
                                {
                                    "0": "13",
                                    "1": "Maoa",
                                    "2": "1652",
                                    "3": "1923",
                                    "4": "27.53638128",
                                    "5": "2",
                                    "6": "0x00000000010C0000000000D0994000000000000C9E40"
                                },
                                {
                                    "0": "14",
                                    "1": "Maoa",
                                    "2": "1735",
                                    "3": "1870",
                                    "4": "27.53638128",
                                    "5": "2",
                                    "6": "0x00000000010C00000000001C9B400000000000389D40"
                                },
                                {
                                    "0": "15",
                                    "1": "Maoa",
                                    "2": "1802",
                                    "3": "1843",
                                    "4": "27.53638128",
                                    "5": "2",
                                    "6": "0x00000000010C0000000000289C400000000000CC9C40"
                                },
                                {
                                    "0": "16",
                                    "1": "Maoa",
                                    "2": "1847",
                                    "3": "1711",
                                    "4": "27.53638128",
                                    "5": "2",
                                    "6": "0x00000000010C0000000000DC9C400000000000BC9A40"
                                },
                                {
                                    "0": "17",
                                    "1": "Maoa",
                                    "2": "1886",
                                    "3": "998",
                                    "4": "27.53638128",
                                    "5": "2",
                                    "6": "0x00000000010C0000000000789D400000000000308F40"
                                },
                                {
                                    "0": "18",
                                    "1": "Maoa",
                                    "2": "1928",
                                    "3": "1095",
                                    "4": "27.53638128",
                                    "5": "2",
                                    "6": "0x00000000010C0000000000209E4000000000001C9140"
                                },
                                {
                                    "0": "19",
                                    "1": "Maoa",
                                    "2": "1515",
                                    "3": "1859",
                                    "4": "41.30457192",
                                    "5": "3",
                                    "6": "0x00000000010C0000000000AC974000000000000C9D40"
                                },
                                {
                                    "0": "20",
                                    "1": "Maoa",
                                    "2": "1737",
                                    "3": "1171",
                                    "4": "41.30457192",
                                    "5": "3",
                                    "6": "0x00000000010C0000000000249B4000000000004C9240"
                                },
                                {
                                    "0": "21",
                                    "1": "Maoa",
                                    "2": "1775",
                                    "3": "1195",
                                    "4": "41.30457192",
                                    "5": "3",
                                    "6": "0x00000000010C0000000000BC9B400000000000AC9240"
                                },
                                {
                                    "0": "22",
                                    "1": "Maoa",
                                    "2": "1589",
                                    "3": "1814",
                                    "4": "55.07276256",
                                    "5": "4",
                                    "6": "0x00000000010C0000000000D498400000000000589C40"
                                },
                                {
                                    "0": "23",
                                    "1": "Maoa",
                                    "2": "1711",
                                    "3": "1229",
                                    "4": "55.07276256",
                                    "5": "4",
                                    "6": "0x00000000010C0000000000BC9A400000000000349340"
                                },
                                {
                                    "0": "24",
                                    "1": "Maoa",
                                    "2": "1781",
                                    "3": "1101",
                                    "4": "55.07276256",
                                    "5": "4",
                                    "6": "0x00000000010C0000000000D49B400000000000349140"
                                },
                                {
                                    "0": "25",
                                    "1": "Maoa",
                                    "2": "1788",
                                    "3": "1198",
                                    "4": "55.07276256",
                                    "5": "4",
                                    "6": "0x00000000010C0000000000F09B400000000000B89240"
                                },
                                {
                                    "0": "26",
                                    "1": "Maoa",
                                    "2": "1788",
                                    "3": "1906",
                                    "4": "55.07276256",
                                    "5": "4",
                                    "6": "0x00000000010C0000000000F09B400000000000C89D40"
                                },
                                {
                                    "0": "27",
                                    "1": "Maoa",
                                    "2": "1896",
                                    "3": "660",
                                    "4": "55.07276256",
                                    "5": "4",
                                    "6": "0x00000000010C0000000000A09D400000000000A08440"
                                },
                                {
                                    "0": "28",
                                    "1": "Maoa",
                                    "2": "1767",
                                    "3": "1898",
                                    "4": "68.8409532",
                                    "5": "5",
                                    "6": "0x00000000010C00000000009C9B400000000000A89D40"
                                },
                                {
                                    "0": "29",
                                    "1": "Hmgb2",
                                    "2": "1835",
                                    "3": "926",
                                    "4": "13.76819064",
                                    "5": "1",
                                    "6": "0x00000000010C0000000000AC9C400000000000F08C40"
                                },
                                {
                                    "0": "30",
                                    "1": "Hmgb2",
                                    "2": "1644",
                                    "3": "1696",
                                    "4": "27.53638128",
                                    "5": "2",
                                    "6": "0x00000000010C0000000000B099400000000000809A40"
                                },
                                {
                                    "0": "31",
                                    "1": "Hmgb2",
                                    "2": "1835",
                                    "3": "938",
                                    "4": "110.1455251",
                                    "5": "8",
                                    "6": "0x00000000010C0000000000AC9C400000000000508D40"
                                },
                                {
                                    "0": "32",
                                    "1": "Txndc5",
                                    "2": "1557",
                                    "3": "1641",
                                    "4": "0",
                                    "5": "0",
                                    "6": "0x00000000010C00000000005498400000000000A49940"
                                },
                                {
                                    "0": "33",
                                    "1": "Txndc5",
                                    "2": "1559",
                                    "3": "1832",
                                    "4": "0",
                                    "5": "0",
                                    "6": "0x00000000010C00000000005C98400000000000A09C40"
                                },
                                {
                                    "0": "34",
                                    "1": "Txndc5",
                                    "2": "1658",
                                    "3": "1663",
                                    "4": "0",
                                    "5": "0",
                                    "6": "0x00000000010C0000000000E899400000000000FC9940"
                                },
                                {
                                    "0": "35",
                                    "1": "Txndc5",
                                    "2": "1780",
                                    "3": "1873",
                                    "4": "0",
                                    "5": "0",
                                    "6": "0x00000000010C0000000000D09B400000000000449D40"
                                },
                                {
                                    "0": "36",
                                    "1": "Txndc5",
                                    "2": "1786",
                                    "3": "1440",
                                    "4": "0",
                                    "5": "0",
                                    "6": "0x00000000010C0000000000E89B400000000000809640"
                                },
                                {
                                    "0": "37",
                                    "1": "Txndc5",
                                    "2": "1814",
                                    "3": "944",
                                    "4": "0",
                                    "5": "0",
                                    "6": "0x00000000010C0000000000589C400000000000808D40"
                                },
                                {
                                    "0": "38",
                                    "1": "Txndc5",
                                    "2": "1828",
                                    "3": "1217",
                                    "4": "0",
                                    "5": "0",
                                    "6": "0x00000000010C0000000000909C400000000000049340"
                                },
                                {
                                    "0": "39",
                                    "1": "Txndc5",
                                    "2": "1834",
                                    "3": "1856",
                                    "4": "0",
                                    "5": "0",
                                    "6": "0x00000000010C0000000000A89C400000000000009D40"
                                },
                                {
                                    "0": "40",
                                    "1": "Txndc5",
                                    "2": "1682",
                                    "3": "1382",
                                    "4": "13.76819064",
                                    "5": "1",
                                    "6": "0x00000000010C0000000000489A400000000000989540"
                                },
                                {
                                    "0": "41",
                                    "1": "Txndc5",
                                    "2": "1745",
                                    "3": "1806",
                                    "4": "13.76819064",
                                    "5": "1",
                                    "6": "0x00000000010C0000000000449B400000000000389C40"
                                },
                                {
                                    "0": "42",
                                    "1": "Txndc5",
                                    "2": "1758",
                                    "3": "1793",
                                    "4": "13.76819064",
                                    "5": "1",
                                    "6": "0x00000000010C0000000000789B400000000000049C40"
                                },
                                {
                                    "0": "43",
                                    "1": "Txndc5",
                                    "2": "1807",
                                    "3": "943",
                                    "4": "13.76819064",
                                    "5": "1",
                                    "6": "0x00000000010C00000000003C9C400000000000788D40"
                                },
                                {
                                    "0": "44",
                                    "1": "Txndc5",
                                    "2": "1829",
                                    "3": "1714",
                                    "4": "13.76819064",
                                    "5": "1",
                                    "6": "0x00000000010C0000000000949C400000000000C89A40"
                                },
                                {
                                    "0": "45",
                                    "1": "Txndc5",
                                    "2": "1841",
                                    "3": "942",
                                    "4": "13.76819064",
                                    "5": "1",
                                    "6": "0x00000000010C0000000000C49C400000000000708D40"
                                },
                                {
                                    "0": "46",
                                    "1": "Txndc5",
                                    "2": "1860",
                                    "3": "1635",
                                    "4": "13.76819064",
                                    "5": "1",
                                    "6": "0x00000000010C0000000000109D4000000000008C9940"
                                },
                                {
                                    "0": "47",
                                    "1": "Txndc5",
                                    "2": "1755",
                                    "3": "1807",
                                    "4": "27.53638128",
                                    "5": "2",
                                    "6": "0x00000000010C00000000006C9B4000000000003C9C40"
                                },
                                {
                                    "0": "48",
                                    "1": "Txndc5",
                                    "2": "1773",
                                    "3": "1016",
                                    "4": "27.53638128",
                                    "5": "2",
                                    "6": "0x00000000010C0000000000B49B400000000000C08F40"
                                },
                                {
                                    "0": "49",
                                    "1": "Txndc5",
                                    "2": "1800",
                                    "3": "1252",
                                    "4": "27.53638128",
                                    "5": "2",
                                    "6": "0x00000000010C0000000000209C400000000000909340"
                                },
                                {
                                    "0": "50",
                                    "1": "Txndc5",
                                    "2": "1837",
                                    "3": "1852",
                                    "4": "27.53638128",
                                    "5": "2",
                                    "6": "0x00000000010C0000000000B49C400000000000F09C40"
                                },
                                {
                                    "0": "51",
                                    "1": "Txndc5",
                                    "2": "1866",
                                    "3": "1828",
                                    "4": "27.53638128",
                                    "5": "2",
                                    "6": "0x00000000010C0000000000289D400000000000909C40"
                                },
                                {
                                    "0": "52",
                                    "1": "Txndc5",
                                    "2": "1870",
                                    "3": "1196",
                                    "4": "27.53638128",
                                    "5": "2",
                                    "6": "0x00000000010C0000000000389D400000000000B09240"
                                },
                                {
                                    "0": "53",
                                    "1": "Txndc5",
                                    "2": "1935",
                                    "3": "872",
                                    "4": "27.53638128",
                                    "5": "2",
                                    "6": "0x00000000010C00000000003C9E400000000000408B40"
                                },
                                {
                                    "0": "54",
                                    "1": "Txndc5",
                                    "2": "1511",
                                    "3": "1865",
                                    "4": "41.30457192",
                                    "5": "3",
                                    "6": "0x00000000010C00000000009C97400000000000249D40"
                                },
                                {
                                    "0": "55",
                                    "1": "Txndc5",
                                    "2": "1519",
                                    "3": "1667",
                                    "4": "41.30457192",
                                    "5": "3",
                                    "6": "0x00000000010C0000000000BC974000000000000C9A40"
                                },
                                {
                                    "0": "56",
                                    "1": "Txndc5",
                                    "2": "1578",
                                    "3": "1572",
                                    "4": "41.30457192",
                                    "5": "3",
                                    "6": "0x00000000010C0000000000A898400000000000909840"
                                },
                                {
                                    "0": "57",
                                    "1": "Txndc5",
                                    "2": "1708",
                                    "3": "1224",
                                    "4": "41.30457192",
                                    "5": "3",
                                    "6": "0x00000000010C0000000000B09A400000000000209340"
                                },
                                {
                                    "0": "58",
                                    "1": "Txndc5",
                                    "2": "1740",
                                    "3": "1633",
                                    "4": "41.30457192",
                                    "5": "3",
                                    "6": "0x00000000010C0000000000309B400000000000849940"
                                },
                                {
                                    "0": "59",
                                    "1": "Txndc5",
                                    "2": "1814",
                                    "3": "1233",
                                    "4": "41.30457192",
                                    "5": "3",
                                    "6": "0x00000000010C0000000000589C400000000000449340"
                                },
                                {
                                    "0": "60",
                                    "1": "Txndc5",
                                    "2": "1877",
                                    "3": "1070",
                                    "4": "41.30457192",
                                    "5": "3",
                                    "6": "0x00000000010C0000000000549D400000000000B89040"
                                },
                                {
                                    "0": "61",
                                    "1": "Txndc5",
                                    "2": "1554",
                                    "3": "1606",
                                    "4": "55.07276256",
                                    "5": "4",
                                    "6": "0x00000000010C00000000004898400000000000189940"
                                },
                                {
                                    "0": "62",
                                    "1": "Txndc5",
                                    "2": "1566",
                                    "3": "1798",
                                    "4": "55.07276256",
                                    "5": "4",
                                    "6": "0x00000000010C00000000007898400000000000189C40"
                                },
                                {
                                    "0": "63",
                                    "1": "Txndc5",
                                    "2": "1702",
                                    "3": "1698",
                                    "4": "55.07276256",
                                    "5": "4",
                                    "6": "0x00000000010C0000000000989A400000000000889A40"
                                },
                                {
                                    "0": "64",
                                    "1": "Txndc5",
                                    "2": "1715",
                                    "3": "1191",
                                    "4": "55.07276256",
                                    "5": "4",
                                    "6": "0x00000000010C0000000000CC9A4000000000009C9240"
                                },
                                {
                                    "0": "65",
                                    "1": "Txndc5",
                                    "2": "1726",
                                    "3": "1206",
                                    "4": "55.07276256",
                                    "5": "4",
                                    "6": "0x00000000010C0000000000F89A400000000000D89240"
                                },
                                {
                                    "0": "66",
                                    "1": "Txndc5",
                                    "2": "1777",
                                    "3": "1151",
                                    "4": "55.07276256",
                                    "5": "4",
                                    "6": "0x00000000010C0000000000C49B400000000000FC9140"
                                },
                                {
                                    "0": "67",
                                    "1": "Txndc5",
                                    "2": "1795",
                                    "3": "922",
                                    "4": "55.07276256",
                                    "5": "4",
                                    "6": "0x00000000010C00000000000C9C400000000000D08C40"
                                },
                                {
                                    "0": "68",
                                    "1": "Txndc5",
                                    "2": "1847",
                                    "3": "881",
                                    "4": "55.07276256",
                                    "5": "4",
                                    "6": "0x00000000010C0000000000DC9C400000000000888B40"
                                },
                                {
                                    "0": "69",
                                    "1": "Txndc5",
                                    "2": "1861",
                                    "3": "922",
                                    "4": "55.07276256",
                                    "5": "4",
                                    "6": "0x00000000010C0000000000149D400000000000D08C40"
                                },
                                {
                                    "0": "70",
                                    "1": "Txndc5",
                                    "2": "1524",
                                    "3": "1840",
                                    "4": "68.8409532",
                                    "5": "5",
                                    "6": "0x00000000010C0000000000D097400000000000C09C40"
                                },
                                {
                                    "0": "71",
                                    "1": "Txndc5",
                                    "2": "1631",
                                    "3": "1603",
                                    "4": "68.8409532",
                                    "5": "5",
                                    "6": "0x00000000010C00000000007C994000000000000C9940"
                                },
                                {
                                    "0": "72",
                                    "1": "Txndc5",
                                    "2": "1807",
                                    "3": "985",
                                    "4": "68.8409532",
                                    "5": "5",
                                    "6": "0x00000000010C00000000003C9C400000000000C88E40"
                                },
                                {
                                    "0": "73",
                                    "1": "Txndc5",
                                    "2": "1830",
                                    "3": "1110",
                                    "4": "68.8409532",
                                    "5": "5",
                                    "6": "0x00000000010C0000000000989C400000000000589140"
                                },
                                {
                                    "0": "74",
                                    "1": "Txndc5",
                                    "2": "1858",
                                    "3": "1531",
                                    "4": "68.8409532",
                                    "5": "5",
                                    "6": "0x00000000010C0000000000089D400000000000EC9740"
                                },
                                {
                                    "0": "75",
                                    "1": "Txndc5",
                                    "2": "1899",
                                    "3": "1269",
                                    "4": "68.8409532",
                                    "5": "5",
                                    "6": "0x00000000010C0000000000AC9D400000000000D49340"
                                },
                                {
                                    "0": "76",
                                    "1": "Txndc5",
                                    "2": "1791",
                                    "3": "1107",
                                    "4": "82.60914384",
                                    "5": "6",
                                    "6": "0x00000000010C0000000000FC9B4000000000004C9140"
                                },
                                {
                                    "0": "77",
                                    "1": "Txndc5",
                                    "2": "1797",
                                    "3": "1144",
                                    "4": "82.60914384",
                                    "5": "6",
                                    "6": "0x00000000010C0000000000149C400000000000E09140"
                                },
                                {
                                    "0": "78",
                                    "1": "Txndc5",
                                    "2": "1827",
                                    "3": "1475",
                                    "4": "82.60914384",
                                    "5": "6",
                                    "6": "0x00000000010C00000000008C9C4000000000000C9740"
                                },
                                {
                                    "0": "79",
                                    "1": "Txndc5",
                                    "2": "1850",
                                    "3": "938",
                                    "4": "82.60914384",
                                    "5": "6",
                                    "6": "0x00000000010C0000000000E89C400000000000508D40"
                                },
                                {
                                    "0": "80",
                                    "1": "Txndc5",
                                    "2": "1827",
                                    "3": "1475",
                                    "4": "96.37733447",
                                    "5": "7",
                                    "6": "0x00000000010C00000000008C9C4000000000000C9740"
                                },
                                {
                                    "0": "81",
                                    "1": "Klk1",
                                    "2": "1683",
                                    "3": "1861",
                                    "4": "13.76819064",
                                    "5": "1",
                                    "6": "0x00000000010C00000000004C9A400000000000149D40"
                                },
                                {
                                    "0": "82",
                                    "1": "Klk1",
                                    "2": "1861",
                                    "3": "1590",
                                    "4": "82.60914384",
                                    "5": "6",
                                    "6": "0x00000000010C0000000000149D400000000000D89840"
                                },
                                {
                                    "0": "83",
                                    "1": "Slc12a2",
                                    "2": "1755",
                                    "3": "1731",
                                    "4": "0",
                                    "5": "0",
                                    "6": "0x00000000010C00000000006C9B4000000000000C9B40"
                                },
                                {
                                    "0": "84",
                                    "1": "Slc12a2",
                                    "2": "1761",
                                    "3": "1791",
                                    "4": "0",
                                    "5": "0",
                                    "6": "0x00000000010C0000000000849B400000000000FC9B40"
                                },
                                {
                                    "0": "85",
                                    "1": "Slc12a2",
                                    "2": "1777",
                                    "3": "1593",
                                    "4": "0",
                                    "5": "0",
                                    "6": "0x00000000010C0000000000C49B400000000000E49840"
                                },
                                {
                                    "0": "86",
                                    "1": "Slc12a2",
                                    "2": "1789",
                                    "3": "1705",
                                    "4": "0",
                                    "5": "0",
                                    "6": "0x00000000010C0000000000F49B400000000000A49A40"
                                },
                                {
                                    "0": "87",
                                    "1": "Slc12a2",
                                    "2": "1876",
                                    "3": "1822",
                                    "4": "0",
                                    "5": "0",
                                    "6": "0x00000000010C0000000000509D400000000000789C40"
                                },
                                {
                                    "0": "88",
                                    "1": "Slc12a2",
                                    "2": "1883",
                                    "3": "1765",
                                    "4": "0",
                                    "5": "0",
                                    "6": "0x00000000010C00000000006C9D400000000000949B40"
                                },
                                {
                                    "0": "89",
                                    "1": "Slc12a2",
                                    "2": "1893",
                                    "3": "1563",
                                    "4": "0",
                                    "5": "0",
                                    "6": "0x00000000010C0000000000949D4000000000006C9840"
                                },
                                {
                                    "0": "90",
                                    "1": "Slc12a2",
                                    "2": "1910",
                                    "3": "1472",
                                    "4": "0",
                                    "5": "0",
                                    "6": "0x00000000010C0000000000D89D400000000000009740"
                                },
                                {
                                    "0": "91",
                                    "1": "Slc12a2",
                                    "2": "1927",
                                    "3": "1824",
                                    "4": "0",
                                    "5": "0",
                                    "6": "0x00000000010C00000000001C9E400000000000809C40"
                                },
                                {
                                    "0": "92",
                                    "1": "Slc12a2",
                                    "2": "1811",
                                    "3": "1782",
                                    "4": "13.76819064",
                                    "5": "1",
                                    "6": "0x00000000010C00000000004C9C400000000000D89B40"
                                },
                                {
                                    "0": "93",
                                    "1": "Slc12a2",
                                    "2": "1829",
                                    "3": "1079",
                                    "4": "13.76819064",
                                    "5": "1",
                                    "6": "0x00000000010C0000000000949C400000000000DC9040"
                                },
                                {
                                    "0": "94",
                                    "1": "Slc12a2",
                                    "2": "1856",
                                    "3": "1780",
                                    "4": "13.76819064",
                                    "5": "1",
                                    "6": "0x00000000010C0000000000009D400000000000D09B40"
                                },
                                {
                                    "0": "95",
                                    "1": "Slc12a2",
                                    "2": "1861",
                                    "3": "1865",
                                    "4": "13.76819064",
                                    "5": "1",
                                    "6": "0x00000000010C0000000000149D400000000000249D40"
                                },
                                {
                                    "0": "96",
                                    "1": "Slc12a2",
                                    "2": "1898",
                                    "3": "1788",
                                    "4": "13.76819064",
                                    "5": "1",
                                    "6": "0x00000000010C0000000000A89D400000000000F09B40"
                                },
                                {
                                    "0": "97",
                                    "1": "Slc12a2",
                                    "2": "1939",
                                    "3": "1467",
                                    "4": "13.76819064",
                                    "5": "1",
                                    "6": "0x00000000010C00000000004C9E400000000000EC9640"
                                },
                                {
                                    "0": "98",
                                    "1": "Slc12a2",
                                    "2": "1711",
                                    "3": "1863",
                                    "4": "27.53638128",
                                    "5": "2",
                                    "6": "0x00000000010C0000000000BC9A4000000000001C9D40"
                                },
                                {
                                    "0": "99",
                                    "1": "Slc12a2",
                                    "2": "1724",
                                    "3": "1320",
                                    "4": "27.53638128",
                                    "5": "2",
                                    "6": "0x00000000010C0000000000F09A400000000000A09440"
                                },
                                {
                                    "0": "100",
                                    "1": "Slc12a2",
                                    "2": "1761",
                                    "3": "1793",
                                    "4": "27.53638128",
                                    "5": "2",
                                    "6": "0x00000000010C0000000000849B400000000000049C40"
                                }
                            ]
                        },
                        "text/html": [
                            "<table>",
                            "<tr><th>molecule_id</th><th>gene</th><th>x_pixel</th><th>y_pixel</th><th>z_pixel</th><th>z_layer</th><th>point</th></tr>",
                            "<tr><td>1</td><td>Maoa</td><td>1705</td><td>1271</td><td>0</td><td>0</td><td>0x00000000010C0000000000A49A400000000000DC9340</td></tr>",
                            "<tr><td>2</td><td>Maoa</td><td>1725</td><td>1922</td><td>0</td><td>0</td><td>0x00000000010C0000000000F49A400000000000089E40</td></tr>",
                            "<tr><td>3</td><td>Maoa</td><td>1753</td><td>1863</td><td>0</td><td>0</td><td>0x00000000010C0000000000649B4000000000001C9D40</td></tr>",
                            "<tr><td>4</td><td>Maoa</td><td>1760</td><td>1865</td><td>0</td><td>0</td><td>0x00000000010C0000000000809B400000000000249D40</td></tr>",
                            "<tr><td>5</td><td>Maoa</td><td>1904</td><td>794</td><td>0</td><td>0</td><td>0x00000000010C0000000000C09D400000000000D08840</td></tr>",
                            "<tr><td>6</td><td>Maoa</td><td>1915</td><td>1430</td><td>0</td><td>0</td><td>0x00000000010C0000000000EC9D400000000000589640</td></tr>",
                            "<tr><td>7</td><td>Maoa</td><td>1751</td><td>1873</td><td>13.76819064</td><td>1</td><td>0x00000000010C00000000005C9B400000000000449D40</td></tr>",
                            "<tr><td>8</td><td>Maoa</td><td>1780</td><td>1844</td><td>13.76819064</td><td>1</td><td>0x00000000010C0000000000D09B400000000000D09C40</td></tr>",
                            "<tr><td>9</td><td>Maoa</td><td>1816</td><td>995</td><td>13.76819064</td><td>1</td><td>0x00000000010C0000000000609C400000000000188F40</td></tr>",
                            "<tr><td>10</td><td>Maoa</td><td>1822</td><td>1232</td><td>13.76819064</td><td>1</td><td>0x00000000010C0000000000789C400000000000409340</td></tr>",
                            "<tr><td>11</td><td>Maoa</td><td>1880</td><td>1322</td><td>13.76819064</td><td>1</td><td>0x00000000010C0000000000609D400000000000A89440</td></tr>",
                            "<tr><td>12</td><td>Maoa</td><td>1604</td><td>1695</td><td>27.53638128</td><td>2</td><td>0x00000000010C000000000010994000000000007C9A40</td></tr>",
                            "<tr><td>13</td><td>Maoa</td><td>1652</td><td>1923</td><td>27.53638128</td><td>2</td><td>0x00000000010C0000000000D0994000000000000C9E40</td></tr>",
                            "<tr><td>14</td><td>Maoa</td><td>1735</td><td>1870</td><td>27.53638128</td><td>2</td><td>0x00000000010C00000000001C9B400000000000389D40</td></tr>",
                            "<tr><td>15</td><td>Maoa</td><td>1802</td><td>1843</td><td>27.53638128</td><td>2</td><td>0x00000000010C0000000000289C400000000000CC9C40</td></tr>",
                            "<tr><td>16</td><td>Maoa</td><td>1847</td><td>1711</td><td>27.53638128</td><td>2</td><td>0x00000000010C0000000000DC9C400000000000BC9A40</td></tr>",
                            "<tr><td>17</td><td>Maoa</td><td>1886</td><td>998</td><td>27.53638128</td><td>2</td><td>0x00000000010C0000000000789D400000000000308F40</td></tr>",
                            "<tr><td>18</td><td>Maoa</td><td>1928</td><td>1095</td><td>27.53638128</td><td>2</td><td>0x00000000010C0000000000209E4000000000001C9140</td></tr>",
                            "<tr><td>19</td><td>Maoa</td><td>1515</td><td>1859</td><td>41.30457192</td><td>3</td><td>0x00000000010C0000000000AC974000000000000C9D40</td></tr>",
                            "<tr><td>20</td><td>Maoa</td><td>1737</td><td>1171</td><td>41.30457192</td><td>3</td><td>0x00000000010C0000000000249B4000000000004C9240</td></tr>",
                            "<tr><td>21</td><td>Maoa</td><td>1775</td><td>1195</td><td>41.30457192</td><td>3</td><td>0x00000000010C0000000000BC9B400000000000AC9240</td></tr>",
                            "<tr><td>22</td><td>Maoa</td><td>1589</td><td>1814</td><td>55.07276256</td><td>4</td><td>0x00000000010C0000000000D498400000000000589C40</td></tr>",
                            "<tr><td>23</td><td>Maoa</td><td>1711</td><td>1229</td><td>55.07276256</td><td>4</td><td>0x00000000010C0000000000BC9A400000000000349340</td></tr>",
                            "<tr><td>24</td><td>Maoa</td><td>1781</td><td>1101</td><td>55.07276256</td><td>4</td><td>0x00000000010C0000000000D49B400000000000349140</td></tr>",
                            "<tr><td>25</td><td>Maoa</td><td>1788</td><td>1198</td><td>55.07276256</td><td>4</td><td>0x00000000010C0000000000F09B400000000000B89240</td></tr>",
                            "<tr><td>26</td><td>Maoa</td><td>1788</td><td>1906</td><td>55.07276256</td><td>4</td><td>0x00000000010C0000000000F09B400000000000C89D40</td></tr>",
                            "<tr><td>27</td><td>Maoa</td><td>1896</td><td>660</td><td>55.07276256</td><td>4</td><td>0x00000000010C0000000000A09D400000000000A08440</td></tr>",
                            "<tr><td>28</td><td>Maoa</td><td>1767</td><td>1898</td><td>68.8409532</td><td>5</td><td>0x00000000010C00000000009C9B400000000000A89D40</td></tr>",
                            "<tr><td>29</td><td>Hmgb2</td><td>1835</td><td>926</td><td>13.76819064</td><td>1</td><td>0x00000000010C0000000000AC9C400000000000F08C40</td></tr>",
                            "<tr><td>30</td><td>Hmgb2</td><td>1644</td><td>1696</td><td>27.53638128</td><td>2</td><td>0x00000000010C0000000000B099400000000000809A40</td></tr>",
                            "<tr><td>31</td><td>Hmgb2</td><td>1835</td><td>938</td><td>110.1455251</td><td>8</td><td>0x00000000010C0000000000AC9C400000000000508D40</td></tr>",
                            "<tr><td>32</td><td>Txndc5</td><td>1557</td><td>1641</td><td>0</td><td>0</td><td>0x00000000010C00000000005498400000000000A49940</td></tr>",
                            "<tr><td>33</td><td>Txndc5</td><td>1559</td><td>1832</td><td>0</td><td>0</td><td>0x00000000010C00000000005C98400000000000A09C40</td></tr>",
                            "<tr><td>34</td><td>Txndc5</td><td>1658</td><td>1663</td><td>0</td><td>0</td><td>0x00000000010C0000000000E899400000000000FC9940</td></tr>",
                            "<tr><td>35</td><td>Txndc5</td><td>1780</td><td>1873</td><td>0</td><td>0</td><td>0x00000000010C0000000000D09B400000000000449D40</td></tr>",
                            "<tr><td>36</td><td>Txndc5</td><td>1786</td><td>1440</td><td>0</td><td>0</td><td>0x00000000010C0000000000E89B400000000000809640</td></tr>",
                            "<tr><td>37</td><td>Txndc5</td><td>1814</td><td>944</td><td>0</td><td>0</td><td>0x00000000010C0000000000589C400000000000808D40</td></tr>",
                            "<tr><td>38</td><td>Txndc5</td><td>1828</td><td>1217</td><td>0</td><td>0</td><td>0x00000000010C0000000000909C400000000000049340</td></tr>",
                            "<tr><td>39</td><td>Txndc5</td><td>1834</td><td>1856</td><td>0</td><td>0</td><td>0x00000000010C0000000000A89C400000000000009D40</td></tr>",
                            "<tr><td>40</td><td>Txndc5</td><td>1682</td><td>1382</td><td>13.76819064</td><td>1</td><td>0x00000000010C0000000000489A400000000000989540</td></tr>",
                            "<tr><td>41</td><td>Txndc5</td><td>1745</td><td>1806</td><td>13.76819064</td><td>1</td><td>0x00000000010C0000000000449B400000000000389C40</td></tr>",
                            "<tr><td>42</td><td>Txndc5</td><td>1758</td><td>1793</td><td>13.76819064</td><td>1</td><td>0x00000000010C0000000000789B400000000000049C40</td></tr>",
                            "<tr><td>43</td><td>Txndc5</td><td>1807</td><td>943</td><td>13.76819064</td><td>1</td><td>0x00000000010C00000000003C9C400000000000788D40</td></tr>",
                            "<tr><td>44</td><td>Txndc5</td><td>1829</td><td>1714</td><td>13.76819064</td><td>1</td><td>0x00000000010C0000000000949C400000000000C89A40</td></tr>",
                            "<tr><td>45</td><td>Txndc5</td><td>1841</td><td>942</td><td>13.76819064</td><td>1</td><td>0x00000000010C0000000000C49C400000000000708D40</td></tr>",
                            "<tr><td>46</td><td>Txndc5</td><td>1860</td><td>1635</td><td>13.76819064</td><td>1</td><td>0x00000000010C0000000000109D4000000000008C9940</td></tr>",
                            "<tr><td>47</td><td>Txndc5</td><td>1755</td><td>1807</td><td>27.53638128</td><td>2</td><td>0x00000000010C00000000006C9B4000000000003C9C40</td></tr>",
                            "<tr><td>48</td><td>Txndc5</td><td>1773</td><td>1016</td><td>27.53638128</td><td>2</td><td>0x00000000010C0000000000B49B400000000000C08F40</td></tr>",
                            "<tr><td>49</td><td>Txndc5</td><td>1800</td><td>1252</td><td>27.53638128</td><td>2</td><td>0x00000000010C0000000000209C400000000000909340</td></tr>",
                            "<tr><td>50</td><td>Txndc5</td><td>1837</td><td>1852</td><td>27.53638128</td><td>2</td><td>0x00000000010C0000000000B49C400000000000F09C40</td></tr>",
                            "<tr><td>51</td><td>Txndc5</td><td>1866</td><td>1828</td><td>27.53638128</td><td>2</td><td>0x00000000010C0000000000289D400000000000909C40</td></tr>",
                            "<tr><td>52</td><td>Txndc5</td><td>1870</td><td>1196</td><td>27.53638128</td><td>2</td><td>0x00000000010C0000000000389D400000000000B09240</td></tr>",
                            "<tr><td>53</td><td>Txndc5</td><td>1935</td><td>872</td><td>27.53638128</td><td>2</td><td>0x00000000010C00000000003C9E400000000000408B40</td></tr>",
                            "<tr><td>54</td><td>Txndc5</td><td>1511</td><td>1865</td><td>41.30457192</td><td>3</td><td>0x00000000010C00000000009C97400000000000249D40</td></tr>",
                            "<tr><td>55</td><td>Txndc5</td><td>1519</td><td>1667</td><td>41.30457192</td><td>3</td><td>0x00000000010C0000000000BC974000000000000C9A40</td></tr>",
                            "<tr><td>56</td><td>Txndc5</td><td>1578</td><td>1572</td><td>41.30457192</td><td>3</td><td>0x00000000010C0000000000A898400000000000909840</td></tr>",
                            "<tr><td>57</td><td>Txndc5</td><td>1708</td><td>1224</td><td>41.30457192</td><td>3</td><td>0x00000000010C0000000000B09A400000000000209340</td></tr>",
                            "<tr><td>58</td><td>Txndc5</td><td>1740</td><td>1633</td><td>41.30457192</td><td>3</td><td>0x00000000010C0000000000309B400000000000849940</td></tr>",
                            "<tr><td>59</td><td>Txndc5</td><td>1814</td><td>1233</td><td>41.30457192</td><td>3</td><td>0x00000000010C0000000000589C400000000000449340</td></tr>",
                            "<tr><td>60</td><td>Txndc5</td><td>1877</td><td>1070</td><td>41.30457192</td><td>3</td><td>0x00000000010C0000000000549D400000000000B89040</td></tr>",
                            "<tr><td>61</td><td>Txndc5</td><td>1554</td><td>1606</td><td>55.07276256</td><td>4</td><td>0x00000000010C00000000004898400000000000189940</td></tr>",
                            "<tr><td>62</td><td>Txndc5</td><td>1566</td><td>1798</td><td>55.07276256</td><td>4</td><td>0x00000000010C00000000007898400000000000189C40</td></tr>",
                            "<tr><td>63</td><td>Txndc5</td><td>1702</td><td>1698</td><td>55.07276256</td><td>4</td><td>0x00000000010C0000000000989A400000000000889A40</td></tr>",
                            "<tr><td>64</td><td>Txndc5</td><td>1715</td><td>1191</td><td>55.07276256</td><td>4</td><td>0x00000000010C0000000000CC9A4000000000009C9240</td></tr>",
                            "<tr><td>65</td><td>Txndc5</td><td>1726</td><td>1206</td><td>55.07276256</td><td>4</td><td>0x00000000010C0000000000F89A400000000000D89240</td></tr>",
                            "<tr><td>66</td><td>Txndc5</td><td>1777</td><td>1151</td><td>55.07276256</td><td>4</td><td>0x00000000010C0000000000C49B400000000000FC9140</td></tr>",
                            "<tr><td>67</td><td>Txndc5</td><td>1795</td><td>922</td><td>55.07276256</td><td>4</td><td>0x00000000010C00000000000C9C400000000000D08C40</td></tr>",
                            "<tr><td>68</td><td>Txndc5</td><td>1847</td><td>881</td><td>55.07276256</td><td>4</td><td>0x00000000010C0000000000DC9C400000000000888B40</td></tr>",
                            "<tr><td>69</td><td>Txndc5</td><td>1861</td><td>922</td><td>55.07276256</td><td>4</td><td>0x00000000010C0000000000149D400000000000D08C40</td></tr>",
                            "<tr><td>70</td><td>Txndc5</td><td>1524</td><td>1840</td><td>68.8409532</td><td>5</td><td>0x00000000010C0000000000D097400000000000C09C40</td></tr>",
                            "<tr><td>71</td><td>Txndc5</td><td>1631</td><td>1603</td><td>68.8409532</td><td>5</td><td>0x00000000010C00000000007C994000000000000C9940</td></tr>",
                            "<tr><td>72</td><td>Txndc5</td><td>1807</td><td>985</td><td>68.8409532</td><td>5</td><td>0x00000000010C00000000003C9C400000000000C88E40</td></tr>",
                            "<tr><td>73</td><td>Txndc5</td><td>1830</td><td>1110</td><td>68.8409532</td><td>5</td><td>0x00000000010C0000000000989C400000000000589140</td></tr>",
                            "<tr><td>74</td><td>Txndc5</td><td>1858</td><td>1531</td><td>68.8409532</td><td>5</td><td>0x00000000010C0000000000089D400000000000EC9740</td></tr>",
                            "<tr><td>75</td><td>Txndc5</td><td>1899</td><td>1269</td><td>68.8409532</td><td>5</td><td>0x00000000010C0000000000AC9D400000000000D49340</td></tr>",
                            "<tr><td>76</td><td>Txndc5</td><td>1791</td><td>1107</td><td>82.60914384</td><td>6</td><td>0x00000000010C0000000000FC9B4000000000004C9140</td></tr>",
                            "<tr><td>77</td><td>Txndc5</td><td>1797</td><td>1144</td><td>82.60914384</td><td>6</td><td>0x00000000010C0000000000149C400000000000E09140</td></tr>",
                            "<tr><td>78</td><td>Txndc5</td><td>1827</td><td>1475</td><td>82.60914384</td><td>6</td><td>0x00000000010C00000000008C9C4000000000000C9740</td></tr>",
                            "<tr><td>79</td><td>Txndc5</td><td>1850</td><td>938</td><td>82.60914384</td><td>6</td><td>0x00000000010C0000000000E89C400000000000508D40</td></tr>",
                            "<tr><td>80</td><td>Txndc5</td><td>1827</td><td>1475</td><td>96.37733447</td><td>7</td><td>0x00000000010C00000000008C9C4000000000000C9740</td></tr>",
                            "<tr><td>81</td><td>Klk1</td><td>1683</td><td>1861</td><td>13.76819064</td><td>1</td><td>0x00000000010C00000000004C9A400000000000149D40</td></tr>",
                            "<tr><td>82</td><td>Klk1</td><td>1861</td><td>1590</td><td>82.60914384</td><td>6</td><td>0x00000000010C0000000000149D400000000000D89840</td></tr>",
                            "<tr><td>83</td><td>Slc12a2</td><td>1755</td><td>1731</td><td>0</td><td>0</td><td>0x00000000010C00000000006C9B4000000000000C9B40</td></tr>",
                            "<tr><td>84</td><td>Slc12a2</td><td>1761</td><td>1791</td><td>0</td><td>0</td><td>0x00000000010C0000000000849B400000000000FC9B40</td></tr>",
                            "<tr><td>85</td><td>Slc12a2</td><td>1777</td><td>1593</td><td>0</td><td>0</td><td>0x00000000010C0000000000C49B400000000000E49840</td></tr>",
                            "<tr><td>86</td><td>Slc12a2</td><td>1789</td><td>1705</td><td>0</td><td>0</td><td>0x00000000010C0000000000F49B400000000000A49A40</td></tr>",
                            "<tr><td>87</td><td>Slc12a2</td><td>1876</td><td>1822</td><td>0</td><td>0</td><td>0x00000000010C0000000000509D400000000000789C40</td></tr>",
                            "<tr><td>88</td><td>Slc12a2</td><td>1883</td><td>1765</td><td>0</td><td>0</td><td>0x00000000010C00000000006C9D400000000000949B40</td></tr>",
                            "<tr><td>89</td><td>Slc12a2</td><td>1893</td><td>1563</td><td>0</td><td>0</td><td>0x00000000010C0000000000949D4000000000006C9840</td></tr>",
                            "<tr><td>90</td><td>Slc12a2</td><td>1910</td><td>1472</td><td>0</td><td>0</td><td>0x00000000010C0000000000D89D400000000000009740</td></tr>",
                            "<tr><td>91</td><td>Slc12a2</td><td>1927</td><td>1824</td><td>0</td><td>0</td><td>0x00000000010C00000000001C9E400000000000809C40</td></tr>",
                            "<tr><td>92</td><td>Slc12a2</td><td>1811</td><td>1782</td><td>13.76819064</td><td>1</td><td>0x00000000010C00000000004C9C400000000000D89B40</td></tr>",
                            "<tr><td>93</td><td>Slc12a2</td><td>1829</td><td>1079</td><td>13.76819064</td><td>1</td><td>0x00000000010C0000000000949C400000000000DC9040</td></tr>",
                            "<tr><td>94</td><td>Slc12a2</td><td>1856</td><td>1780</td><td>13.76819064</td><td>1</td><td>0x00000000010C0000000000009D400000000000D09B40</td></tr>",
                            "<tr><td>95</td><td>Slc12a2</td><td>1861</td><td>1865</td><td>13.76819064</td><td>1</td><td>0x00000000010C0000000000149D400000000000249D40</td></tr>",
                            "<tr><td>96</td><td>Slc12a2</td><td>1898</td><td>1788</td><td>13.76819064</td><td>1</td><td>0x00000000010C0000000000A89D400000000000F09B40</td></tr>",
                            "<tr><td>97</td><td>Slc12a2</td><td>1939</td><td>1467</td><td>13.76819064</td><td>1</td><td>0x00000000010C00000000004C9E400000000000EC9640</td></tr>",
                            "<tr><td>98</td><td>Slc12a2</td><td>1711</td><td>1863</td><td>27.53638128</td><td>2</td><td>0x00000000010C0000000000BC9A4000000000001C9D40</td></tr>",
                            "<tr><td>99</td><td>Slc12a2</td><td>1724</td><td>1320</td><td>27.53638128</td><td>2</td><td>0x00000000010C0000000000F09A400000000000A09440</td></tr>",
                            "<tr><td>100</td><td>Slc12a2</td><td>1761</td><td>1793</td><td>27.53638128</td><td>2</td><td>0x00000000010C0000000000849B400000000000049C40</td></tr>",
                            "</table>"
                        ]
                    }
                }
            ],
            "execution_count": 65
        },
        {
            "cell_type": "markdown",
            "source": [
                "This looks good! Yay points and z layers as integers.\n",
                "\n",
                "Double checking that the z\\_layer matches up with z\\_pixel (fun fact: it didn't at first but now we fixed it)."
            ],
            "metadata": {
                "azdata_cell_guid": "8669e845-0a3a-4b7a-84b2-857638eb5539"
            },
            "attachments": {}
        },
        {
            "cell_type": "code",
            "source": [
                "SELECT COUNT(*), z_layer FROM MoleculesWithPoints \n",
                "GROUP BY z_layer\n",
                "ORDER BY z_layer asc;\n",
                "\n",
                "SELECT COUNT(*), z_pixel FROM MoleculesWithPoints \n",
                "GROUP BY z_pixel\n",
                "ORDER BY z_pixel asc;"
            ],
            "metadata": {
                "azdata_cell_guid": "cd28ff11-74b6-4d23-80a0-efd450d39ff1",
                "language": "sql"
            },
            "outputs": [
                {
                    "output_type": "display_data",
                    "data": {
                        "text/html": "(9 rows affected)"
                    },
                    "metadata": {}
                },
                {
                    "output_type": "display_data",
                    "data": {
                        "text/html": "(9 rows affected)"
                    },
                    "metadata": {}
                },
                {
                    "output_type": "display_data",
                    "data": {
                        "text/html": "Total execution time: 00:00:00.695"
                    },
                    "metadata": {}
                },
                {
                    "output_type": "execute_result",
                    "metadata": {},
                    "execution_count": 66,
                    "data": {
                        "application/vnd.dataresource+json": {
                            "schema": {
                                "fields": [
                                    {
                                        "name": "(No column name)"
                                    },
                                    {
                                        "name": "z_layer"
                                    }
                                ]
                            },
                            "data": [
                                {
                                    "0": "99672",
                                    "1": "0"
                                },
                                {
                                    "0": "108756",
                                    "1": "1"
                                },
                                {
                                    "0": "113329",
                                    "1": "2"
                                },
                                {
                                    "0": "112233",
                                    "1": "3"
                                },
                                {
                                    "0": "105632",
                                    "1": "4"
                                },
                                {
                                    "0": "93646",
                                    "1": "5"
                                },
                                {
                                    "0": "77545",
                                    "1": "6"
                                },
                                {
                                    "0": "61641",
                                    "1": "7"
                                },
                                {
                                    "0": "47211",
                                    "1": "8"
                                }
                            ]
                        },
                        "text/html": [
                            "<table>",
                            "<tr><th>(No column name)</th><th>z_layer</th></tr>",
                            "<tr><td>99672</td><td>0</td></tr>",
                            "<tr><td>108756</td><td>1</td></tr>",
                            "<tr><td>113329</td><td>2</td></tr>",
                            "<tr><td>112233</td><td>3</td></tr>",
                            "<tr><td>105632</td><td>4</td></tr>",
                            "<tr><td>93646</td><td>5</td></tr>",
                            "<tr><td>77545</td><td>6</td></tr>",
                            "<tr><td>61641</td><td>7</td></tr>",
                            "<tr><td>47211</td><td>8</td></tr>",
                            "</table>"
                        ]
                    }
                },
                {
                    "output_type": "execute_result",
                    "metadata": {},
                    "execution_count": 66,
                    "data": {
                        "application/vnd.dataresource+json": {
                            "schema": {
                                "fields": [
                                    {
                                        "name": "(No column name)"
                                    },
                                    {
                                        "name": "z_pixel"
                                    }
                                ]
                            },
                            "data": [
                                {
                                    "0": "99672",
                                    "1": "0"
                                },
                                {
                                    "0": "108756",
                                    "1": "13.76819064"
                                },
                                {
                                    "0": "113329",
                                    "1": "27.53638128"
                                },
                                {
                                    "0": "112233",
                                    "1": "41.30457192"
                                },
                                {
                                    "0": "105632",
                                    "1": "55.07276256"
                                },
                                {
                                    "0": "93646",
                                    "1": "68.8409532"
                                },
                                {
                                    "0": "77545",
                                    "1": "82.60914384"
                                },
                                {
                                    "0": "61641",
                                    "1": "96.37733447"
                                },
                                {
                                    "0": "47211",
                                    "1": "110.1455251"
                                }
                            ]
                        },
                        "text/html": [
                            "<table>",
                            "<tr><th>(No column name)</th><th>z_pixel</th></tr>",
                            "<tr><td>99672</td><td>0</td></tr>",
                            "<tr><td>108756</td><td>13.76819064</td></tr>",
                            "<tr><td>113329</td><td>27.53638128</td></tr>",
                            "<tr><td>112233</td><td>41.30457192</td></tr>",
                            "<tr><td>105632</td><td>55.07276256</td></tr>",
                            "<tr><td>93646</td><td>68.8409532</td></tr>",
                            "<tr><td>77545</td><td>82.60914384</td></tr>",
                            "<tr><td>61641</td><td>96.37733447</td></tr>",
                            "<tr><td>47211</td><td>110.1455251</td></tr>",
                            "</table>"
                        ]
                    }
                }
            ],
            "execution_count": 66
        },
        {
            "cell_type": "markdown",
            "source": [
                "# Creating a table with Polygon Geos"
            ],
            "metadata": {
                "azdata_cell_guid": "b5137915-3641-406e-a2a2-9dd99adf8f77"
            },
            "attachments": {}
        },
        {
            "cell_type": "markdown",
            "source": [
                "## Using results from python script"
            ],
            "metadata": {
                "azdata_cell_guid": "d09298fa-3510-48d0-a7d6-b347439ba381"
            },
            "attachments": {}
        },
        {
            "cell_type": "markdown",
            "source": [
                "Imagining that we have a table with just a column with polygons represented as strings\n",
                "\n",
                "z\\_index, cell, polygon\\_string"
            ],
            "metadata": {
                "azdata_cell_guid": "986869b1-5295-4cf5-96fb-5a0e80ac1295"
            },
            "attachments": {}
        },
        {
            "cell_type": "code",
            "source": [
                "USE MouseIleum;\n",
                "\n",
                "DROP TABLE IF EXISTS CellPolygons;\n",
                "CREATE TABLE CellPolygons (\n",
                "    id smallint, \n",
                "    z_index tinyint,\n",
                "    cell smallint,\n",
                "    polygon_string NVARCHAR(MAX)\n",
                ");\n",
                "\n",
                "BULK INSERT CellPolygons FROM '/var/data/processed_data/new_polygons.csv' WITH ( FIRSTROW = 2, FIELDTERMINATOR = ',');\n",
                "\n",
                "UPDATE MoleculesWithPoints\n",
                "    SET polygon = geometry::STGeomFromText(point_string, 0);\n",
                ""
            ],
            "metadata": {
                "azdata_cell_guid": "25b0e68e-4325-4d46-a9e9-7efbdbfd3eee",
                "language": "sql"
            },
            "outputs": [],
            "execution_count": null
        },
        {
            "cell_type": "markdown",
            "source": [
                "## Investigating validity of the raw polygon data"
            ],
            "metadata": {
                "language": "sql",
                "azdata_cell_guid": "b06c79e4-5c28-49e7-82c8-2b33de42c53d"
            },
            "attachments": {}
        },
        {
            "cell_type": "markdown",
            "source": [
                "Now going back to test how multipolygons and polygon validity work."
            ],
            "metadata": {
                "azdata_cell_guid": "56210e3d-8db9-4d9b-aafc-e32a0287e7a1"
            },
            "attachments": {}
        },
        {
            "cell_type": "code",
            "source": [
                "USE MouseIleum;\n",
                "SELECT * INTO LevelOneFirstCell\n",
                "    FROM [MouseIleum].[dbo].[Cells]\n",
                "    WHERE z = 1 AND cell = 1;"
            ],
            "metadata": {
                "azdata_cell_guid": "da50e4ac-c4e1-4ecf-ad74-f9f09e64570f",
                "language": "sql"
            },
            "outputs": [
                {
                    "output_type": "display_data",
                    "data": {
                        "text/html": "(103 rows affected)"
                    },
                    "metadata": {}
                },
                {
                    "output_type": "display_data",
                    "data": {
                        "text/html": "Total execution time: 00:00:00.262"
                    },
                    "metadata": {}
                }
            ],
            "execution_count": 67
        },
        {
            "cell_type": "code",
            "source": [
                "DECLARE @BuildString NVARCHAR(MAX);\n",
                "\n",
                "SELECT @BuildString = COALESCE(@BuildString + ',', '') + CAST([x] AS NVARCHAR(50)) + ' ' + CAST([y] AS NVARCHAR(50))\n",
                "    FROM [MouseIleum].[dbo].[LevelOneFirstCell];\n",
                "SET @BuildString = 'POLYGON((' + @BuildString + '))';\n",
                "\n",
                "DECLARE @PolygonFromPoints geometry = geometry::STPolyFromText(@BuildString, 0);\n",
                "-- SELECT @PolygonFromPoints.STIsValid() as is_valid; -- False\n",
                "SET @PolygonFromPoints = @PolygonFromPoints.MakeValid(); \n",
                "    \n",
                "SELECT @PolygonFromPoints.STIntersects(geometry::Point(2060, 20, 0)) -- point in the mother polygon\n",
                "SELECT @PolygonFromPoints.STIntersects(geometry::Point(2056, 55, 0)) -- point in the baby polygon"
            ],
            "metadata": {
                "azdata_cell_guid": "11096ab5-355c-4904-99a4-bcaf6957c055",
                "language": "sql"
            },
            "outputs": [
                {
                    "output_type": "display_data",
                    "data": {
                        "text/html": "(1 row affected)"
                    },
                    "metadata": {}
                },
                {
                    "output_type": "display_data",
                    "data": {
                        "text/html": "(1 row affected)"
                    },
                    "metadata": {}
                },
                {
                    "output_type": "display_data",
                    "data": {
                        "text/html": "Total execution time: 00:00:00.020"
                    },
                    "metadata": {}
                },
                {
                    "output_type": "execute_result",
                    "metadata": {},
                    "execution_count": 68,
                    "data": {
                        "application/vnd.dataresource+json": {
                            "schema": {
                                "fields": [
                                    {
                                        "name": "(No column name)"
                                    }
                                ]
                            },
                            "data": [
                                {
                                    "0": "1"
                                }
                            ]
                        },
                        "text/html": [
                            "<table>",
                            "<tr><th>(No column name)</th></tr>",
                            "<tr><td>1</td></tr>",
                            "</table>"
                        ]
                    }
                },
                {
                    "output_type": "execute_result",
                    "metadata": {},
                    "execution_count": 68,
                    "data": {
                        "application/vnd.dataresource+json": {
                            "schema": {
                                "fields": [
                                    {
                                        "name": "(No column name)"
                                    }
                                ]
                            },
                            "data": [
                                {
                                    "0": "1"
                                }
                            ]
                        },
                        "text/html": [
                            "<table>",
                            "<tr><th>(No column name)</th></tr>",
                            "<tr><td>1</td></tr>",
                            "</table>"
                        ]
                    }
                }
            ],
            "execution_count": 68
        },
        {
            "cell_type": "markdown",
            "source": [
                "Indeed intersection can work on both subpolygons. :)"
            ],
            "metadata": {
                "azdata_cell_guid": "f797e044-93cd-46a8-a16f-534c0d48c1c0"
            },
            "attachments": {}
        },
        {
            "cell_type": "code",
            "source": [
                "USE MouseIleum;\n",
                "SELECT * INTO LevelOneSecondCell\n",
                "    FROM [MouseIleum].[dbo].[Cells]\n",
                "    WHERE z = 1 AND cell = 2;"
            ],
            "metadata": {
                "azdata_cell_guid": "65b28fa0-c39f-483d-a80d-4479d8529800",
                "language": "sql"
            },
            "outputs": [
                {
                    "output_type": "display_data",
                    "data": {
                        "text/html": "(125 rows affected)"
                    },
                    "metadata": {}
                },
                {
                    "output_type": "display_data",
                    "data": {
                        "text/html": "Total execution time: 00:00:00.232"
                    },
                    "metadata": {}
                }
            ],
            "execution_count": 69
        },
        {
            "cell_type": "code",
            "source": [
                "DECLARE @BuildString NVARCHAR(MAX);\n",
                "\n",
                "SELECT @BuildString = COALESCE(@BuildString + ',', '') + CAST([x] AS NVARCHAR(50)) + ' ' + CAST([y] AS NVARCHAR(50))\n",
                "    FROM [MouseIleum].[dbo].[LevelOneSecondCell];\n",
                "SET @BuildString = 'POLYGON((' + @BuildString + '))';\n",
                "\n",
                "-- SELECT @BuildString as polygon_text -- 'POLYGON((2053 51,2053 54,2053 57,2056 57,2059 57, ... 2053 51))'\n",
                "\n",
                "\n",
                "DECLARE @PolygonFromPoints geometry = geometry::STPolyFromText(@BuildString, 0);\n",
                "SELECT @PolygonFromPoints.STIsValid() as is_valid; -- is it valid?\n",
                "SET @PolygonFromPoints = @PolygonFromPoints.MakeValid(); --optional for polygons which are already valid\n",
                "SELECT @PolygonFromPoints.STAsText();\n",
                ""
            ],
            "metadata": {
                "language": "sql",
                "azdata_cell_guid": "c3d5e714-fbdd-4664-8a2e-ee6b19cc18a2"
            },
            "outputs": [
                {
                    "output_type": "display_data",
                    "data": {
                        "text/html": "(1 row affected)"
                    },
                    "metadata": {}
                },
                {
                    "output_type": "display_data",
                    "data": {
                        "text/html": "(1 row affected)"
                    },
                    "metadata": {}
                },
                {
                    "output_type": "display_data",
                    "data": {
                        "text/html": "Total execution time: 00:00:00.024"
                    },
                    "metadata": {}
                },
                {
                    "output_type": "execute_result",
                    "metadata": {},
                    "execution_count": 75,
                    "data": {
                        "application/vnd.dataresource+json": {
                            "schema": {
                                "fields": [
                                    {
                                        "name": "is_valid"
                                    }
                                ]
                            },
                            "data": [
                                {
                                    "0": "1"
                                }
                            ]
                        },
                        "text/html": [
                            "<table>",
                            "<tr><th>is_valid</th></tr>",
                            "<tr><td>1</td></tr>",
                            "</table>"
                        ]
                    }
                },
                {
                    "output_type": "execute_result",
                    "metadata": {},
                    "execution_count": 75,
                    "data": {
                        "application/vnd.dataresource+json": {
                            "schema": {
                                "fields": [
                                    {
                                        "name": "(No column name)"
                                    }
                                ]
                            },
                            "data": [
                                {
                                    "0": "POLYGON ((2134 120, 2137 117, 2140 114, 2143 111, 2146 108, 2149 108, 2152 108, 2155 108, 2158 108, 2161 108, 2164 108, 2167 111, 2170 111, 2173 111, 2176 111, 2179 111, 2182 108, 2185 108, 2188 105, 2191 102, 2191 99, 2191 96, 2191 93, 2191 90, 2191 87, 2191 84, 2191 81, 2191 78, 2191 75, 2194 72, 2194 69, 2197 66, 2197 63, 2197 60, 2200 57, 2200 54, 2203 51, 2203 48, 2206 45, 2209 42, 2209 39, 2212 36, 2212 33, 2212 30, 2209 27, 2209 24, 2209 21, 2206 18, 2206 15, 2203 12, 2203 9, 2200 6, 2200 3, 2197 3, 2194 3, 2191 3, 2188 3, 2185 3, 2182 3, 2179 3, 2176 3, 2173 3, 2170 3, 2167 3, 2164 3, 2161 3, 2158 3, 2155 3, 2152 3, 2149 3, 2146 3, 2143 3, 2140 3, 2137 3, 2134 3, 2131 3, 2128 3, 2125 3, 2122 3, 2122 6, 2122 9, 2122 12, 2119 15, 2119 18, 2116 21, 2113 21, 2110 24, 2107 24, 2104 27, 2101 27, 2098 30, 2095 33, 2092 36, 2089 39, 2089 42, 2092 45, 2095 48, 2098 51, 2101 54, 2104 57, 2107 60, 2107 63, 2110 66, 2110 69, 2113 72, 2113 75, 2116 78, 2116 81, 2116 84, 2119 87, 2119 90, 2119 93, 2119 96, 2119 99, 2119 102, 2119 105, 2116 108, 2116 111, 2116 114, 2119 117, 2122 120, 2125 123, 2128 123, 2131 123, 2134 120))"
                                }
                            ]
                        },
                        "text/html": [
                            "<table>",
                            "<tr><th>(No column name)</th></tr>",
                            "<tr><td>POLYGON ((2134 120, 2137 117, 2140 114, 2143 111, 2146 108, 2149 108, 2152 108, 2155 108, 2158 108, 2161 108, 2164 108, 2167 111, 2170 111, 2173 111, 2176 111, 2179 111, 2182 108, 2185 108, 2188 105, 2191 102, 2191 99, 2191 96, 2191 93, 2191 90, 2191 87, 2191 84, 2191 81, 2191 78, 2191 75, 2194 72, 2194 69, 2197 66, 2197 63, 2197 60, 2200 57, 2200 54, 2203 51, 2203 48, 2206 45, 2209 42, 2209 39, 2212 36, 2212 33, 2212 30, 2209 27, 2209 24, 2209 21, 2206 18, 2206 15, 2203 12, 2203 9, 2200 6, 2200 3, 2197 3, 2194 3, 2191 3, 2188 3, 2185 3, 2182 3, 2179 3, 2176 3, 2173 3, 2170 3, 2167 3, 2164 3, 2161 3, 2158 3, 2155 3, 2152 3, 2149 3, 2146 3, 2143 3, 2140 3, 2137 3, 2134 3, 2131 3, 2128 3, 2125 3, 2122 3, 2122 6, 2122 9, 2122 12, 2119 15, 2119 18, 2116 21, 2113 21, 2110 24, 2107 24, 2104 27, 2101 27, 2098 30, 2095 33, 2092 36, 2089 39, 2089 42, 2092 45, 2095 48, 2098 51, 2101 54, 2104 57, 2107 60, 2107 63, 2110 66, 2110 69, 2113 72, 2113 75, 2116 78, 2116 81, 2116 84, 2119 87, 2119 90, 2119 93, 2119 96, 2119 99, 2119 102, 2119 105, 2116 108, 2116 111, 2116 114, 2119 117, 2122 120, 2125 123, 2128 123, 2131 123, 2134 120))</td></tr>",
                            "</table>"
                        ]
                    }
                }
            ],
            "execution_count": 75
        },
        {
            "cell_type": "markdown",
            "source": [
                "This is the naive approach.\n",
                "\n",
                "Maybe we can try to do it a few times at once, in temporary tables (still being naive)..."
            ],
            "metadata": {
                "language": "sql",
                "azdata_cell_guid": "783d2aa1-5057-4eb6-bf2e-abba089bb620"
            },
            "attachments": {}
        },
        {
            "cell_type": "code",
            "source": [
                "USE MouseIleum;\n",
                "DROP TABLE IF EXISTS #LevelOneThirdCell, #LevelTwoThirdCell, #LevelThreeThirdCell, #LevelFourThirdCell;\n",
                "SELECT * INTO #LevelOneThirdCell\n",
                "    FROM [MouseIleum].[dbo].[Cells]\n",
                "    WHERE z = 1 AND cell = 3;\n",
                "SELECT * INTO #LevelTwoThirdCell\n",
                "    FROM [MouseIleum].[dbo].[Cells]\n",
                "    WHERE z = 2 AND cell = 3;\n",
                "SELECT * INTO #LevelThreeThirdCell\n",
                "    FROM [MouseIleum].[dbo].[Cells]\n",
                "    WHERE z = 3 AND cell = 3;\n",
                "SELECT * INTO #LevelFourThirdCell\n",
                "    FROM [MouseIleum].[dbo].[Cells]\n",
                "    WHERE z = 4 AND cell = 3;\n",
                "\n",
                "DECLARE @BuildString13 NVARCHAR(MAX);\n",
                "\n",
                "SELECT @BuildString13 = COALESCE(@BuildString13 + ',', '') + CAST([x] AS NVARCHAR(50)) + ' ' + CAST([y] AS NVARCHAR(50))\n",
                "    FROM #LevelOneThirdCell;\n",
                "SET @BuildString13 = 'POLYGON((' + @BuildString13 + '))';\n",
                "\n",
                "DECLARE @PolygonFromPoints13 geometry = geometry::STPolyFromText(@BuildString13, 0);\n",
                "-- SELECT @PolygonFromPoints13.STIsValid() as is_valid13; -- is it valid?\n",
                "SET @PolygonFromPoints13 = @PolygonFromPoints13.MakeValid(); --optional for polygons which are already valid\n",
                "SELECT @PolygonFromPoints13.STAsText();\n",
                "\n",
                "DECLARE @BuildString23 NVARCHAR(MAX);\n",
                "\n",
                "SELECT @BuildString23 = COALESCE(@BuildString23 + ',', '') + CAST([x] AS NVARCHAR(50)) + ' ' + CAST([y] AS NVARCHAR(50))\n",
                "    FROM #LevelTwoThirdCell;\n",
                "SET @BuildString23 = 'POLYGON((' + @BuildString23 + '))';\n",
                "\n",
                "DECLARE @PolygonFromPoints23 geometry = geometry::STPolyFromText(@BuildString23, 0);\n",
                "-- SELECT @PolygonFromPoints23.STIsValid() as is_valid23; -- is it valid?\n",
                "SET @PolygonFromPoints23 = @PolygonFromPoints23.MakeValid(); --optional for polygons which are already valid\n",
                "SELECT @PolygonFromPoints23.STAsText();\n",
                "\n",
                "DECLARE @BuildString33 NVARCHAR(MAX);\n",
                "\n",
                "SELECT @BuildString33 = COALESCE(@BuildString33 + ',', '') + CAST([x] AS NVARCHAR(50)) + ' ' + CAST([y] AS NVARCHAR(50))\n",
                "    FROM #LevelThreeThirdCell;\n",
                "SET @BuildString33 = 'POLYGON((' + @BuildString33 + '))';\n",
                "\n",
                "-- SELECT @BuildString33;\n",
                "\n",
                "DECLARE @PolygonFromPoints33 geometry = geometry::STPolyFromText(@BuildString33, 0);\n",
                "-- SELECT @PolygonFromPoints33.STIsValid() as is_valid33; -- is it valid?\n",
                "SET @PolygonFromPoints33 = @PolygonFromPoints33.MakeValid(); --optional for polygons which are already valid\n",
                "SELECT @PolygonFromPoints33.STAsText();\n",
                "\n",
                "DECLARE @BuildString43 NVARCHAR(MAX);\n",
                "\n",
                "SELECT @BuildString43 = COALESCE(@BuildString43 + ',', '') + CAST([x] AS NVARCHAR(50)) + ' ' + CAST([y] AS NVARCHAR(50))\n",
                "    FROM #LevelFourThirdCell;\n",
                "SET @BuildString43 = 'POLYGON((' + @BuildString43 + '))';\n",
                "\n",
                "-- SELECT @BuildString43;\n",
                "\n",
                "DECLARE @PolygonFromPoints43 geometry = geometry::STPolyFromText(@BuildString43, 0);\n",
                "-- SELECT @PolygonFromPoints43.STIsValid() as is_valid43; -- is it valid?\n",
                "SET @PolygonFromPoints43 = @PolygonFromPoints43.MakeValid(); --optional for polygons which are already valid\n",
                "SELECT @PolygonFromPoints43.STAsText();\n",
                "\n",
                "\n",
                "SELECT @PolygonFromPoints13.STIsValid() as is_valid13, @PolygonFromPoints23.STIsValid() as is_valid23, @PolygonFromPoints33.STIsValid() as is_valid33, @PolygonFromPoints43.STIsValid() as is_valid43; -- are they valid?"
            ],
            "metadata": {
                "language": "sql",
                "azdata_cell_guid": "198478fc-5c47-4087-a3b7-6ea1f21623aa"
            },
            "outputs": [
                {
                    "output_type": "display_data",
                    "data": {
                        "text/html": "(9 rows affected)"
                    },
                    "metadata": {}
                },
                {
                    "output_type": "display_data",
                    "data": {
                        "text/html": "(111 rows affected)"
                    },
                    "metadata": {}
                },
                {
                    "output_type": "display_data",
                    "data": {
                        "text/html": "(103 rows affected)"
                    },
                    "metadata": {}
                },
                {
                    "output_type": "display_data",
                    "data": {
                        "text/html": "(119 rows affected)"
                    },
                    "metadata": {}
                },
                {
                    "output_type": "display_data",
                    "data": {
                        "text/html": "(1 row affected)"
                    },
                    "metadata": {}
                },
                {
                    "output_type": "display_data",
                    "data": {
                        "text/html": "(1 row affected)"
                    },
                    "metadata": {}
                },
                {
                    "output_type": "display_data",
                    "data": {
                        "text/html": "(1 row affected)"
                    },
                    "metadata": {}
                },
                {
                    "output_type": "display_data",
                    "data": {
                        "text/html": "(1 row affected)"
                    },
                    "metadata": {}
                },
                {
                    "output_type": "display_data",
                    "data": {
                        "text/html": "(1 row affected)"
                    },
                    "metadata": {}
                },
                {
                    "output_type": "display_data",
                    "data": {
                        "text/html": "Total execution time: 00:00:00.563"
                    },
                    "metadata": {}
                },
                {
                    "output_type": "execute_result",
                    "metadata": {},
                    "execution_count": 81,
                    "data": {
                        "application/vnd.dataresource+json": {
                            "schema": {
                                "fields": [
                                    {
                                        "name": "(No column name)"
                                    }
                                ]
                            },
                            "data": [
                                {
                                    "0": "POLYGON ((2134 135, 2134 132, 2134 129, 2131 129, 2128 129, 2128 132, 2128 135, 2131 135, 2134 135))"
                                }
                            ]
                        },
                        "text/html": [
                            "<table>",
                            "<tr><th>(No column name)</th></tr>",
                            "<tr><td>POLYGON ((2134 135, 2134 132, 2134 129, 2131 129, 2128 129, 2128 132, 2128 135, 2131 135, 2134 135))</td></tr>",
                            "</table>"
                        ]
                    }
                },
                {
                    "output_type": "execute_result",
                    "metadata": {},
                    "execution_count": 81,
                    "data": {
                        "application/vnd.dataresource+json": {
                            "schema": {
                                "fields": [
                                    {
                                        "name": "(No column name)"
                                    }
                                ]
                            },
                            "data": [
                                {
                                    "0": "POLYGON ((2104 135, 2107 135, 2110 135, 2113 135, 2116 135, 2116 132, 2116 129, 2116 126, 2119 123, 2122 123, 2125 120, 2128 117, 2128 114, 2128 111, 2128 108, 2125 105, 2125 102, 2122 99, 2122 96, 2122 93, 2119 90, 2119 87, 2119 84, 2119 81, 2116 78, 2116 75, 2113 72, 2110 69, 2107 66, 2104 63, 2101 63, 2098 60, 2098 57, 2095 54, 2095 51, 2095 48, 2095 45, 2095 42, 2092 39, 2089 39, 2086 39, 2083 42, 2080 42, 2077 45, 2074 48, 2071 48, 2068 48, 2065 51, 2062 51, 2059 51, 2056 51, 2053 54, 2050 54, 2047 57, 2044 57, 2041 57, 2038 57, 2035 57, 2032 57, 2029 60, 2026 60, 2023 60, 2020 60, 2017 60, 2014 63, 2014 66, 2011 69, 2011 72, 2011 75, 2011 78, 2011 81, 2011 84, 2011 87, 2011 90, 2011 93, 2011 96, 2011 99, 2011 102, 2014 102, 2017 102, 2020 102, 2023 105, 2026 108, 2029 111, 2029 114, 2032 117, 2035 120, 2038 123, 2038 126, 2041 126, 2044 126, 2047 126, 2050 123, 2053 123, 2056 123, 2059 123, 2062 123, 2065 123, 2068 123, 2071 123, 2074 123, 2077 126, 2080 126, 2083 126, 2086 129, 2089 129, 2092 129, 2095 132, 2098 132, 2101 132, 2104 135))"
                                }
                            ]
                        },
                        "text/html": [
                            "<table>",
                            "<tr><th>(No column name)</th></tr>",
                            "<tr><td>POLYGON ((2104 135, 2107 135, 2110 135, 2113 135, 2116 135, 2116 132, 2116 129, 2116 126, 2119 123, 2122 123, 2125 120, 2128 117, 2128 114, 2128 111, 2128 108, 2125 105, 2125 102, 2122 99, 2122 96, 2122 93, 2119 90, 2119 87, 2119 84, 2119 81, 2116 78, 2116 75, 2113 72, 2110 69, 2107 66, 2104 63, 2101 63, 2098 60, 2098 57, 2095 54, 2095 51, 2095 48, 2095 45, 2095 42, 2092 39, 2089 39, 2086 39, 2083 42, 2080 42, 2077 45, 2074 48, 2071 48, 2068 48, 2065 51, 2062 51, 2059 51, 2056 51, 2053 54, 2050 54, 2047 57, 2044 57, 2041 57, 2038 57, 2035 57, 2032 57, 2029 60, 2026 60, 2023 60, 2020 60, 2017 60, 2014 63, 2014 66, 2011 69, 2011 72, 2011 75, 2011 78, 2011 81, 2011 84, 2011 87, 2011 90, 2011 93, 2011 96, 2011 99, 2011 102, 2014 102, 2017 102, 2020 102, 2023 105, 2026 108, 2029 111, 2029 114, 2032 117, 2035 120, 2038 123, 2038 126, 2041 126, 2044 126, 2047 126, 2050 123, 2053 123, 2056 123, 2059 123, 2062 123, 2065 123, 2068 123, 2071 123, 2074 123, 2077 126, 2080 126, 2083 126, 2086 129, 2089 129, 2092 129, 2095 132, 2098 132, 2101 132, 2104 135))</td></tr>",
                            "</table>"
                        ]
                    }
                },
                {
                    "output_type": "execute_result",
                    "metadata": {},
                    "execution_count": 81,
                    "data": {
                        "application/vnd.dataresource+json": {
                            "schema": {
                                "fields": [
                                    {
                                        "name": "(No column name)"
                                    }
                                ]
                            },
                            "data": [
                                {
                                    "0": "POLYGON ((2098 126, 2095 126, 2092 126, 2089 126, 2086 126, 2083 123, 2080 123, 2077 123, 2074 123, 2071 123, 2068 123, 2065 123, 2062 123, 2059 123, 2056 123, 2053 123, 2050 123, 2047 123, 2044 123, 2041 123, 2038 123, 2035 123, 2035 120, 2032 117, 2032 114, 2029 111, 2029 108, 2026 105, 2023 102, 2020 99, 2020 96, 2017 93, 2017 90, 2014 87, 2014 84, 2014 81, 2014 78, 2014 75, 2014 72, 2014 69, 2014 66, 2014 63, 2014 60, 2014 57, 2017 57, 2020 57, 2023 57, 2026 57, 2029 54, 2032 54, 2035 54, 2038 51, 2041 51, 2044 51, 2047 51, 2050 48, 2053 48, 2056 48, 2059 45, 2062 45, 2065 45, 2068 45, 2071 42, 2074 42, 2077 42, 2080 42, 2083 42, 2086 39, 2089 39, 2092 39, 2095 39, 2095 42, 2095 45, 2095 48, 2095 51, 2095 54, 2095 57, 2098 60, 2101 63, 2104 66, 2107 66, 2110 69, 2113 72, 2116 72, 2116 75, 2119 78, 2119 81, 2119 84, 2119 87, 2116 90, 2116 93, 2116 96, 2116 99, 2116 102, 2116 105, 2116 108, 2116 111, 2113 114, 2110 117, 2107 120, 2104 123, 2101 123, 2098 126))"
                                }
                            ]
                        },
                        "text/html": [
                            "<table>",
                            "<tr><th>(No column name)</th></tr>",
                            "<tr><td>POLYGON ((2098 126, 2095 126, 2092 126, 2089 126, 2086 126, 2083 123, 2080 123, 2077 123, 2074 123, 2071 123, 2068 123, 2065 123, 2062 123, 2059 123, 2056 123, 2053 123, 2050 123, 2047 123, 2044 123, 2041 123, 2038 123, 2035 123, 2035 120, 2032 117, 2032 114, 2029 111, 2029 108, 2026 105, 2023 102, 2020 99, 2020 96, 2017 93, 2017 90, 2014 87, 2014 84, 2014 81, 2014 78, 2014 75, 2014 72, 2014 69, 2014 66, 2014 63, 2014 60, 2014 57, 2017 57, 2020 57, 2023 57, 2026 57, 2029 54, 2032 54, 2035 54, 2038 51, 2041 51, 2044 51, 2047 51, 2050 48, 2053 48, 2056 48, 2059 45, 2062 45, 2065 45, 2068 45, 2071 42, 2074 42, 2077 42, 2080 42, 2083 42, 2086 39, 2089 39, 2092 39, 2095 39, 2095 42, 2095 45, 2095 48, 2095 51, 2095 54, 2095 57, 2098 60, 2101 63, 2104 66, 2107 66, 2110 69, 2113 72, 2116 72, 2116 75, 2119 78, 2119 81, 2119 84, 2119 87, 2116 90, 2116 93, 2116 96, 2116 99, 2116 102, 2116 105, 2116 108, 2116 111, 2113 114, 2110 117, 2107 120, 2104 123, 2101 123, 2098 126))</td></tr>",
                            "</table>"
                        ]
                    }
                },
                {
                    "output_type": "execute_result",
                    "metadata": {},
                    "execution_count": 81,
                    "data": {
                        "application/vnd.dataresource+json": {
                            "schema": {
                                "fields": [
                                    {
                                        "name": "(No column name)"
                                    }
                                ]
                            },
                            "data": [
                                {
                                    "0": "POLYGON ((2050 138, 2047 138, 2047 135, 2044 132, 2041 132, 2038 129, 2035 129, 2032 126, 2029 123, 2026 120, 2023 117, 2020 114, 2020 111, 2017 108, 2017 105, 2017 102, 2017 99, 2017 96, 2017 93, 2017 90, 2017 87, 2017 84, 2017 81, 2017 78, 2017 75, 2017 72, 2017 69, 2017 66, 2020 66, 2023 63, 2023 60, 2026 57, 2029 54, 2029 51, 2029 48, 2032 45, 2032 42, 2035 42, 2038 42, 2041 42, 2044 42, 2047 42, 2050 42, 2053 39, 2056 39, 2059 39, 2062 39, 2065 36, 2068 33, 2071 33, 2074 30, 2077 30, 2080 30, 2083 30, 2086 33, 2089 33, 2092 33, 2095 33, 2098 30, 2101 30, 2104 27, 2107 27, 2110 27, 2113 24, 2116 27, 2116 30, 2116 33, 2116 36, 2113 39, 2113 42, 2110 42, 2107 45, 2104 48, 2104 51, 2101 54, 2101 57, 2101 60, 2104 63, 2107 66, 2110 66, 2113 69, 2116 69, 2119 72, 2122 72, 2125 75, 2125 78, 2125 81, 2125 84, 2125 87, 2122 90, 2122 93, 2119 96, 2119 99, 2119 102, 2119 105, 2116 105, 2113 108, 2110 108, 2107 111, 2104 114, 2104 117, 2101 120, 2098 123, 2095 126, 2092 129, 2089 129, 2086 132, 2083 132, 2080 132, 2077 132, 2074 132, 2071 135, 2068 135, 2065 135, 2062 135, 2059 135, 2056 135, 2053 135, 2050 138))"
                                }
                            ]
                        },
                        "text/html": [
                            "<table>",
                            "<tr><th>(No column name)</th></tr>",
                            "<tr><td>POLYGON ((2050 138, 2047 138, 2047 135, 2044 132, 2041 132, 2038 129, 2035 129, 2032 126, 2029 123, 2026 120, 2023 117, 2020 114, 2020 111, 2017 108, 2017 105, 2017 102, 2017 99, 2017 96, 2017 93, 2017 90, 2017 87, 2017 84, 2017 81, 2017 78, 2017 75, 2017 72, 2017 69, 2017 66, 2020 66, 2023 63, 2023 60, 2026 57, 2029 54, 2029 51, 2029 48, 2032 45, 2032 42, 2035 42, 2038 42, 2041 42, 2044 42, 2047 42, 2050 42, 2053 39, 2056 39, 2059 39, 2062 39, 2065 36, 2068 33, 2071 33, 2074 30, 2077 30, 2080 30, 2083 30, 2086 33, 2089 33, 2092 33, 2095 33, 2098 30, 2101 30, 2104 27, 2107 27, 2110 27, 2113 24, 2116 27, 2116 30, 2116 33, 2116 36, 2113 39, 2113 42, 2110 42, 2107 45, 2104 48, 2104 51, 2101 54, 2101 57, 2101 60, 2104 63, 2107 66, 2110 66, 2113 69, 2116 69, 2119 72, 2122 72, 2125 75, 2125 78, 2125 81, 2125 84, 2125 87, 2122 90, 2122 93, 2119 96, 2119 99, 2119 102, 2119 105, 2116 105, 2113 108, 2110 108, 2107 111, 2104 114, 2104 117, 2101 120, 2098 123, 2095 126, 2092 129, 2089 129, 2086 132, 2083 132, 2080 132, 2077 132, 2074 132, 2071 135, 2068 135, 2065 135, 2062 135, 2059 135, 2056 135, 2053 135, 2050 138))</td></tr>",
                            "</table>"
                        ]
                    }
                },
                {
                    "output_type": "execute_result",
                    "metadata": {},
                    "execution_count": 81,
                    "data": {
                        "application/vnd.dataresource+json": {
                            "schema": {
                                "fields": [
                                    {
                                        "name": "is_valid13"
                                    },
                                    {
                                        "name": "is_valid23"
                                    },
                                    {
                                        "name": "is_valid33"
                                    },
                                    {
                                        "name": "is_valid43"
                                    }
                                ]
                            },
                            "data": [
                                {
                                    "0": "1",
                                    "1": "1",
                                    "2": "1",
                                    "3": "1"
                                }
                            ]
                        },
                        "text/html": [
                            "<table>",
                            "<tr><th>is_valid13</th><th>is_valid23</th><th>is_valid33</th><th>is_valid43</th></tr>",
                            "<tr><td>1</td><td>1</td><td>1</td><td>1</td></tr>",
                            "</table>"
                        ]
                    }
                }
            ],
            "execution_count": 81
        },
        {
            "cell_type": "markdown",
            "source": [
                "So this is kinda silly, but it goes to show that of the 6 polygons we've looked at so far, only z=1, cell=1 is invalid."
            ],
            "metadata": {
                "azdata_cell_guid": "51afb5ad-bb98-4e7d-88c2-71af90119b0a"
            },
            "attachments": {}
        }
    ]
}